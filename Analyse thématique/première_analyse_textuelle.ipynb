{
 "cells": [
  {
   "cell_type": "code",
   "execution_count": 3,
   "metadata": {},
   "outputs": [
    {
     "name": "stderr",
     "output_type": "stream",
     "text": [
      "\n",
      "[notice] A new release of pip is available: 23.2.1 -> 23.3.2\n",
      "[notice] To update, run: C:\\Users\\pourt\\AppData\\Local\\Microsoft\\WindowsApps\\PythonSoftwareFoundation.Python.3.11_qbz5n2kfra8p0\\python.exe -m pip install --upgrade pip\n"
     ]
    },
    {
     "name": "stdout",
     "output_type": "stream",
     "text": [
      "Requirement already satisfied: scikit-learn in c:\\users\\pourt\\appdata\\local\\packages\\pythonsoftwarefoundation.python.3.11_qbz5n2kfra8p0\\localcache\\local-packages\\python311\\site-packages (1.3.2)\n",
      "Requirement already satisfied: numpy<2.0,>=1.17.3 in c:\\users\\pourt\\appdata\\local\\packages\\pythonsoftwarefoundation.python.3.11_qbz5n2kfra8p0\\localcache\\local-packages\\python311\\site-packages (from scikit-learn) (1.26.2)\n",
      "Requirement already satisfied: scipy>=1.5.0 in c:\\users\\pourt\\appdata\\local\\packages\\pythonsoftwarefoundation.python.3.11_qbz5n2kfra8p0\\localcache\\local-packages\\python311\\site-packages (from scikit-learn) (1.11.4)\n",
      "Requirement already satisfied: joblib>=1.1.1 in c:\\users\\pourt\\appdata\\local\\packages\\pythonsoftwarefoundation.python.3.11_qbz5n2kfra8p0\\localcache\\local-packages\\python311\\site-packages (from scikit-learn) (1.3.2)\n",
      "Requirement already satisfied: threadpoolctl>=2.0.0 in c:\\users\\pourt\\appdata\\local\\packages\\pythonsoftwarefoundation.python.3.11_qbz5n2kfra8p0\\localcache\\local-packages\\python311\\site-packages (from scikit-learn) (3.2.0)\n"
     ]
    }
   ],
   "source": [
    "!pip install scikit-learn\n",
    "from sklearn.feature_extraction.text import CountVectorizer"
   ]
  },
  {
   "cell_type": "markdown",
   "metadata": {},
   "source": [
    "# Vectorisation des textes du corpus à l'aide d'une approche \"bag of words\" \n"
   ]
  },
  {
   "cell_type": "markdown",
   "metadata": {},
   "source": [
    "Pour débuter l'analyse des textes du corpus, il est nécessaire de vectoriser ces textes. Pour ce faire, nous utilisons une approche \"bag of words\"."
   ]
  },
  {
   "cell_type": "code",
   "execution_count": 7,
   "metadata": {},
   "outputs": [],
   "source": [
    "def vectorisation_bag_of_words(corpus):\n",
    "    \"\"\"\n",
    "    Vectorise un corpus de texte avec l'approche Bag of Words.\n",
    "\n",
    "    Arguments:\n",
    "    - corpus (list): Une liste de chaînes de texte.\n",
    "\n",
    "    Sortie:\n",
    "    - tuple: (Matrice BoW, Liste des mots)\n",
    "    \"\"\"\n",
    "    # Initialiser le CountVectorizer\n",
    "    vectoriseur = CountVectorizer()\n",
    "\n",
    "    # Appliquer le CountVectorizer sur le corpus\n",
    "    matrice_bow = vectoriseur.fit_transform(corpus)\n",
    "\n",
    "    # Liste des mots (caractéristiques)\n",
    "    mots = vectoriseur.get_feature_names_out()\n",
    "\n",
    "    return matrice_bow, mots"
   ]
  },
  {
   "cell_type": "markdown",
   "metadata": {},
   "source": [
    "# Regrouper les textes d'un corpus en cluster\n"
   ]
  },
  {
   "cell_type": "markdown",
   "metadata": {},
   "source": [
    "Une fois les textes du corpus vectorisés, on cherche à les classer selon leur thématiques. Pour celà on applique la méthode des k-means."
   ]
  },
  {
   "cell_type": "code",
   "execution_count": 8,
   "metadata": {},
   "outputs": [],
   "source": [
    "from sklearn.cluster import KMeans\n",
    "from scipy.sparse import csr_matrix\n",
    "\n",
    "def clustering_kmeans_lignes(matrice_sparse, nombre_clusters):\n",
    "    \"\"\"\n",
    "    Effectue le clustering des lignes d'une matrice sparse avec la méthode des k-means.\n",
    "\n",
    "    Arguments:\n",
    "    - matrice_sparse (scipy.sparse.csr_matrix): Matrice sparse.\n",
    "    - nombre_clusters (int): Nombre de clusters à former.\n",
    "\n",
    "    Sortie:\n",
    "    - numpy.ndarray: Tableau des étiquettes de cluster pour chaque texte du corpus.\n",
    "    \"\"\"\n",
    "    if not isinstance(matrice_sparse, csr_matrix):\n",
    "        raise ValueError(\"La matrice doit être au format csr_matrix.\")\n",
    "\n",
    "\n",
    "    # Appliquer la méthode des k-means\n",
    "    kmeans = KMeans(n_clusters=nombre_clusters, random_state=42)\n",
    "    etiquettes_clusters = kmeans.fit_predict(matrice_sparse)\n",
    "\n",
    "    return etiquettes_clusters"
   ]
  },
  {
   "cell_type": "markdown",
   "metadata": {},
   "source": [
    "# Analyse en composante principale et représentation graphique"
   ]
  },
  {
   "cell_type": "markdown",
   "metadata": {},
   "source": [
    "Afin de pouvoir visualiser les données, nous effecturons une analyse en composante principale (ACP) de manière à construire un espace vectoriel de plus petite dimension sur lequel projetter les données. De cette manière, nous pourrons construire un espace vectoriel à 2 dimensions sur lequel représenter graphiquement les données\n"
   ]
  },
  {
   "cell_type": "code",
   "execution_count": 25,
   "metadata": {},
   "outputs": [],
   "source": [
    "from sklearn.decomposition import TruncatedSVD\n",
    "from scipy.sparse import csr_matrix\n",
    "import pandas as pd\n",
    "\n",
    "def pca_on_sparse_matrix(sparse_matrix, num_components=2):\n",
    "    \"\"\"\n",
    "    Perform Principal Component Analysis (PCA) on a sparse matrix.\n",
    "\n",
    "    Args:\n",
    "    - sparse_matrix (scipy.sparse.csr_matrix): Sparse matrix representing a set of points.\n",
    "    - num_components (int): Number of principal components to retain.\n",
    "\n",
    "    Returns:\n",
    "    - pd.DataFrame: Coordinates of the vectors in the new basis.\n",
    "    - pd.DataFrame: Coordinates of the points projected onto the new basis.\n",
    "    \"\"\"\n",
    "    if not isinstance(sparse_matrix, csr_matrix):\n",
    "        raise ValueError(\"The matrix must be in csr_matrix format.\")\n",
    "\n",
    "    # Apply TruncatedSVD to perform PCA on the sparse matrix\n",
    "    svd = TruncatedSVD(n_components=num_components)\n",
    "    principal_components = svd.fit_transform(sparse_matrix)\n",
    "\n",
    "    # Create a DataFrame for the coordinates of vectors in the new basis\n",
    "    pc_columns = [f'PC{i}' for i in range(1, num_components + 1)]\n",
    "    df_principal_components = pd.DataFrame(principal_components, columns=pc_columns)\n",
    "\n",
    "    # Project the points onto the new basis\n",
    "    #projected_points = svd.inverse_transform(principal_components)\n",
    "\n",
    "    # Create a DataFrame for the coordinates of the projected points\n",
    "    #df_projected_points = pd.DataFrame(projected_points)\n",
    "\n",
    "    return df_principal_components #df_projected_points\n",
    "\n",
    "# Example usage\n",
    "# Suppose sparse_matrix is your sparse matrix\n",
    "# and you want to retain 2 principal components\n",
    "#df_components, df_projection = pca_on_sparse_matrix(matrice_bow, num_components=2)\n",
    "#print(\"Coordinates of vectors in the new basis:\\n\", df_components)\n",
    "#print(\"\\nCoordinates of the projected points in the new basis:\\n\", df_projection)"
   ]
  },
  {
   "cell_type": "code",
   "execution_count": 24,
   "metadata": {},
   "outputs": [
    {
     "data": {
      "image/png": "[encoded data removed]",
      "text/plain": [
       "<Figure size 800x800 with 1 Axes>"
      ]
     },
     "metadata": {},
     "output_type": "display_data"
    },
    {
     "name": "stdout",
     "output_type": "stream",
     "text": [
      "<class 'pandas.core.frame.DataFrame'>\n"
     ]
    }
   ],
   "source": [
    "import matplotlib.pyplot as plt\n",
    "import pandas as pd\n",
    "\n",
    "def tracer_points(data_frame, label_col=None, title=None, xlabel=None, ylabel=None):\n",
    "    \"\"\"\n",
    "    Trace les points d'un DataFrame à deux colonnes dans l'espace bidimensionnel.\n",
    "\n",
    "    Args:\n",
    "    - data_frame (pandas.DataFrame): DataFrame avec deux colonnes représentant les coordonnées des points.\n",
    "    - label_col (str, optional): Nom de la colonne contenant les étiquettes (si disponible).\n",
    "    - title (str, optional): Titre du graphique.\n",
    "    - xlabel (str, optional): Libellé de l'axe des abscisses.\n",
    "    - ylabel (str, optional): Libellé de l'axe des ordonnées.\n",
    "    \"\"\"\n",
    "    plt.figure(figsize=(8, 8))\n",
    "\n",
    "    if label_col is not None:\n",
    "        labels = data_frame[label_col]\n",
    "        scatter = plt.scatter(data_frame.iloc[:, 0], data_frame.iloc[:, 1], c=labels, cmap='viridis', marker='o', colors=\"red\")\n",
    "        plt.legend(*scatter.legend_elements(), title=label_col)\n",
    "    else:\n",
    "        plt.scatter(data_frame.iloc[:, 0], data_frame.iloc[:, 1], marker='o')\n",
    "\n",
    "    plt.title(title)\n",
    "    plt.xlabel(xlabel)\n",
    "    plt.ylabel(ylabel)\n",
    "    plt.grid(True)\n",
    "    plt.show()\n",
    "\n",
    "# Exemple d'utilisation\n",
    "# Supposons que df soit votre DataFrame avec deux colonnes de coordonnées (X et Y)\n",
    "# et que vous souhaitez tracer les points\n",
    "df = pd.DataFrame({'X': [1, 2, 3, 4, 5], 'Y': [2, 3, 1, 4, 5]})\n",
    "tracer_points(df, title='Tracé des Points', xlabel='Axe X', ylabel='Axe Y')\n",
    "print(type(df))"
   ]
  },
  {
   "cell_type": "markdown",
   "metadata": {},
   "source": [
    "# Illustration et test de nos fonction sur un corpus très simple "
   ]
  },
  {
   "cell_type": "markdown",
   "metadata": {},
   "source": [
    "Afin de vérifier nos fonctions et d'illustrer notre démarche d'analyse textuelle, nous définissons dans cette partie un corpus très simple sur lequel nous menons une analyse textuelle à l'aide des fonctions définies précedemment."
   ]
  },
  {
   "cell_type": "code",
   "execution_count": 13,
   "metadata": {},
   "outputs": [],
   "source": [
    "corpus_exemple_simple=[\"Ceci est le premier texte.\",\"Ceci est le deuxième texte.\",\"Ceci est le troisième texte.\",\"Iokanaan adore faire du Python\",\"Jules adore faire du Python\",\"Colin adore faire du python\"]\n",
    "corpus_exemple_un_peu_moins_simple = [\"Ceci est le premier texte du corpus.\", \"Et voici maintenant le second texte du corpus.\",\"Est-ce que ce texte est très différent des précédents textes du corpus?\" \"Nous sommes allés en soirée Lundi.\",\"J'aime bien les frites\",\"J'aime aussi la purée\",\"Mathieu n'aime pas les frites\"]\n",
    "#On crée un corpus de texte très simple avec 6 texte qu'on classe intuitivement en deux groupes très homogènes."
   ]
  },
  {
   "cell_type": "markdown",
   "metadata": {},
   "source": [
    "Dans  ce corpus très simple que nous avons crée, deux groupes de textes très similaires apparaissent intuitivement. Nous allons appliquer les méthodes d'analyse textuelles définies précédemment."
   ]
  },
  {
   "cell_type": "markdown",
   "metadata": {},
   "source": [
    "Tout d'abord nous allons vectoriser ce corpus de textes."
   ]
  },
  {
   "cell_type": "code",
   "execution_count": 14,
   "metadata": {},
   "outputs": [
    {
     "name": "stdout",
     "output_type": "stream",
     "text": [
      "On obtient la matrice suivante :\n",
      "[[0 1 0 0 0 1 0 0 0 1 1 0 1 0]\n",
      " [0 1 0 1 0 1 0 0 0 1 0 0 1 0]\n",
      " [0 1 0 0 0 1 0 0 0 1 0 0 1 1]\n",
      " [1 0 0 0 1 0 1 1 0 0 0 1 0 0]\n",
      " [1 0 0 0 1 0 1 0 1 0 0 1 0 0]\n",
      " [1 0 1 0 1 0 1 0 0 0 0 1 0 0]]\n",
      "Les lignes de la matrice correspondent aux différents textes du corpus. Les colonnes de la matrice correspondent, dans l'ordre, au nombre d'apparition dans le texte des mots suivants :\n",
      "['adore' 'ceci' 'colin' 'deuxième' 'du' 'est' 'faire' 'iokanaan' 'jules'\n",
      " 'le' 'premier' 'python' 'texte' 'troisième']\n"
     ]
    }
   ],
   "source": [
    "matrice_bow, mots = vectorisation_bag_of_words(corpus_exemple_simple)\n",
    "print(\"On obtient la matrice suivante :\")\n",
    "print(matrice_bow.toarray())\n",
    "print(\"Les lignes de la matrice correspondent aux différents textes du corpus. Les colonnes de la matrice correspondent, dans l'ordre, au nombre d'apparition dans le texte des mots suivants :\")\n",
    "print(mots)\n"
   ]
  },
  {
   "cell_type": "markdown",
   "metadata": {},
   "source": [
    "Maintenant que ce corpus est vectorisé, nous allons effectuer un clustering avec la méthode des kmeans pour séparer le corpus en deux groupes de textes. "
   ]
  },
  {
   "cell_type": "code",
   "execution_count": 15,
   "metadata": {},
   "outputs": [
    {
     "name": "stderr",
     "output_type": "stream",
     "text": [
      "C:\\Users\\pourt\\AppData\\Local\\Packages\\PythonSoftwareFoundation.Python.3.11_qbz5n2kfra8p0\\LocalCache\\local-packages\\Python311\\site-packages\\sklearn\\cluster\\_kmeans.py:1416: FutureWarning: The default value of `n_init` will change from 10 to 'auto' in 1.4. Set the value of `n_init` explicitly to suppress the warning\n",
      "  super()._check_params_vs_input(X, default_n_init=10)\n"
     ]
    },
    {
     "name": "stdout",
     "output_type": "stream",
     "text": [
      "Étiquettes des clusters pour les différents textes du corpus : [0 0 0 1 1 1]\n"
     ]
    }
   ],
   "source": [
    "etiquettes_clusters_lignes = clustering_kmeans_lignes(matrice_bow, 2)\n",
    "print(\"Étiquettes des clusters pour les différents textes du corpus :\", etiquettes_clusters_lignes)"
   ]
  },
  {
   "cell_type": "markdown",
   "metadata": {},
   "source": [
    "On obtient bien deux clusters, le premier regroupant les trois premiers textes, le troisième regroupant les trois suivant. La répartition des textes ainsi obtenue correspond bien à la répartition intuitive."
   ]
  },
  {
   "cell_type": "markdown",
   "metadata": {},
   "source": [
    "Nous allons désormais effectuer une ACP pour permettre de représenter graphiquement les textes du corpus et de visualiser les proximités entre les textes."
   ]
  },
  {
   "cell_type": "code",
   "execution_count": 31,
   "metadata": {},
   "outputs": [
    {
     "name": "stdout",
     "output_type": "stream",
     "text": [
      "Projection des vecteurs représentant les textes dans la nouvelle base de dimension 2:\n",
      "             PC1           PC2\n",
      "0 -4.196391e-17  2.081666e+00\n",
      "1  6.035547e-16  2.081666e+00\n",
      "2  4.952233e-16  2.081666e+00\n",
      "3  2.081666e+00 -4.075743e-16\n",
      "4  2.081666e+00 -4.006100e-16\n",
      "5  2.081666e+00 -4.508166e-16\n"
     ]
    },
    {
     "data": {
      "image/png": "[encoded data removed]",
      "text/plain": [
       "<Figure size 800x800 with 1 Axes>"
      ]
     },
     "metadata": {},
     "output_type": "display_data"
    }
   ],
   "source": [
    "df_components = pca_on_sparse_matrix(matrice_bow, num_components=2)\n",
    "#df_components, df_projection =pca_and_project_sparse_matrix(matrice_bow, target_dimension=2)\n",
    "print(\"Projection des vecteurs représentant les textes dans la nouvelle base de dimension 2:\\n\", df_components)\n",
    "tracer_points(df_components, title='Projection des points dans le plan', xlabel='Axe X', ylabel='Axe Y')\n",
    "#print(len(df_projection))"
   ]
  },
  {
   "cell_type": "markdown",
   "metadata": {},
   "source": [
    "# Analyse du corpus des questions à l'Assemblée nationale "
   ]
  },
  {
   "cell_type": "markdown",
   "metadata": {},
   "source": [
    "On importe le corpus sous la forme d'un DataFrame panda."
   ]
  },
  {
   "cell_type": "code",
   "execution_count": 189,
   "metadata": {},
   "outputs": [
    {
     "name": "stdout",
     "output_type": "stream",
     "text": [
      "<bound method NDFrame.head of         id                                            groupe  \\\n",
      "0        1  Libertés, Indépendants, Outre-mer et Territoires   \n",
      "1        2                                  Les Républicains   \n",
      "2        3                 Démocrate (MoDem et Indépendants)   \n",
      "3        4                                       Renaissance   \n",
      "4        5  Libertés, Indépendants, Outre-mer et Territoires   \n",
      "...    ...                                               ...   \n",
      "1303  1304                                       Renaissance   \n",
      "1304  1305                            Horizons et apparentés   \n",
      "1305  1306                 Démocrate (MoDem et Indépendants)   \n",
      "1306  1307                                       Renaissance   \n",
      "1307  1308                                Écologiste - NUPES   \n",
      "\n",
      "                          nom  \\\n",
      "0      M. Christophe Naegelen   \n",
      "1           M. Pierre Cordier   \n",
      "2           M. Frédéric Petit   \n",
      "3     Mme Marie-Pierre Rixain   \n",
      "4      M. Christophe Naegelen   \n",
      "...                       ...   \n",
      "1303        M. Patrice Perrot   \n",
      "1304        M. Thierry Benoit   \n",
      "1305         M. Richard Ramos   \n",
      "1306        M. Florent Boudié   \n",
      "1307       M. Nicolas Thierry   \n",
      "\n",
      "                                    ministère_interrogé  \\\n",
      "0               Agriculture et souveraineté alimentaire   \n",
      "1     Transition écologique et cohésion des territoires   \n",
      "2                                                Armées   \n",
      "3                                       Comptes publics   \n",
      "4                       Éducation nationale et jeunesse   \n",
      "...                                                 ...   \n",
      "1303            Agriculture et souveraineté alimentaire   \n",
      "1304  Économie, finances, souveraineté industrielle ...   \n",
      "1305  Petites et moyennes entreprises, commerce, art...   \n",
      "1306  Transition écologique et cohésion des territoires   \n",
      "1307  Transition écologique et cohésion des territoires   \n",
      "\n",
      "                   rubrique  \\\n",
      "0                   animaux   \n",
      "1           chasse et pêche   \n",
      "2                   défense   \n",
      "3     eau et assainissement   \n",
      "4              enseignement   \n",
      "...                     ...   \n",
      "1303         bois et forêts   \n",
      "1304   chambres consulaires   \n",
      "1305   chambres consulaires   \n",
      "1306        chasse et pêche   \n",
      "1307        chasse et pêche   \n",
      "\n",
      "                                                  titre        date  \\\n",
      "0      Cohabitation entre les randonneurs et les patous  05/07/2022   \n",
      "1     Pratique de la vénerie sous terre pour la régu...  05/07/2022   \n",
      "2     Défense - Union européenne - SCAF - MGCS - coo...  05/07/2022   \n",
      "3     Recouvrement des impayés de redevances d'assai...  05/07/2022   \n",
      "4     Conditions d'embauche d'assistants d'éducation...  05/07/2022   \n",
      "...                                                 ...         ...   \n",
      "1303  Projet de règlement de l'Union européenne conc...  20/09/2022   \n",
      "1304                  Blocage du dialogue social en CMA  20/09/2022   \n",
      "1305  Revalorisation point d'indice des salariés des...  20/09/2022   \n",
      "1306   Autorisation de capture de l'alouette des champs  20/09/2022   \n",
      "1307  Utilisation de l'éco-contribution par la fédér...  20/09/2022   \n",
      "\n",
      "                                               question  \n",
      "0     M. Christophe Naegelen interroge M. le ministr...  \n",
      "1     M. Pierre Cordier appelle l'attention de Mme l...  \n",
      "2     M. Frédéric Petit appelle l'attention de M. le...  \n",
      "3     Mme Marie-Pierre Rixain appelle l'attention de...  \n",
      "4     M. Christophe Naegelen interroge M. le ministr...  \n",
      "...                                                 ...  \n",
      "1303  M. Patrice Perrot appelle l'attention de M. le...  \n",
      "1304  M. Thierry Benoit attire l'attention de M. le ...  \n",
      "1305  M. Richard Ramos attire l'attention de Mme la ...  \n",
      "1306  M. Florent Boudié alerte M. le ministre de la ...  \n",
      "1307  M. Nicolas Thierry alerte M. le ministre de la...  \n",
      "\n",
      "[1308 rows x 8 columns]>\n",
      "[]\n",
      "1308\n"
     ]
    }
   ],
   "source": [
    "import pandas as pd\n",
    "df_questions = pd.read_csv('C:\\\\Users\\\\pourt\\\\PythonPourLaDataScience\\\\Datascrapping\\\\data.csv', encoding='latin-1', sep='|')\n",
    "print(df_questions.head)\n",
    "\n",
    "liste=[]\n",
    "for i in range(len(df_questions['question'])):\n",
    "    x=type(df_questions['question'][i])\n",
    "    if x!=str:\n",
    "        liste.append((x,i))\n",
    "print(liste)\n",
    "\n",
    "print(len(df_questions['question']))\n",
    "\n",
    "#df_questions=df_questions.drop(159)"
   ]
  },
  {
   "cell_type": "markdown",
   "metadata": {},
   "source": [
    "Ensuite, on vectorise les textes du corpus à l'aide de la fonction écrite précedemment."
   ]
  },
  {
   "cell_type": "code",
   "execution_count": 190,
   "metadata": {},
   "outputs": [],
   "source": [
    "matrice_bow, mots = vectorisation_bag_of_words(df_questions['question'])"
   ]
  },
  {
   "cell_type": "markdown",
   "metadata": {},
   "source": [
    "Nous regroupons les textes en cluster"
   ]
  },
  {
   "cell_type": "code",
   "execution_count": 191,
   "metadata": {},
   "outputs": [
    {
     "name": "stderr",
     "output_type": "stream",
     "text": [
      "C:\\Users\\pourt\\AppData\\Local\\Packages\\PythonSoftwareFoundation.Python.3.11_qbz5n2kfra8p0\\LocalCache\\local-packages\\Python311\\site-packages\\sklearn\\cluster\\_kmeans.py:1416: FutureWarning: The default value of `n_init` will change from 10 to 'auto' in 1.4. Set the value of `n_init` explicitly to suppress the warning\n",
      "  super()._check_params_vs_input(X, default_n_init=10)\n"
     ]
    },
    {
     "name": "stdout",
     "output_type": "stream",
     "text": [
      "Étiquettes des clusters pour les différents texte du corpus : [8 4 7 ... 8 4 6]\n"
     ]
    }
   ],
   "source": [
    "etiquettes_clusters_lignes = clustering_kmeans_lignes(matrice_bow, 11)\n",
    "print(\"Étiquettes des clusters pour les différents texte du corpus :\", etiquettes_clusters_lignes)"
   ]
  },
  {
   "cell_type": "code",
   "execution_count": 192,
   "metadata": {},
   "outputs": [],
   "source": [
    "def thematique_cluster(df,liste_etiquette_cluster,indice_cluster):\n",
    "    liste_thematique=[]\n",
    "    for i in range(len(liste_etiquette_cluster)):\n",
    "        if liste_etiquette_cluster[i]==indice_cluster:\n",
    "            liste_thematique.append(df[\"rubrique\"][i])\n",
    "    return liste_thematique"
   ]
  },
  {
   "cell_type": "code",
   "execution_count": 193,
   "metadata": {},
   "outputs": [
    {
     "name": "stdout",
     "output_type": "stream",
     "text": [
      "['fonctionnaires et agents publics', 'fonctionnaires et agents publics', 'fonctionnaires et agents publics', 'enseignement supérieur', 'fonctionnaires et agents publics', 'fonctionnaires et agents publics', 'enseignement', 'fonctionnaires et agents publics', 'enseignement', 'fonctionnaires et agents publics', 'fonctionnaires et agents publics']\n"
     ]
    }
   ],
   "source": [
    "print(thematique_cluster(df_questions,etiquettes_clusters_lignes,0))"
   ]
  },
  {
   "cell_type": "code",
   "execution_count": 194,
   "metadata": {},
   "outputs": [],
   "source": [
    "def groupe_cluster(df,liste_etiquette_cluster,indice_cluster):\n",
    "    liste_groupes=[]\n",
    "    for i in range(len(liste_etiquette_cluster)):\n",
    "        if liste_etiquette_cluster[i]==indice_cluster:\n",
    "            liste_groupes.append(df[\"groupe\"][i])\n",
    "    return liste_groupes"
   ]
  },
  {
   "cell_type": "code",
   "execution_count": 195,
   "metadata": {},
   "outputs": [
    {
     "name": "stdout",
     "output_type": "stream",
     "text": [
      "['Renaissance', 'Libertés, Indépendants, Outre-mer et Territoires', 'Libertés, Indépendants, Outre-mer et Territoires', 'Renaissance', 'Écologiste - NUPES', 'Rassemblement National', 'Renaissance', 'Libertés, Indépendants, Outre-mer et Territoires', 'La France insoumise - Nouvelle Union Populaire écologique et sociale', 'Démocrate (MoDem et Indépendants)', 'Renaissance', 'Démocrate (MoDem et Indépendants)', 'Les Républicains', 'Rassemblement National', 'Les Républicains', 'Les Républicains', 'Gauche démocrate et républicaine - NUPES', 'Renaissance', 'Les Républicains', 'Les Républicains', 'Rassemblement National', 'Les Républicains', 'La France insoumise - Nouvelle Union Populaire écologique et sociale', 'Écologiste - NUPES', 'Rassemblement National', 'Gauche démocrate et républicaine - NUPES', 'Rassemblement National', 'Les Républicains', 'Renaissance', 'Les Républicains', 'Horizons et apparentés', 'Les Républicains', 'Démocrate (MoDem et Indépendants)', 'Démocrate (MoDem et Indépendants)', 'Rassemblement National', 'Les Républicains', 'Les Républicains', 'Les Républicains', 'Libertés, Indépendants, Outre-mer et Territoires', 'Socialistes et apparentés', 'Rassemblement National', 'Non inscrit', 'Les Républicains', 'Horizons et apparentés', 'Horizons et apparentés', 'Horizons et apparentés', 'Les Républicains', 'Rassemblement National', 'Démocrate (MoDem et Indépendants)', 'Libertés, Indépendants, Outre-mer et Territoires', 'Les Républicains', 'Renaissance', 'Horizons et apparentés', 'Les Républicains', 'Les Républicains', 'Écologiste - NUPES', 'Démocrate (MoDem et Indépendants)', 'Renaissance', 'Les Républicains', 'Renaissance', 'Démocrate (MoDem et Indépendants)', 'Rassemblement National', 'Socialistes et apparentés', 'Démocrate (MoDem et Indépendants)', 'Renaissance', 'Renaissance', 'Gauche démocrate et républicaine - NUPES', 'Démocrate (MoDem et Indépendants)', 'Horizons et apparentés', 'La France insoumise - Nouvelle Union Populaire écologique et sociale', 'Les Républicains', 'Renaissance', 'Rassemblement National', 'Renaissance', 'Libertés, Indépendants, Outre-mer et Territoires', 'Démocrate (MoDem et Indépendants)', 'Les Républicains', 'Démocrate (MoDem et Indépendants)', 'Socialistes et apparentés', 'Horizons et apparentés', 'Démocrate (MoDem et Indépendants)', 'Les Républicains', 'Renaissance', 'Renaissance', 'La France insoumise - Nouvelle Union Populaire écologique et sociale', 'Les Républicains', 'La France insoumise - Nouvelle Union Populaire écologique et sociale', 'Les Républicains', 'Rassemblement National', 'Les Républicains', 'Les Républicains', 'Les Républicains', 'Renaissance', 'La France insoumise - Nouvelle Union Populaire écologique et sociale', 'Rassemblement National', 'Renaissance', 'Renaissance', 'Renaissance', 'Renaissance', 'Rassemblement National', 'Démocrate (MoDem et Indépendants)', 'Démocrate (MoDem et Indépendants)', 'Non inscrit', 'Renaissance', 'Renaissance', 'Libertés, Indépendants, Outre-mer et Territoires', 'Renaissance', 'Démocrate (MoDem et Indépendants)', 'Les Républicains', 'Socialistes et apparentés', 'Les Républicains', 'Renaissance', 'Renaissance', 'Socialistes et apparentés', 'Rassemblement National', 'Renaissance', 'Renaissance', 'La France insoumise - Nouvelle Union Populaire écologique et sociale', 'Rassemblement National', 'Socialistes et apparentés', 'Les Républicains', 'La France insoumise - Nouvelle Union Populaire écologique et sociale', 'Les Républicains', 'Les Républicains', 'Rassemblement National', 'Rassemblement National', 'Socialistes et apparentés', 'Les Républicains', 'Renaissance', 'Rassemblement National', 'Socialistes et apparentés', 'Renaissance', 'Les Républicains', 'Renaissance', 'Rassemblement National', 'Socialistes et apparentés', 'Socialistes et apparentés', 'Rassemblement National', 'Rassemblement National', 'Les Républicains', 'Rassemblement National', 'Démocrate (MoDem et Indépendants)', 'Renaissance', 'Écologiste - NUPES', 'Rassemblement National', 'Rassemblement National', 'Les Républicains', 'Les Républicains', 'Démocrate (MoDem et Indépendants)', 'La France insoumise - Nouvelle Union Populaire écologique et sociale', 'Horizons et apparentés', 'Démocrate (MoDem et Indépendants)', 'Rassemblement National', 'Horizons et apparentés', 'Horizons et apparentés', 'La France insoumise - Nouvelle Union Populaire écologique et sociale', 'Renaissance', 'Les Républicains', 'Renaissance', 'Socialistes et apparentés', 'Horizons et apparentés', 'Rassemblement National', 'Écologiste - NUPES', 'Écologiste - NUPES', 'Renaissance', 'La France insoumise - Nouvelle Union Populaire écologique et sociale', 'Socialistes et apparentés', 'Renaissance', 'Les Républicains', 'Socialistes et apparentés', 'La France insoumise - Nouvelle Union Populaire écologique et sociale', 'Socialistes et apparentés', 'Renaissance', 'Les Républicains', 'Les Républicains', 'La France insoumise - Nouvelle Union Populaire écologique et sociale', 'Horizons et apparentés', 'Les Républicains', 'Rassemblement National', 'Non inscrit', 'Socialistes et apparentés', 'Les Républicains', 'Rassemblement National', 'Rassemblement National', 'Rassemblement National', 'La France insoumise - Nouvelle Union Populaire écologique et sociale', 'Gauche démocrate et républicaine - NUPES', 'Libertés, Indépendants, Outre-mer et Territoires', 'Renaissance']\n"
     ]
    }
   ],
   "source": [
    "print(groupe_cluster(df_questions,etiquettes_clusters_lignes,1))"
   ]
  },
  {
   "cell_type": "code",
   "execution_count": 196,
   "metadata": {},
   "outputs": [],
   "source": [
    "def homogeneite_cluster(df,variable,valeur_variable,liste_etiquette_cluster,nb_clusters):\n",
    "    apparitions_par_cluster=[0 for i in range(nb_clusters)]\n",
    "    for i in range(len(liste_etiquette_cluster)):\n",
    "        if df[variable][i]==valeur_variable:\n",
    "            apparitions_par_cluster[liste_etiquette_cluster[i]]+=1\n",
    "    return apparitions_par_cluster"
   ]
  },
  {
   "cell_type": "code",
   "execution_count": 197,
   "metadata": {},
   "outputs": [
    {
     "data": {
      "text/plain": [
       "[0, 14, 21, 6, 21, 11, 17, 16, 29, 17, 1]"
      ]
     },
     "execution_count": 197,
     "metadata": {},
     "output_type": "execute_result"
    }
   ],
   "source": [
    "homogeneite_cluster(df_questions,'groupe','La France insoumise - Nouvelle Union Populaire écologique et sociale',etiquettes_clusters_lignes,11)"
   ]
  },
  {
   "cell_type": "code",
   "execution_count": 198,
   "metadata": {},
   "outputs": [],
   "source": [
    "\n",
    "glove_model = gensim.downloader.load('glove-wiki-gigaword-200')"
   ]
  },
  {
   "cell_type": "markdown",
   "metadata": {},
   "source": [
    "# Vectorisation avec une méthode de word embedding\n"
   ]
  },
  {
   "cell_type": "code",
   "execution_count": 199,
   "metadata": {},
   "outputs": [
    {
     "name": "stdout",
     "output_type": "stream",
     "text": [
      "Collecting spacy\n",
      "  Obtaining dependency information for spacy from https://files.pythonhosted.org/packages/90/f0/0133b684e18932c7bf4075d94819746cee2c0329f2569db526b0fa1df1df/spacy-3.7.2-cp311-cp311-win_amd64.whl.metadata\n",
      "  Using cached spacy-3.7.2-cp311-cp311-win_amd64.whl.metadata (26 kB)\n",
      "Requirement already satisfied: gensim in c:\\users\\pourt\\appdata\\local\\packages\\pythonsoftwarefoundation.python.3.11_qbz5n2kfra8p0\\localcache\\local-packages\\python311\\site-packages (4.3.2)\n",
      "Collecting sentence_transformers\n",
      "  Using cached sentence_transformers-2.2.2-py3-none-any.whl\n",
      "Requirement already satisfied: pandas in c:\\users\\pourt\\appdata\\local\\packages\\pythonsoftwarefoundation.python.3.11_qbz5n2kfra8p0\\localcache\\local-packages\\python311\\site-packages (2.1.3)\n",
      "Requirement already satisfied: matplotlib in c:\\users\\pourt\\appdata\\local\\packages\\pythonsoftwarefoundation.python.3.11_qbz5n2kfra8p0\\localcache\\local-packages\\python311\\site-packages (3.8.1)\n",
      "Requirement already satisfied: seaborn in c:\\users\\pourt\\appdata\\local\\packages\\pythonsoftwarefoundation.python.3.11_qbz5n2kfra8p0\\localcache\\local-packages\\python311\\site-packages (0.13.0)\n",
      "Requirement already satisfied: spacy-legacy<3.1.0,>=3.0.11 in c:\\users\\pourt\\appdata\\local\\packages\\pythonsoftwarefoundation.python.3.11_qbz5n2kfra8p0\\localcache\\local-packages\\python311\\site-packages (from spacy) (3.0.12)\n",
      "Requirement already satisfied: spacy-loggers<2.0.0,>=1.0.0 in c:\\users\\pourt\\appdata\\local\\packages\\pythonsoftwarefoundation.python.3.11_qbz5n2kfra8p0\\localcache\\local-packages\\python311\\site-packages (from spacy) (1.0.5)\n",
      "Requirement already satisfied: murmurhash<1.1.0,>=0.28.0 in c:\\users\\pourt\\appdata\\local\\packages\\pythonsoftwarefoundation.python.3.11_qbz5n2kfra8p0\\localcache\\local-packages\\python311\\site-packages (from spacy) (1.0.10)\n",
      "Requirement already satisfied: cymem<2.1.0,>=2.0.2 in c:\\users\\pourt\\appdata\\local\\packages\\pythonsoftwarefoundation.python.3.11_qbz5n2kfra8p0\\localcache\\local-packages\\python311\\site-packages (from spacy) (2.0.8)\n",
      "Requirement already satisfied: preshed<3.1.0,>=3.0.2 in c:\\users\\pourt\\appdata\\local\\packages\\pythonsoftwarefoundation.python.3.11_qbz5n2kfra8p0\\localcache\\local-packages\\python311\\site-packages (from spacy) (3.0.9)\n",
      "Collecting thinc<8.3.0,>=8.1.8 (from spacy)\n",
      "  Obtaining dependency information for thinc<8.3.0,>=8.1.8 from https://files.pythonhosted.org/packages/74/24/564a7df5b1fac0520f6b55137deea2cc0b6f7d6e66228f1645dbfd59bb33/thinc-8.2.2-cp311-cp311-win_amd64.whl.metadata\n",
      "  Using cached thinc-8.2.2-cp311-cp311-win_amd64.whl.metadata (15 kB)\n",
      "Requirement already satisfied: wasabi<1.2.0,>=0.9.1 in c:\\users\\pourt\\appdata\\local\\packages\\pythonsoftwarefoundation.python.3.11_qbz5n2kfra8p0\\localcache\\local-packages\\python311\\site-packages (from spacy) (1.1.2)\n",
      "Requirement already satisfied: srsly<3.0.0,>=2.4.3 in c:\\users\\pourt\\appdata\\local\\packages\\pythonsoftwarefoundation.python.3.11_qbz5n2kfra8p0\\localcache\\local-packages\\python311\\site-packages (from spacy) (2.4.8)\n",
      "Requirement already satisfied: catalogue<2.1.0,>=2.0.6 in c:\\users\\pourt\\appdata\\local\\packages\\pythonsoftwarefoundation.python.3.11_qbz5n2kfra8p0\\localcache\\local-packages\\python311\\site-packages (from spacy) (2.0.10)\n",
      "Collecting weasel<0.4.0,>=0.1.0 (from spacy)\n",
      "  Obtaining dependency information for weasel<0.4.0,>=0.1.0 from https://files.pythonhosted.org/packages/d5/e5/b63b8e255d89ba4155972990d42523251d4d1368c4906c646597f63870e2/weasel-0.3.4-py3-none-any.whl.metadata\n",
      "  Using cached weasel-0.3.4-py3-none-any.whl.metadata (4.7 kB)\n",
      "Requirement already satisfied: typer<0.10.0,>=0.3.0 in c:\\users\\pourt\\appdata\\local\\packages\\pythonsoftwarefoundation.python.3.11_qbz5n2kfra8p0\\localcache\\local-packages\\python311\\site-packages (from spacy) (0.9.0)\n",
      "Requirement already satisfied: smart-open<7.0.0,>=5.2.1 in c:\\users\\pourt\\appdata\\local\\packages\\pythonsoftwarefoundation.python.3.11_qbz5n2kfra8p0\\localcache\\local-packages\\python311\\site-packages (from spacy) (6.4.0)\n",
      "Requirement already satisfied: tqdm<5.0.0,>=4.38.0 in c:\\users\\pourt\\appdata\\local\\packages\\pythonsoftwarefoundation.python.3.11_qbz5n2kfra8p0\\localcache\\local-packages\\python311\\site-packages (from spacy) (4.66.1)\n",
      "Requirement already satisfied: requests<3.0.0,>=2.13.0 in c:\\users\\pourt\\appdata\\local\\packages\\pythonsoftwarefoundation.python.3.11_qbz5n2kfra8p0\\localcache\\local-packages\\python311\\site-packages (from spacy) (2.31.0)\n",
      "Requirement already satisfied: pydantic!=1.8,!=1.8.1,<3.0.0,>=1.7.4 in c:\\users\\pourt\\appdata\\local\\packages\\pythonsoftwarefoundation.python.3.11_qbz5n2kfra8p0\\localcache\\local-packages\\python311\\site-packages (from spacy) (2.5.3)\n",
      "Requirement already satisfied: jinja2 in c:\\users\\pourt\\appdata\\local\\packages\\pythonsoftwarefoundation.python.3.11_qbz5n2kfra8p0\\localcache\\local-packages\\python311\\site-packages (from spacy) (3.1.2)\n",
      "Requirement already satisfied: setuptools in c:\\program files\\windowsapps\\pythonsoftwarefoundation.python.3.11_3.11.2032.0_x64__qbz5n2kfra8p0\\lib\\site-packages (from spacy) (65.5.0)\n",
      "Requirement already satisfied: packaging>=20.0 in c:\\users\\pourt\\appdata\\local\\packages\\pythonsoftwarefoundation.python.3.11_qbz5n2kfra8p0\\localcache\\local-packages\\python311\\site-packages (from spacy) (23.2)\n",
      "Requirement already satisfied: langcodes<4.0.0,>=3.2.0 in c:\\users\\pourt\\appdata\\local\\packages\\pythonsoftwarefoundation.python.3.11_qbz5n2kfra8p0\\localcache\\local-packages\\python311\\site-packages (from spacy) (3.3.0)\n",
      "Requirement already satisfied: numpy>=1.19.0 in c:\\users\\pourt\\appdata\\local\\packages\\pythonsoftwarefoundation.python.3.11_qbz5n2kfra8p0\\localcache\\local-packages\\python311\\site-packages (from spacy) (1.26.2)\n",
      "Requirement already satisfied: scipy>=1.7.0 in c:\\users\\pourt\\appdata\\local\\packages\\pythonsoftwarefoundation.python.3.11_qbz5n2kfra8p0\\localcache\\local-packages\\python311\\site-packages (from gensim) (1.11.4)\n",
      "Collecting transformers<5.0.0,>=4.6.0 (from sentence_transformers)\n",
      "  Obtaining dependency information for transformers<5.0.0,>=4.6.0 from https://files.pythonhosted.org/packages/20/0a/739426a81f7635b422fbe6cb8d1d99d1235579a6ac8024c13d743efa6847/transformers-4.36.2-py3-none-any.whl.metadata\n",
      "  Using cached transformers-4.36.2-py3-none-any.whl.metadata (126 kB)\n",
      "Requirement already satisfied: torch>=1.6.0 in c:\\users\\pourt\\appdata\\local\\packages\\pythonsoftwarefoundation.python.3.11_qbz5n2kfra8p0\\localcache\\local-packages\\python311\\site-packages (from sentence_transformers) (2.1.2)\n",
      "Requirement already satisfied: torchvision in c:\\users\\pourt\\appdata\\local\\packages\\pythonsoftwarefoundation.python.3.11_qbz5n2kfra8p0\\localcache\\local-packages\\python311\\site-packages (from sentence_transformers) (0.16.2)\n",
      "Requirement already satisfied: scikit-learn in c:\\users\\pourt\\appdata\\local\\packages\\pythonsoftwarefoundation.python.3.11_qbz5n2kfra8p0\\localcache\\local-packages\\python311\\site-packages (from sentence_transformers) (1.3.2)\n",
      "Requirement already satisfied: nltk in c:\\users\\pourt\\appdata\\local\\packages\\pythonsoftwarefoundation.python.3.11_qbz5n2kfra8p0\\localcache\\local-packages\\python311\\site-packages (from sentence_transformers) (3.8.1)\n",
      "Requirement already satisfied: sentencepiece in c:\\users\\pourt\\appdata\\local\\packages\\pythonsoftwarefoundation.python.3.11_qbz5n2kfra8p0\\localcache\\local-packages\\python311\\site-packages (from sentence_transformers) (0.1.99)\n",
      "Requirement already satisfied: huggingface-hub>=0.4.0 in c:\\users\\pourt\\appdata\\local\\packages\\pythonsoftwarefoundation.python.3.11_qbz5n2kfra8p0\\localcache\\local-packages\\python311\\site-packages (from sentence_transformers) (0.20.1)\n",
      "Requirement already satisfied: python-dateutil>=2.8.2 in c:\\users\\pourt\\appdata\\local\\packages\\pythonsoftwarefoundation.python.3.11_qbz5n2kfra8p0\\localcache\\local-packages\\python311\\site-packages (from pandas) (2.8.2)\n",
      "Requirement already satisfied: pytz>=2020.1 in c:\\users\\pourt\\appdata\\local\\packages\\pythonsoftwarefoundation.python.3.11_qbz5n2kfra8p0\\localcache\\local-packages\\python311\\site-packages (from pandas) (2023.3.post1)\n",
      "Requirement already satisfied: tzdata>=2022.1 in c:\\users\\pourt\\appdata\\local\\packages\\pythonsoftwarefoundation.python.3.11_qbz5n2kfra8p0\\localcache\\local-packages\\python311\\site-packages (from pandas) (2023.3)\n",
      "Requirement already satisfied: contourpy>=1.0.1 in c:\\users\\pourt\\appdata\\local\\packages\\pythonsoftwarefoundation.python.3.11_qbz5n2kfra8p0\\localcache\\local-packages\\python311\\site-packages (from matplotlib) (1.2.0)\n",
      "Requirement already satisfied: cycler>=0.10 in c:\\users\\pourt\\appdata\\local\\packages\\pythonsoftwarefoundation.python.3.11_qbz5n2kfra8p0\\localcache\\local-packages\\python311\\site-packages (from matplotlib) (0.12.1)\n",
      "Requirement already satisfied: fonttools>=4.22.0 in c:\\users\\pourt\\appdata\\local\\packages\\pythonsoftwarefoundation.python.3.11_qbz5n2kfra8p0\\localcache\\local-packages\\python311\\site-packages (from matplotlib) (4.44.0)\n",
      "Requirement already satisfied: kiwisolver>=1.3.1 in c:\\users\\pourt\\appdata\\local\\packages\\pythonsoftwarefoundation.python.3.11_qbz5n2kfra8p0\\localcache\\local-packages\\python311\\site-packages (from matplotlib) (1.4.5)\n",
      "Requirement already satisfied: pillow>=8 in c:\\users\\pourt\\appdata\\local\\packages\\pythonsoftwarefoundation.python.3.11_qbz5n2kfra8p0\\localcache\\local-packages\\python311\\site-packages (from matplotlib) (10.1.0)\n",
      "Requirement already satisfied: pyparsing>=2.3.1 in c:\\users\\pourt\\appdata\\local\\packages\\pythonsoftwarefoundation.python.3.11_qbz5n2kfra8p0\\localcache\\local-packages\\python311\\site-packages (from matplotlib) (3.1.1)\n",
      "Requirement already satisfied: filelock in c:\\users\\pourt\\appdata\\local\\packages\\pythonsoftwarefoundation.python.3.11_qbz5n2kfra8p0\\localcache\\local-packages\\python311\\site-packages (from huggingface-hub>=0.4.0->sentence_transformers) (3.13.1)\n",
      "Requirement already satisfied: fsspec>=2023.5.0 in c:\\users\\pourt\\appdata\\local\\packages\\pythonsoftwarefoundation.python.3.11_qbz5n2kfra8p0\\localcache\\local-packages\\python311\\site-packages (from huggingface-hub>=0.4.0->sentence_transformers) (2023.12.2)\n",
      "Requirement already satisfied: pyyaml>=5.1 in c:\\users\\pourt\\appdata\\local\\packages\\pythonsoftwarefoundation.python.3.11_qbz5n2kfra8p0\\localcache\\local-packages\\python311\\site-packages (from huggingface-hub>=0.4.0->sentence_transformers) (6.0.1)\n",
      "Requirement already satisfied: typing-extensions>=3.7.4.3 in c:\\users\\pourt\\appdata\\local\\packages\\pythonsoftwarefoundation.python.3.11_qbz5n2kfra8p0\\localcache\\local-packages\\python311\\site-packages (from huggingface-hub>=0.4.0->sentence_transformers) (4.9.0)\n",
      "Requirement already satisfied: annotated-types>=0.4.0 in c:\\users\\pourt\\appdata\\local\\packages\\pythonsoftwarefoundation.python.3.11_qbz5n2kfra8p0\\localcache\\local-packages\\python311\\site-packages (from pydantic!=1.8,!=1.8.1,<3.0.0,>=1.7.4->spacy) (0.6.0)\n",
      "Requirement already satisfied: pydantic-core==2.14.6 in c:\\users\\pourt\\appdata\\local\\packages\\pythonsoftwarefoundation.python.3.11_qbz5n2kfra8p0\\localcache\\local-packages\\python311\\site-packages (from pydantic!=1.8,!=1.8.1,<3.0.0,>=1.7.4->spacy) (2.14.6)\n",
      "Requirement already satisfied: six>=1.5 in c:\\users\\pourt\\appdata\\local\\packages\\pythonsoftwarefoundation.python.3.11_qbz5n2kfra8p0\\localcache\\local-packages\\python311\\site-packages (from python-dateutil>=2.8.2->pandas) (1.16.0)\n",
      "Requirement already satisfied: charset-normalizer<4,>=2 in c:\\users\\pourt\\appdata\\local\\packages\\pythonsoftwarefoundation.python.3.11_qbz5n2kfra8p0\\localcache\\local-packages\\python311\\site-packages (from requests<3.0.0,>=2.13.0->spacy) (3.3.2)\n",
      "Requirement already satisfied: idna<4,>=2.5 in c:\\users\\pourt\\appdata\\local\\packages\\pythonsoftwarefoundation.python.3.11_qbz5n2kfra8p0\\localcache\\local-packages\\python311\\site-packages (from requests<3.0.0,>=2.13.0->spacy) (3.6)\n",
      "Requirement already satisfied: urllib3<3,>=1.21.1 in c:\\users\\pourt\\appdata\\local\\packages\\pythonsoftwarefoundation.python.3.11_qbz5n2kfra8p0\\localcache\\local-packages\\python311\\site-packages (from requests<3.0.0,>=2.13.0->spacy) (2.1.0)\n",
      "Requirement already satisfied: certifi>=2017.4.17 in c:\\users\\pourt\\appdata\\local\\packages\\pythonsoftwarefoundation.python.3.11_qbz5n2kfra8p0\\localcache\\local-packages\\python311\\site-packages (from requests<3.0.0,>=2.13.0->spacy) (2023.11.17)\n",
      "Requirement already satisfied: blis<0.8.0,>=0.7.8 in c:\\users\\pourt\\appdata\\local\\packages\\pythonsoftwarefoundation.python.3.11_qbz5n2kfra8p0\\localcache\\local-packages\\python311\\site-packages (from thinc<8.3.0,>=8.1.8->spacy) (0.7.11)\n",
      "Collecting confection<1.0.0,>=0.0.1 (from thinc<8.3.0,>=8.1.8->spacy)\n",
      "  Obtaining dependency information for confection<1.0.0,>=0.0.1 from https://files.pythonhosted.org/packages/39/78/f9d18da7b979a2e6007bfcea2f3c8cc02ed210538ae1ce7e69092aed7b18/confection-0.1.4-py3-none-any.whl.metadata\n",
      "  Using cached confection-0.1.4-py3-none-any.whl.metadata (19 kB)\n",
      "Requirement already satisfied: sympy in c:\\users\\pourt\\appdata\\local\\packages\\pythonsoftwarefoundation.python.3.11_qbz5n2kfra8p0\\localcache\\local-packages\\python311\\site-packages (from torch>=1.6.0->sentence_transformers) (1.12)\n",
      "Requirement already satisfied: networkx in c:\\users\\pourt\\appdata\\local\\packages\\pythonsoftwarefoundation.python.3.11_qbz5n2kfra8p0\\localcache\\local-packages\\python311\\site-packages (from torch>=1.6.0->sentence_transformers) (3.2.1)\n",
      "Requirement already satisfied: colorama in c:\\users\\pourt\\appdata\\local\\packages\\pythonsoftwarefoundation.python.3.11_qbz5n2kfra8p0\\localcache\\local-packages\\python311\\site-packages (from tqdm<5.0.0,>=4.38.0->spacy) (0.4.6)\n",
      "Requirement already satisfied: regex!=2019.12.17 in c:\\users\\pourt\\appdata\\local\\packages\\pythonsoftwarefoundation.python.3.11_qbz5n2kfra8p0\\localcache\\local-packages\\python311\\site-packages (from transformers<5.0.0,>=4.6.0->sentence_transformers) (2023.12.25)\n",
      "Requirement already satisfied: tokenizers<0.19,>=0.14 in c:\\users\\pourt\\appdata\\local\\packages\\pythonsoftwarefoundation.python.3.11_qbz5n2kfra8p0\\localcache\\local-packages\\python311\\site-packages (from transformers<5.0.0,>=4.6.0->sentence_transformers) (0.15.0)\n",
      "Requirement already satisfied: safetensors>=0.3.1 in c:\\users\\pourt\\appdata\\local\\packages\\pythonsoftwarefoundation.python.3.11_qbz5n2kfra8p0\\localcache\\local-packages\\python311\\site-packages (from transformers<5.0.0,>=4.6.0->sentence_transformers) (0.4.1)\n",
      "Requirement already satisfied: click<9.0.0,>=7.1.1 in c:\\users\\pourt\\appdata\\local\\packages\\pythonsoftwarefoundation.python.3.11_qbz5n2kfra8p0\\localcache\\local-packages\\python311\\site-packages (from typer<0.10.0,>=0.3.0->spacy) (8.1.7)\n",
      "Requirement already satisfied: cloudpathlib<0.17.0,>=0.7.0 in c:\\users\\pourt\\appdata\\local\\packages\\pythonsoftwarefoundation.python.3.11_qbz5n2kfra8p0\\localcache\\local-packages\\python311\\site-packages (from weasel<0.4.0,>=0.1.0->spacy) (0.16.0)\n",
      "Requirement already satisfied: MarkupSafe>=2.0 in c:\\users\\pourt\\appdata\\local\\packages\\pythonsoftwarefoundation.python.3.11_qbz5n2kfra8p0\\localcache\\local-packages\\python311\\site-packages (from jinja2->spacy) (2.1.3)\n",
      "Requirement already satisfied: joblib in c:\\users\\pourt\\appdata\\local\\packages\\pythonsoftwarefoundation.python.3.11_qbz5n2kfra8p0\\localcache\\local-packages\\python311\\site-packages (from nltk->sentence_transformers) (1.3.2)\n",
      "Requirement already satisfied: threadpoolctl>=2.0.0 in c:\\users\\pourt\\appdata\\local\\packages\\pythonsoftwarefoundation.python.3.11_qbz5n2kfra8p0\\localcache\\local-packages\\python311\\site-packages (from scikit-learn->sentence_transformers) (3.2.0)\n",
      "Requirement already satisfied: mpmath>=0.19 in c:\\users\\pourt\\appdata\\local\\packages\\pythonsoftwarefoundation.python.3.11_qbz5n2kfra8p0\\localcache\\local-packages\\python311\\site-packages (from sympy->torch>=1.6.0->sentence_transformers) (1.3.0)\n",
      "Using cached spacy-3.7.2-cp311-cp311-win_amd64.whl (12.1 MB)\n",
      "Using cached thinc-8.2.2-cp311-cp311-win_amd64.whl (1.5 MB)\n",
      "Using cached transformers-4.36.2-py3-none-any.whl (8.2 MB)\n",
      "Using cached weasel-0.3.4-py3-none-any.whl (50 kB)\n",
      "Using cached confection-0.1.4-py3-none-any.whl (35 kB)\n",
      "Installing collected packages: confection, weasel, transformers, thinc, spacy, sentence_transformers\n"
     ]
    },
    {
     "name": "stderr",
     "output_type": "stream",
     "text": [
      "ERROR: Could not install packages due to an OSError: [Errno 2] No such file or directory: 'C:\\\\Users\\\\pourt\\\\AppData\\\\Local\\\\Packages\\\\PythonSoftwareFoundation.Python.3.11_qbz5n2kfra8p0\\\\LocalCache\\\\local-packages\\\\Python311\\\\site-packages\\\\transformers\\\\models\\\\deprecated\\\\trajectory_transformer\\\\convert_trajectory_transformer_original_pytorch_checkpoint_to_pytorch.py'\n",
      "HINT: This error might have occurred since this system does not have Windows Long Path support enabled. You can find information on how to enable this at https://pip.pypa.io/warnings/enable-long-paths\n",
      "\n",
      "\n",
      "[notice] A new release of pip is available: 23.2.1 -> 23.3.2\n",
      "[notice] To update, run: C:\\Users\\pourt\\AppData\\Local\\Microsoft\\WindowsApps\\PythonSoftwareFoundation.Python.3.11_qbz5n2kfra8p0\\python.exe -m pip install --upgrade pip\n"
     ]
    }
   ],
   "source": [
    "!pip install spacy gensim sentence_transformers pandas matplotlib seaborn"
   ]
  },
  {
   "cell_type": "code",
   "execution_count": 200,
   "metadata": {},
   "outputs": [],
   "source": [
    "from collections import Counter\n",
    "\n",
    "import numpy as np\n",
    "import pandas as pd\n",
    "import matplotlib.pyplot as plt\n",
    "import seaborn as sns\n",
    "import gensim\n",
    "\n",
    "from sklearn.preprocessing import LabelEncoder\n",
    "from sklearn.model_selection import train_test_split\n",
    "from sklearn.pipeline import Pipeline\n",
    "from sklearn.preprocessing import StandardScaler\n",
    "from sklearn.svm import LinearSVC\n",
    "from sklearn.feature_extraction.text import CountVectorizer, TfidfVectorizer\n",
    "from sklearn.model_selection import GridSearchCV, cross_val_score\n",
    "\n",
    "from gensim.models.word2vec import Word2Vec\n",
    "import gensim.downloader\n"
   ]
  },
  {
   "cell_type": "code",
   "execution_count": 201,
   "metadata": {},
   "outputs": [],
   "source": [
    "glove_model = gensim.downloader.load('glove-wiki-gigaword-200')"
   ]
  },
  {
   "cell_type": "code",
   "execution_count": 202,
   "metadata": {},
   "outputs": [
    {
     "data": {
      "text/plain": [
       "array([-0.49346  , -0.14768  ,  0.32166  ,  0.056899 ,  0.052572 ,\n",
       "        0.20192  , -0.13506  , -0.030793 ,  0.15614  , -0.23004  ,\n",
       "       -0.66376  , -0.27316  ,  0.10391  ,  0.57334  , -0.032355 ,\n",
       "       -0.32766  , -0.2716   ,  0.32919  ,  0.41305  , -0.18085  ,\n",
       "        1.5167   ,  2.1649   , -0.10278  ,  0.098019 , -0.018946 ,\n",
       "        0.027292 , -0.7948   ,  0.36631  , -0.33151  ,  0.2884   ,\n",
       "        0.10436  , -0.19166  ,  0.27326  , -0.17519  , -0.14986  ,\n",
       "       -0.072333 , -0.54371  , -0.29728  ,  0.081491 , -0.42673  ,\n",
       "       -0.36406  , -0.52035  ,  0.18455  ,  0.44121  , -0.32196  ,\n",
       "        0.39172  ,  0.11952  ,  0.36979  ,  0.29229  , -0.42954  ,\n",
       "        0.46653  , -0.067243 ,  0.31216  , -0.17216  ,  0.48874  ,\n",
       "        0.2803   , -0.17577  , -0.35101  ,  0.020792 ,  0.15974  ,\n",
       "        0.21927  , -0.32499  ,  0.086022 ,  0.38927  , -0.65638  ,\n",
       "       -0.67401  , -0.41896  ,  1.2709   ,  0.20857  ,  0.28315  ,\n",
       "        0.58238  , -0.14944  ,  0.3989   ,  0.52681  ,  0.35714  ,\n",
       "       -0.39101  , -0.55372  , -0.56642  , -0.15762  , -0.48004  ,\n",
       "        0.40448  ,  0.057518 , -1.0157   ,  0.21755  ,  0.073296 ,\n",
       "        0.15237  , -0.38362  , -0.75308  , -0.0060254, -0.26232  ,\n",
       "       -0.54102  , -0.34347  ,  0.11113  ,  0.47685  , -0.7323   ,\n",
       "        0.77597  ,  0.015216 , -0.66327  , -0.21144  , -0.42964  ,\n",
       "       -0.7269   , -0.067968 ,  0.50601  ,  0.039817 , -0.27584  ,\n",
       "       -0.34794  , -0.0474   ,  0.50734  , -0.30777  ,  0.11594  ,\n",
       "       -0.19211  ,  0.3107   , -0.60075  ,  0.22044  , -0.36265  ,\n",
       "       -0.59442  , -1.2046   ,  0.10619  , -0.60278  ,  0.21573  ,\n",
       "       -0.35362  ,  0.55473  ,  0.58094  ,  0.077259 ,  1.0776   ,\n",
       "       -0.1867   , -1.5168   ,  0.32418  ,  0.83333  ,  0.17366  ,\n",
       "        1.1232   ,  0.10863  ,  0.55889  ,  0.30799  ,  0.084318 ,\n",
       "       -0.43178  , -0.042287 , -0.054615 ,  0.054712 , -0.80914  ,\n",
       "       -0.2443   , -0.076909 ,  0.55216  , -0.71896  ,  0.83319  ,\n",
       "        0.020735 ,  0.020472 , -0.40279  , -0.28874  ,  0.23758  ,\n",
       "        0.12576  , -0.15165  , -0.6942   , -0.25174  ,  0.29591  ,\n",
       "        0.4029   , -1.0618   ,  0.19847  , -0.63463  , -0.70843  ,\n",
       "        0.067943 ,  0.57366  ,  0.041122 ,  0.17452  ,  0.19431  ,\n",
       "       -0.28641  , -1.1363   ,  0.45116  , -0.066518 ,  0.82615  ,\n",
       "       -0.45452  , -0.85652  ,  0.18105  , -0.24187  ,  0.20153  ,\n",
       "        0.72298  ,  0.17415  , -0.87328  ,  0.69815  ,  0.024706 ,\n",
       "        0.26174  , -0.0087155, -0.39349  ,  0.13801  , -0.39299  ,\n",
       "       -0.23057  , -0.22611  , -0.14407  ,  0.010511 , -0.47389  ,\n",
       "       -0.15645  ,  0.28601  , -0.21772  , -0.49535  ,  0.022209 ,\n",
       "       -0.23575  , -0.22469  , -0.011578 ,  0.52867  , -0.062309 ],\n",
       "      dtype=float32)"
      ]
     },
     "execution_count": 202,
     "metadata": {},
     "output_type": "execute_result"
    }
   ],
   "source": [
    "glove_model['king']"
   ]
  },
  {
   "cell_type": "code",
   "execution_count": 203,
   "metadata": {},
   "outputs": [
    {
     "data": {
      "text/plain": [
       "[('daughter', 0.8648022413253784),\n",
       " ('wife', 0.8568021655082703),\n",
       " ('grandmother', 0.8373793363571167),\n",
       " ('husband', 0.8055646419525146),\n",
       " ('sister', 0.8029242157936096),\n",
       " ('father', 0.7936768531799316),\n",
       " ('her', 0.783749520778656),\n",
       " ('daughters', 0.7589756846427917),\n",
       " ('woman', 0.7579867243766785),\n",
       " ('she', 0.7452898025512695)]"
      ]
     },
     "execution_count": 203,
     "metadata": {},
     "output_type": "execute_result"
    }
   ],
   "source": [
    "glove_model.most_similar('mother')"
   ]
  },
  {
   "cell_type": "code",
   "execution_count": 207,
   "metadata": {},
   "outputs": [
    {
     "ename": "TypeError",
     "evalue": "'KeyedVectors' object is not callable",
     "output_type": "error",
     "traceback": [
      "\u001b[1;31m---------------------------------------------------------------------------\u001b[0m",
      "\u001b[1;31mTypeError\u001b[0m                                 Traceback (most recent call last)",
      "Cell \u001b[1;32mIn[207], line 1\u001b[0m\n\u001b[1;32m----> 1\u001b[0m \u001b[43mglove_model\u001b[49m\u001b[43m(\u001b[49m\u001b[38;5;124;43m'\u001b[39;49m\u001b[38;5;124;43mroi\u001b[39;49m\u001b[38;5;124;43m'\u001b[39;49m\u001b[43m)\u001b[49m\n",
      "\u001b[1;31mTypeError\u001b[0m: 'KeyedVectors' object is not callable"
     ]
    }
   ],
   "source": [
    "glove_model('roi')"
   ]
  },
  {
   "cell_type": "code",
   "execution_count": 204,
   "metadata": {},
   "outputs": [],
   "source": [
    "from gensim.models import KeyedVectors\n",
    "import numpy as np\n",
    "import pandas as pd\n",
    "\n",
    "def vectoriser_corpus_glove(data_frame, texte_colonne, modele_glove, vectoriser_colonnes=None):\n",
    "    \"\"\"\n",
    "    Vectorise un corpus de texte avec le modèle GloVe de Gensim.\n",
    "\n",
    "    Args:\n",
    "    - data_frame (pandas.DataFrame): DataFrame contenant les textes à vectoriser.\n",
    "    - texte_colonne (str): Nom de la colonne contenant les textes.\n",
    "    - chemin_modele_glove (str): Chemin vers le fichier du modèle GloVe.\n",
    "    - vectoriser_colonnes (list, optional): Liste des colonnes supplémentaires à conserver dans le DataFrame résultant.\n",
    "\n",
    "    Returns:\n",
    "    - pandas.DataFrame: DataFrame contenant les vecteurs de chaque texte.\n",
    "    \"\"\"\n",
    "\n",
    "    # Fonction pour obtenir le vecteur moyen d'un texte\n",
    "    def obtenir_vecteur(texte):\n",
    "        mots = texte.split()\n",
    "        # Filtrer les mots présents dans le modèle GloVe\n",
    "        mots_dans_modele = [mot for mot in mots if mot in model_glove]\n",
    "        # Calculer le vecteur moyen des mots\n",
    "        vecteur_moyen = np.mean([model_glove[mot] for mot in mots_dans_modele], axis=0)\n",
    "        return vecteur_moyen\n",
    "\n",
    "    # Appliquer la fonction sur chaque texte de la colonne spécifiée\n",
    "    data_frame['vecteur'] = data_frame[texte_colonne].apply(obtenir_vecteur)\n",
    "\n",
    "    # Créer un DataFrame résultant avec les vecteurs\n",
    "    if vectoriser_colonnes:\n",
    "        resultat = pd.concat([data_frame[vectoriser_colonnes], pd.DataFrame(data_frame['vecteur'].to_list())], axis=1)\n",
    "    else:\n",
    "        resultat = pd.DataFrame(data_frame['vecteur'].to_list())\n",
    "\n",
    "    return resultat\n"
   ]
  },
  {
   "cell_type": "code",
   "execution_count": 205,
   "metadata": {},
   "outputs": [],
   "source": [
    "def fonction(x):\n",
    "    return x**2"
   ]
  }
 ],
 "metadata": {
  "kernelspec": {
   "display_name": "Python 3",
   "language": "python",
   "name": "python3"
  },
  "language_info": {
   "codemirror_mode": {
    "name": "ipython",
    "version": 3
   },
   "file_extension": ".py",
   "mimetype": "text/x-python",
   "name": "python",
   "nbconvert_exporter": "python",
   "pygments_lexer": "ipython3",
   "version": "3.11.7"
  }
 },
 "nbformat": 4,
 "nbformat_minor": 2
}
