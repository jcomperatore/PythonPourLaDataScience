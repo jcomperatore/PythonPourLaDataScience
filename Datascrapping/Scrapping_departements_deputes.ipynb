{
 "cells": [
  {
   "cell_type": "code",
   "execution_count": 44,
   "metadata": {},
   "outputs": [],
   "source": [
    "import requests\n",
    "from bs4 import BeautifulSoup"
   ]
  },
  {
   "cell_type": "markdown",
   "metadata": {},
   "source": [
    "# Scrapping d'une page wikipedia pour obtenir la liste des députés par département\n"
   ]
  },
  {
   "cell_type": "code",
   "execution_count": 45,
   "metadata": {},
   "outputs": [],
   "source": [
    "response = requests.get(\"https://fr.wikipedia.org/wiki/Liste_des_d%C3%A9put%C3%A9s_de_la_XVIe_l%C3%A9gislature_de_la_Cinqui%C3%A8me_R%C3%A9publique\")"
   ]
  },
  {
   "cell_type": "code",
   "execution_count": 46,
   "metadata": {},
   "outputs": [
    {
     "data": {
      "text/plain": [
       "('Alauzet, Éric Éric Alauzet\\n', 'Doubs (2e)\\n')"
      ]
     },
     "execution_count": 46,
     "metadata": {},
     "output_type": "execute_result"
    }
   ],
   "source": [
    "soup = BeautifulSoup(response.text, 'html.parser')\n",
    "tableau = soup.findAll('tbody')[1]\n",
    "ligne=tableau.find_all('tr')[6]\n",
    "depute= ligne.find_all('td')[1].text\n",
    "departement= ligne.find_all('td')[2].text\n",
    "depute,departement\n"
   ]
  },
  {
   "cell_type": "markdown",
   "metadata": {},
   "source": [
    "On s'aperçoit que les rubriques correspondants au nom du député et à son département doivent être traitées."
   ]
  },
  {
   "cell_type": "markdown",
   "metadata": {},
   "source": [
    "Les deux fonctions définies ci-dessous permettent de traiter les chaînes de caractères pour obtenir le nom du député et son département."
   ]
  },
  {
   "cell_type": "code",
   "execution_count": 47,
   "metadata": {},
   "outputs": [],
   "source": [
    "import re\n",
    "\n",
    "def extraire_nom_prenom(chaine):\n",
    "    \"\"\"\n",
    "    Extrait le prénom et le nom d'une chaîne de caractères de format 'Nom, Prénom Prénom Nom\\n'.\n",
    "\n",
    "    Args:\n",
    "    - chaine (str): Chaîne de caractères à traiter.\n",
    "\n",
    "    Returns:\n",
    "    - str: Chaîne de caractères de format 'Prénom Nom'.\n",
    "    \"\"\"\n",
    "    \n",
    "    liste=chaine.split(' ')\n",
    "\n",
    "    prenom=liste[1]\n",
    "\n",
    "    match=re.match(r'\\w+',liste)\n",
    "\n",
    "    prenom=match.group()\n",
    "\n",
    "    chaine_resultat = f\"{prenom} {nom}\"\n",
    "\n",
    "    return chaine_resultat\n",
    "\n",
    "\n",
    "    # Utiliser une expression régulière pour extraire le prénom et le nom\n",
    "    #match = re.match(r'(\\w+), (\\w+ \\w+)', chaine)\n",
    "    #match = re.match(r'(\\w+), (\\w+)', chaine)\n",
    "\n",
    "    # Vérifier si la correspondance a été trouvée\n",
    "    #if match:\n",
    "        # Extraire le prénom et le nom\n",
    "        #nom = match.group(1)\n",
    "        #prenom = match.group(2)\n",
    "\n",
    "        # Former la chaîne de sortie\n",
    "        #chaine_resultat = f\"{prenom} {nom}\"\n",
    "\n",
    "        #return chaine_resultat\n",
    "    #else:\n",
    "     #   return \"Format de chaîne non reconnu.\""
   ]
  },
  {
   "cell_type": "code",
   "execution_count": 53,
   "metadata": {},
   "outputs": [
    {
     "data": {
      "text/plain": [
       "'Jean-Éric Alauzet'"
      ]
     },
     "execution_count": 53,
     "metadata": {},
     "output_type": "execute_result"
    }
   ],
   "source": [
    "import re\n",
    "\n",
    "def extraire_nom_prenom_bis(chaine):\n",
    "    \"\"\"\n",
    "    Extrait le prénom et le nom d'une chaîne de caractères de format 'Nom, Prénom Prénom Nom\\n'.\n",
    "\n",
    "    Args:\n",
    "    - chaine (str): Chaîne de caractères à traiter.\n",
    "\n",
    "    Returns:\n",
    "    - str: Chaîne de caractères de format 'Prénom Nom'.\n",
    "    \"\"\"\n",
    "    \n",
    "    liste=chaine.split(' ')\n",
    "\n",
    "    prenom=liste[1]\n",
    "\n",
    "    match=re.match(r'\\w+',liste[0])\n",
    "\n",
    "    nom=match.group()\n",
    "\n",
    "    chaine_resultat = f\"{prenom} {nom}\"\n",
    "\n",
    "    return chaine_resultat\n",
    "extraire_nom_prenom_bis('Alauzet, Jean-Éric Jean-Éric Alauzet\\n')"
   ]
  },
  {
   "cell_type": "code",
   "execution_count": 28,
   "metadata": {},
   "outputs": [
    {
     "data": {
      "text/plain": [
       "'bonjour'"
      ]
     },
     "execution_count": 28,
     "metadata": {},
     "output_type": "execute_result"
    }
   ],
   "source": [
    "match= re.match(r'(\\w+), (\\w+)','bonjour, aurevoir')\n",
    "match.group(1)\n"
   ]
  },
  {
   "cell_type": "code",
   "execution_count": 41,
   "metadata": {},
   "outputs": [
    {
     "data": {
      "text/plain": [
       "'Jean-Éric'"
      ]
     },
     "execution_count": 41,
     "metadata": {},
     "output_type": "execute_result"
    }
   ],
   "source": [
    "chaine= 'Alauzet, Jean-Éric Jean-Éric Alauzet\\n'\n",
    "type(chaine)\n",
    "x=chaine.split(' ')[0]\n",
    "match=re.match(r'\\w+',x)\n",
    "prenom=match.group()\n",
    "prenom\n",
    "nom=chaine.split(' ')[1]\n",
    "nom"
   ]
  },
  {
   "cell_type": "code",
   "execution_count": 7,
   "metadata": {},
   "outputs": [],
   "source": [
    "def extraire_departement(chaine):\n",
    "    \"\"\"\n",
    "    Extrait le nom d'une chaîne de caractères de format 'Nom (numéro)\\n'.\n",
    "\n",
    "    Args:\n",
    "    - chaine (str): Chaîne de caractères à traiter.\n",
    "\n",
    "    Returns:\n",
    "    - str: Nom extrait.\n",
    "    \"\"\"\n",
    "    # Utiliser une expression régulière pour extraire le nom\n",
    "    match = re.match(r'(\\w+)', chaine)\n",
    "\n",
    "    # Vérifier si la correspondance a été trouvée\n",
    "    if match:\n",
    "        # Extraire le nom\n",
    "        nom = match.group(1)\n",
    "\n",
    "        return nom\n",
    "    else:\n",
    "        return \"Format de chaîne non reconnu.\""
   ]
  },
  {
   "cell_type": "code",
   "execution_count": 66,
   "metadata": {},
   "outputs": [],
   "source": [
    "def extraire_departement_bis(chaine):\n",
    "    \"\"\"\n",
    "    Extrait le prénom et le nom d'une chaîne de caractères de format 'Nom, Prénom Prénom Nom\\n'.\n",
    "\n",
    "    Args:\n",
    "    - chaine (str): Chaîne de caractères à traiter.\n",
    "\n",
    "    Returns:\n",
    "    - str: Chaîne de caractères de format 'Prénom Nom'.\n",
    "    \"\"\"\n",
    "    \n",
    "    liste=chaine.split(' ')\n",
    "\n",
    "    nom=liste[0]\n",
    "\n",
    "    return nom"
   ]
  },
  {
   "cell_type": "markdown",
   "metadata": {},
   "source": [
    "On peut désormais construire un dictionnaire avec pour clés les noms des départements. À chaque nom de département sera associée la liste des députés du département."
   ]
  },
  {
   "cell_type": "code",
   "execution_count": 75,
   "metadata": {},
   "outputs": [],
   "source": [
    "def fonction_depute_par_departement():\n",
    "    deputes_par_departement={}\n",
    "    # création du dictionnaire vide\n",
    "    for i in range(577):\n",
    "        tableau = soup.findAll('tbody')[1]\n",
    "\n",
    "        ligne=tableau.find_all('tr')[i+1]\n",
    "\n",
    "        depute=extraire_nom_prenom_bis(ligne.find_all('td')[1].text)\n",
    "\n",
    "        departement=extraire_departement_bis(ligne.find_all('td')[2].text)\n",
    "\n",
    "        if departement in deputes_par_departement:\n",
    "            \n",
    "            deputes_par_departement[departement].append(depute)\n",
    "\n",
    "        else:\n",
    "\n",
    "            deputes_par_departement[departement]=[depute]\n",
    "        \n",
    "    return deputes_par_departement   \n",
    "    "
   ]
  },
  {
   "cell_type": "code",
   "execution_count": 76,
   "metadata": {},
   "outputs": [
    {
     "data": {
      "text/plain": [
       "['David Amiel',\n",
       " 'Rodrigo Arenas',\n",
       " 'Julien Bayou',\n",
       " 'Fanta Berete',\n",
       " 'Aymeric Caron',\n",
       " 'Clara Chassaniol',\n",
       " 'Sophia Chikirou',\n",
       " 'Maud Gatel',\n",
       " 'Benjamin Haddad',\n",
       " 'Gendre, Le',\n",
       " 'Sarah Legrain',\n",
       " 'Sylvain Maillard',\n",
       " 'Danièle Obono',\n",
       " 'Astrid Panosyan',\n",
       " 'Sandrine Rousseau',\n",
       " 'Éva Sas',\n",
       " 'Danielle Simonnet',\n",
       " 'Caroline Yadan']"
      ]
     },
     "execution_count": 76,
     "metadata": {},
     "output_type": "execute_result"
    }
   ],
   "source": [
    "deputes_par_departement=fonction_depute_par_departement()\n",
    "deputes_par_departement['Paris']"
   ]
  }
 ],
 "metadata": {
  "kernelspec": {
   "display_name": "Python 3",
   "language": "python",
   "name": "python3"
  },
  "language_info": {
   "codemirror_mode": {
    "name": "ipython",
    "version": 3
   },
   "file_extension": ".py",
   "mimetype": "text/x-python",
   "name": "python",
   "nbconvert_exporter": "python",
   "pygments_lexer": "ipython3",
   "version": "3.11.7"
  }
 },
 "nbformat": 4,
 "nbformat_minor": 2
}
