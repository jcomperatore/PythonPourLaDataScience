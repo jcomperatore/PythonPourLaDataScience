{
 "cells": [
  {
   "cell_type": "markdown",
   "id": "c710f962-7741-4cb1-ac9c-aa5b194c5382",
   "metadata": {},
   "source": [
    "# Mise en forme des données dans un dataframe"
   ]
  },
  {
   "cell_type": "markdown",
   "id": "251e1041-6989-45fc-9b4d-183164f29ca1",
   "metadata": {},
   "source": [
    "## Création du dataframe"
   ]
  },
  {
   "cell_type": "code",
   "execution_count": 2,
   "id": "22d80f4a-ab4e-4192-b550-f38ac5840f2e",
   "metadata": {},
   "outputs": [],
   "source": [
    "import pandas as pd\n",
    "\n"
   ]
  },
  {
   "cell_type": "code",
   "execution_count": 3,
   "id": "1b12c347-7900-40d3-b644-e7f9283b9ef3",
   "metadata": {},
   "outputs": [],
   "source": [
    "dfQuestions = pd.DataFrame(\n",
    "        {\n",
    "            \"id\"  : [],\n",
    "            \"Groupe Parlementaire\" : [],\n",
    "            \"Nom du député\" : [],\n",
    "            \"Question\" : []\n",
    "        })"
   ]
  },
  {
   "cell_type": "code",
   "execution_count": 4,
   "id": "caecd8f4-ae2a-4f34-aa41-7e6a767e6ed5",
   "metadata": {},
   "outputs": [],
   "source": [
    "cols =  [\"id\",\n",
    "            \"Groupe Parlementaire\",\n",
    "            \"Nom du député\",\n",
    "            \"Question\"]"
   ]
  },
  {
   "cell_type": "markdown",
   "id": "80a083df-e21f-4263-b12d-23347b8693db",
   "metadata": {},
   "source": [
    "## Récupération des données d'une question"
   ]
  },
  {
   "cell_type": "markdown",
   "id": "82794083-eae2-42b6-bdbd-c9c437d41ee7",
   "metadata": {},
   "source": [
    "#### Imports et fonctions utilitaires"
   ]
  },
  {
   "cell_type": "code",
   "execution_count": 5,
   "id": "b65d3886-86e5-48ea-ad01-364ec189b22d",
   "metadata": {},
   "outputs": [
    {
     "name": "stdout",
     "output_type": "stream",
     "text": [
      "Collecting webdriver-manager\n",
      "  Downloading webdriver_manager-4.0.1-py2.py3-none-any.whl (27 kB)\n",
      "Collecting python-dotenv\n",
      "  Downloading python_dotenv-1.0.0-py3-none-any.whl (19 kB)\n",
      "Requirement already satisfied: requests in /Users/iokanaanbelfis-simon/opt/anaconda3/lib/python3.9/site-packages (from webdriver-manager) (2.27.1)\n",
      "Requirement already satisfied: packaging in /Users/iokanaanbelfis-simon/opt/anaconda3/lib/python3.9/site-packages (from webdriver-manager) (21.3)\n",
      "Requirement already satisfied: pyparsing!=3.0.5,>=2.0.2 in /Users/iokanaanbelfis-simon/opt/anaconda3/lib/python3.9/site-packages (from packaging->webdriver-manager) (3.0.4)\n",
      "Requirement already satisfied: idna<4,>=2.5 in /Users/iokanaanbelfis-simon/opt/anaconda3/lib/python3.9/site-packages (from requests->webdriver-manager) (3.3)\n",
      "Requirement already satisfied: charset-normalizer~=2.0.0 in /Users/iokanaanbelfis-simon/opt/anaconda3/lib/python3.9/site-packages (from requests->webdriver-manager) (2.0.4)\n",
      "Requirement already satisfied: certifi>=2017.4.17 in /Users/iokanaanbelfis-simon/opt/anaconda3/lib/python3.9/site-packages (from requests->webdriver-manager) (2021.10.8)\n",
      "Requirement already satisfied: urllib3<1.27,>=1.21.1 in /Users/iokanaanbelfis-simon/opt/anaconda3/lib/python3.9/site-packages (from requests->webdriver-manager) (1.26.9)\n",
      "Installing collected packages: python-dotenv, webdriver-manager\n",
      "Successfully installed python-dotenv-1.0.0 webdriver-manager-4.0.1\n",
      "Collecting bs4\n",
      "  Downloading bs4-0.0.1.tar.gz (1.1 kB)\n",
      "Requirement already satisfied: beautifulsoup4 in /Users/iokanaanbelfis-simon/opt/anaconda3/lib/python3.9/site-packages (from bs4) (4.11.1)\n",
      "Requirement already satisfied: soupsieve>1.2 in /Users/iokanaanbelfis-simon/opt/anaconda3/lib/python3.9/site-packages (from beautifulsoup4->bs4) (2.3.1)\n",
      "Building wheels for collected packages: bs4\n",
      "  Building wheel for bs4 (setup.py) ... \u001b[?25ldone\n",
      "\u001b[?25h  Created wheel for bs4: filename=bs4-0.0.1-py3-none-any.whl size=1272 sha256=9aca3753a7016bde476c9e453ec16494cfafe43141f26bb8dac3d4dd50873606\n",
      "  Stored in directory: /Users/iokanaanbelfis-simon/Library/Caches/pip/wheels/73/2b/cb/099980278a0c9a3e57ff1a89875ec07bfa0b6fcbebb9a8cad3\n",
      "Successfully built bs4\n",
      "Installing collected packages: bs4\n",
      "Successfully installed bs4-0.0.1\n"
     ]
    }
   ],
   "source": [
    "!pip install webdriver-manager\n",
    "!pip install -q lxml\n",
    "!pip install bs4\n",
    "\n",
    "import bs4\n",
    "import lxml\n",
    "import pandas\n",
    "import urllib\n",
    "import re\n",
    "\n",
    "from urllib import request"
   ]
  },
  {
   "cell_type": "markdown",
   "id": "98080e37",
   "metadata": {},
   "source": [
    "#### Ouverture de la Page"
   ]
  },
  {
   "cell_type": "code",
   "execution_count": 6,
   "id": "d3e863e7-ea66-43f9-831e-e918d910c6c4",
   "metadata": {},
   "outputs": [],
   "source": [
    "def pageurl(x) : \n",
    "    return \"https://questions.assemblee-nationale.fr/q16/16-\"+str(x)+\"QE.htm\""
   ]
  },
  {
   "cell_type": "code",
   "execution_count": 7,
   "id": "4254e898-89f1-42c1-a6c7-06685fb30dd5",
   "metadata": {},
   "outputs": [],
   "source": [
    "k = 1\n",
    "source_code = request.urlopen(pageurl(k)).read()\n",
    "page = bs4.BeautifulSoup(source_code)"
   ]
  },
  {
   "cell_type": "markdown",
   "id": "f6f937a2",
   "metadata": {},
   "source": [
    "#### Récupération d'une question"
   ]
  },
  {
   "cell_type": "code",
   "execution_count": 8,
   "id": "1184ea41-d34f-480f-9fd9-bc02f62ae23d",
   "metadata": {},
   "outputs": [],
   "source": [
    "question0 = page.find(\"div\", {\"class\" : \"question\"})\n",
    "question = question0.find(\"p\")\n",
    "question = question.text.strip()"
   ]
  },
  {
   "cell_type": "markdown",
   "id": "ba59b5ab",
   "metadata": {},
   "source": [
    "#### Récupération de la Rubrique et du Titre de la question"
   ]
  },
  {
   "cell_type": "code",
   "execution_count": 9,
   "id": "d5289401",
   "metadata": {},
   "outputs": [],
   "source": [
    "rubrique0 = page.findAll(\"div\", {\"class\" : \"question_col33\"})\n",
    "rubrique,titre = rubrique0[0].find(\"p\"), rubrique0[1].find(\"p\")\n",
    "rubrique, titre = rubrique.text.strip()[11:], titre.text.strip()[8:]"
   ]
  },
  {
   "cell_type": "markdown",
   "id": "b1292750",
   "metadata": {},
   "source": [
    "#### Récupération du ministère interrogé"
   ]
  },
  {
   "cell_type": "code",
   "execution_count": 10,
   "metadata": {},
   "outputs": [],
   "source": [
    "ministere0 = page.find(\"div\", {\"class\" : \"question_col50\"})\n",
    "ministere = ministere0.text.strip()[23:]"
   ]
  },
  {
   "cell_type": "markdown",
   "id": "85e67837",
   "metadata": {},
   "source": [
    "#### Récupération de la date de la question"
   ]
  },
  {
   "cell_type": "code",
   "execution_count": 11,
   "id": "a416c840",
   "metadata": {},
   "outputs": [],
   "source": [
    "date0 = page.find(\"div\", {\"class\" : \"question_publish_date\"})\n",
    "date = date0.find(\"span\")\n",
    "date = date.text.strip()"
   ]
  },
  {
   "cell_type": "markdown",
   "id": "e0bd70d3-4f68-4e20-9bbf-696472e975ed",
   "metadata": {},
   "source": [
    "#### Récuperation des données du parlementaire"
   ]
  },
  {
   "cell_type": "code",
   "execution_count": 12,
   "id": "4159f1d0-f4ef-4366-bd40-dfde832334e1",
   "metadata": {},
   "outputs": [],
   "source": [
    "lien0 = page.find(\"span\", {\"class\" : \"question_big_content\"})\n",
    "lien = lien0.find(\"a\").get(\"href\")"
   ]
  },
  {
   "cell_type": "code",
   "execution_count": 13,
   "id": "c507dc5c-9402-4498-add4-afd58f65758f",
   "metadata": {},
   "outputs": [],
   "source": [
    "source_code_parlementaire = request.urlopen(lien).read()\n",
    "page_parlementaire = bs4.BeautifulSoup(source_code_parlementaire)\n"
   ]
  },
  {
   "cell_type": "code",
   "execution_count": 14,
   "id": "19384aa9-376c-47e2-a11b-5dd232b21a41",
   "metadata": {},
   "outputs": [],
   "source": [
    "groupe0 = page_parlementaire.find(\"a\", {\"class\" : \"h4 _colored link\"})\n",
    "groupe = groupe0.text.strip()\n",
    "\n",
    "nom0 = page_parlementaire.find(\"h1\", {\"class\" : \"h1 _mt-small\"})\n",
    "nom = nom0.text.strip()"
   ]
  },
  {
   "cell_type": "markdown",
   "id": "e6f9108e",
   "metadata": {},
   "source": [
    "#### Récuperation du ministère auquel la question est posée"
   ]
  },
  {
   "cell_type": "code",
   "execution_count": 15,
   "id": "f1dc039b",
   "metadata": {},
   "outputs": [
    {
     "data": {
      "text/plain": [
       "\"M. Christophe Naegelen interroge M. le ministre de l'agriculture et de la souveraineté alimentaire sur le statut particulier des « patous » communément appelés chiens de berger ainsi que sur les dispositifs mis en place pour permettre la cohabitation entre les randonneurs et les patous. Les chiens de berger protègent les troupeaux et ne sont pas considérés comme divaguant lorsqu'ils se trouvent sans laisse et à distance de leur maître depuis la loi n° 2005-157 du 23 février 2005 qui a modifié l'article L. 211-23 du code rural. Désormais, la loi libère « de toute poursuite pénale pour divagation, l'éleveur ou le propriétaire d'un chien affecté à la protection du troupeau (« patous ») ou à la garde de celui-ci (chien de conduite) ». Des études ont montré que les patous ne sont pas dangereux pour les hommes, ces chiens sont dressés pour dissuader et non pour blesser. Néanmoins, des cas d'agressions sont recensés et une forte part des randonneurs sont inquiets de croiser ces chiens. Des panneaux d'informations sont présents en montagne pour prévenir les promeneurs et leur donner les consignes à suivre en cas de présence des « patous ». Cependant, la période estivale qui arrive laisse présager une forte affluence de randonneurs dans les Hautes-Vosges ainsi que dans tous les massifs français. C'est pourquoi intensifier la prévention et l'installation de panneaux d'information dès lors que les randonneurs entrent dans une zone dans laquelle les « patous » sont présents semble être opportun. Il l'interpelle sur le développement de dispositifs permettant une meilleure cohabitation des randonneurs et des « patous », afin d'articuler les problématiques touchant à la protection des agriculteurs et celles relatives la protection de l'environnement.\""
      ]
     },
     "execution_count": 15,
     "metadata": {},
     "output_type": "execute_result"
    }
   ],
   "source": [
    "question "
   ]
  },
  {
   "cell_type": "code",
   "execution_count": null,
   "id": "2c381743",
   "metadata": {},
   "outputs": [],
   "source": []
  },
  {
   "cell_type": "code",
   "execution_count": null,
   "id": "09cb6f66",
   "metadata": {},
   "outputs": [],
   "source": []
  },
  {
   "cell_type": "markdown",
   "id": "5625993b-ac09-4bfe-85da-ff95eca893ca",
   "metadata": {},
   "source": [
    "#### Ajout de la donnée au dataframe"
   ]
  },
  {
   "cell_type": "code",
   "execution_count": 16,
   "id": "a4c04b95-c93e-47ad-a97c-0d5ab8d46c44",
   "metadata": {},
   "outputs": [],
   "source": [
    "dfQuestion = pd.DataFrame([[k, groupe, nom, question]], columns = cols)"
   ]
  },
  {
   "cell_type": "code",
   "execution_count": 17,
   "id": "86e822bb-2baf-419f-aee1-5187df0500fe",
   "metadata": {},
   "outputs": [
    {
     "data": {
      "text/html": [
       "<div>\n",
       "<style scoped>\n",
       "    .dataframe tbody tr th:only-of-type {\n",
       "        vertical-align: middle;\n",
       "    }\n",
       "\n",
       "    .dataframe tbody tr th {\n",
       "        vertical-align: top;\n",
       "    }\n",
       "\n",
       "    .dataframe thead th {\n",
       "        text-align: right;\n",
       "    }\n",
       "</style>\n",
       "<table border=\"1\" class=\"dataframe\">\n",
       "  <thead>\n",
       "    <tr style=\"text-align: right;\">\n",
       "      <th></th>\n",
       "      <th>id</th>\n",
       "      <th>Groupe Parlementaire</th>\n",
       "      <th>Nom du député</th>\n",
       "      <th>Question</th>\n",
       "    </tr>\n",
       "  </thead>\n",
       "  <tbody>\n",
       "    <tr>\n",
       "      <th>0</th>\n",
       "      <td>1.0</td>\n",
       "      <td>Libertés, Indépendants, Outre-mer et Territoires</td>\n",
       "      <td>M. Christophe Naegelen</td>\n",
       "      <td>M. Christophe Naegelen interroge M. le ministr...</td>\n",
       "    </tr>\n",
       "  </tbody>\n",
       "</table>\n",
       "</div>"
      ],
      "text/plain": [
       "    id                              Groupe Parlementaire  \\\n",
       "0  1.0  Libertés, Indépendants, Outre-mer et Territoires   \n",
       "\n",
       "            Nom du député                                           Question  \n",
       "0  M. Christophe Naegelen  M. Christophe Naegelen interroge M. le ministr...  "
      ]
     },
     "execution_count": 17,
     "metadata": {},
     "output_type": "execute_result"
    }
   ],
   "source": [
    "dfQuestions = pd.concat([dfQuestions, dfQuestion], ignore_index = True)\n",
    "dfQuestions"
   ]
  },
  {
   "cell_type": "markdown",
   "id": "059b8ae9-a716-4bf2-8cf2-890e2c836127",
   "metadata": {},
   "source": [
    "## Création du Data Frame"
   ]
  },
  {
   "cell_type": "code",
   "execution_count": 18,
   "id": "1d78544c-aa3e-480b-b223-f3f6d967f626",
   "metadata": {},
   "outputs": [],
   "source": [
    "import pandas as pd\n",
    "import bs4\n",
    "import lxml\n",
    "import pandas\n",
    "import urllib\n",
    "import re\n",
    "\n",
    "from urllib import request\n",
    "\n",
    "def pageurl(x) : \n",
    "    return \"https://questions.assemblee-nationale.fr/q16/16-\"+str(x)+\"QE.htm\""
   ]
  },
  {
   "cell_type": "code",
   "execution_count": 19,
   "id": "2e884c63-d7b6-4891-9356-b444fb517887",
   "metadata": {},
   "outputs": [],
   "source": [
    "n = 100"
   ]
  },
  {
   "cell_type": "code",
   "execution_count": 20,
   "id": "6bb32014-3724-4bf7-8297-8aeea33b2a5b",
   "metadata": {},
   "outputs": [
    {
     "data": {
      "text/html": [
       "<div>\n",
       "<style scoped>\n",
       "    .dataframe tbody tr th:only-of-type {\n",
       "        vertical-align: middle;\n",
       "    }\n",
       "\n",
       "    .dataframe tbody tr th {\n",
       "        vertical-align: top;\n",
       "    }\n",
       "\n",
       "    .dataframe thead th {\n",
       "        text-align: right;\n",
       "    }\n",
       "</style>\n",
       "<table border=\"1\" class=\"dataframe\">\n",
       "  <thead>\n",
       "    <tr style=\"text-align: right;\">\n",
       "      <th></th>\n",
       "      <th>id</th>\n",
       "      <th>Groupe Parlementaire</th>\n",
       "      <th>Nom du député</th>\n",
       "      <th>Question</th>\n",
       "    </tr>\n",
       "  </thead>\n",
       "  <tbody>\n",
       "    <tr>\n",
       "      <th>0</th>\n",
       "      <td>1.0</td>\n",
       "      <td>Libertés, Indépendants, Outre-mer et Territoires</td>\n",
       "      <td>M. Christophe Naegelen</td>\n",
       "      <td>M. Christophe Naegelen interroge M. le ministr...</td>\n",
       "    </tr>\n",
       "    <tr>\n",
       "      <th>1</th>\n",
       "      <td>2.0</td>\n",
       "      <td>Les Républicains</td>\n",
       "      <td>M. Pierre Cordier</td>\n",
       "      <td>M. Pierre Cordier appelle l'attention de Mme l...</td>\n",
       "    </tr>\n",
       "    <tr>\n",
       "      <th>2</th>\n",
       "      <td>3.0</td>\n",
       "      <td>Démocrate (MoDem et Indépendants)</td>\n",
       "      <td>M. Frédéric Petit</td>\n",
       "      <td>M. Frédéric Petit appelle l'attention de M. le...</td>\n",
       "    </tr>\n",
       "    <tr>\n",
       "      <th>3</th>\n",
       "      <td>4.0</td>\n",
       "      <td>Renaissance</td>\n",
       "      <td>Mme Marie-Pierre Rixain</td>\n",
       "      <td>Mme Marie-Pierre Rixain appelle l'attention de...</td>\n",
       "    </tr>\n",
       "    <tr>\n",
       "      <th>4</th>\n",
       "      <td>5.0</td>\n",
       "      <td>Libertés, Indépendants, Outre-mer et Territoires</td>\n",
       "      <td>M. Christophe Naegelen</td>\n",
       "      <td>M. Christophe Naegelen interroge M. le ministr...</td>\n",
       "    </tr>\n",
       "    <tr>\n",
       "      <th>...</th>\n",
       "      <td>...</td>\n",
       "      <td>...</td>\n",
       "      <td>...</td>\n",
       "      <td>...</td>\n",
       "    </tr>\n",
       "    <tr>\n",
       "      <th>95</th>\n",
       "      <td>96.0</td>\n",
       "      <td>Les Républicains</td>\n",
       "      <td>Mme Véronique Louwagie</td>\n",
       "      <td>Mme Véronique Louwagie attire l'attention de M...</td>\n",
       "    </tr>\n",
       "    <tr>\n",
       "      <th>96</th>\n",
       "      <td>97.0</td>\n",
       "      <td>La France insoumise - Nouvelle Union Populaire...</td>\n",
       "      <td>M. François Ruffin</td>\n",
       "      <td>M. François Ruffin interroge M. le ministre dé...</td>\n",
       "    </tr>\n",
       "    <tr>\n",
       "      <th>97</th>\n",
       "      <td>98.0</td>\n",
       "      <td>Les Républicains</td>\n",
       "      <td>M. Thibault Bazin</td>\n",
       "      <td>M. Thibault Bazin appelle l'attention de M. le...</td>\n",
       "    </tr>\n",
       "    <tr>\n",
       "      <th>98</th>\n",
       "      <td>99.0</td>\n",
       "      <td>Renaissance</td>\n",
       "      <td>Mme Véronique Riotton</td>\n",
       "      <td>Mme Véronique Riotton attire l'attention de M....</td>\n",
       "    </tr>\n",
       "    <tr>\n",
       "      <th>99</th>\n",
       "      <td>100.0</td>\n",
       "      <td>Les Républicains</td>\n",
       "      <td>M. Pierre Cordier</td>\n",
       "      <td>M. Pierre Cordier appelle l'attention de M. le...</td>\n",
       "    </tr>\n",
       "  </tbody>\n",
       "</table>\n",
       "<p>100 rows × 4 columns</p>\n",
       "</div>"
      ],
      "text/plain": [
       "       id                               Groupe Parlementaire  \\\n",
       "0     1.0   Libertés, Indépendants, Outre-mer et Territoires   \n",
       "1     2.0                                   Les Républicains   \n",
       "2     3.0                  Démocrate (MoDem et Indépendants)   \n",
       "3     4.0                                        Renaissance   \n",
       "4     5.0   Libertés, Indépendants, Outre-mer et Territoires   \n",
       "..    ...                                                ...   \n",
       "95   96.0                                   Les Républicains   \n",
       "96   97.0  La France insoumise - Nouvelle Union Populaire...   \n",
       "97   98.0                                   Les Républicains   \n",
       "98   99.0                                        Renaissance   \n",
       "99  100.0                                   Les Républicains   \n",
       "\n",
       "              Nom du député                                           Question  \n",
       "0    M. Christophe Naegelen  M. Christophe Naegelen interroge M. le ministr...  \n",
       "1         M. Pierre Cordier  M. Pierre Cordier appelle l'attention de Mme l...  \n",
       "2         M. Frédéric Petit  M. Frédéric Petit appelle l'attention de M. le...  \n",
       "3   Mme Marie-Pierre Rixain  Mme Marie-Pierre Rixain appelle l'attention de...  \n",
       "4    M. Christophe Naegelen  M. Christophe Naegelen interroge M. le ministr...  \n",
       "..                      ...                                                ...  \n",
       "95   Mme Véronique Louwagie  Mme Véronique Louwagie attire l'attention de M...  \n",
       "96       M. François Ruffin  M. François Ruffin interroge M. le ministre dé...  \n",
       "97        M. Thibault Bazin  M. Thibault Bazin appelle l'attention de M. le...  \n",
       "98    Mme Véronique Riotton  Mme Véronique Riotton attire l'attention de M....  \n",
       "99        M. Pierre Cordier  M. Pierre Cordier appelle l'attention de M. le...  \n",
       "\n",
       "[100 rows x 4 columns]"
      ]
     },
     "execution_count": 20,
     "metadata": {},
     "output_type": "execute_result"
    }
   ],
   "source": [
    "dfQuestions = pd.DataFrame(\n",
    "        {\n",
    "            \"id\"  : [],\n",
    "            \"Groupe Parlementaire\" : [],\n",
    "            \"Nom du député\" : [],\n",
    "            \"Question\" : []\n",
    "        })\n",
    "\n",
    "for k in range(1, n+1) : \n",
    "    source_code = request.urlopen(pageurl(k)).read()\n",
    "    page = bs4.BeautifulSoup(source_code)\n",
    "    question0 = page.find(\"div\", {\"class\" : \"question\"})\n",
    "    question = question0.find(\"p\")\n",
    "    question = question.text.strip()\n",
    "    \n",
    "    lien0 = page.find(\"span\", {\"class\" : \"question_big_content\"})\n",
    "    lien = lien0.find(\"a\").get(\"href\")\n",
    "\n",
    "    source_code_parlementaire = request.urlopen(lien).read()\n",
    "    page_parlementaire = bs4.BeautifulSoup(source_code_parlementaire)\n",
    "\n",
    "    groupe0 = page_parlementaire.find(\"a\", {\"class\" : \"h4 _colored link\"})\n",
    "    groupe = groupe0.text.strip()\n",
    "\n",
    "    nom0 = page_parlementaire.find(\"h1\", {\"class\" : \"h1 _mt-small\"})\n",
    "    nom = nom0.text.strip()\n",
    "\n",
    "    dfQuestion = pd.DataFrame([[k, groupe, nom, question]], columns = cols)\n",
    "    dfQuestions = pd.concat([dfQuestions, dfQuestion], ignore_index = True)\n",
    "\n",
    "dfQuestions"
   ]
  },
  {
   "cell_type": "markdown",
   "metadata": {},
   "source": [
    "## Cleaning\n"
   ]
  },
  {
   "cell_type": "code",
   "execution_count": 24,
   "metadata": {},
   "outputs": [
    {
     "name": "stdout",
     "output_type": "stream",
     "text": [
      "Collecting spacy\n",
      "  Downloading spacy-3.7.2-cp39-cp39-macosx_10_9_x86_64.whl (6.9 MB)\n",
      "\u001b[K     |████████████████████████████████| 6.9 MB 4.0 MB/s eta 0:00:01\n",
      "\u001b[?25hRequirement already satisfied: packaging>=20.0 in /Users/iokanaanbelfis-simon/opt/anaconda3/lib/python3.9/site-packages (from spacy) (21.3)\n",
      "Collecting thinc<8.3.0,>=8.1.8\n",
      "  Downloading thinc-8.2.2-cp39-cp39-macosx_10_9_x86_64.whl (878 kB)\n",
      "\u001b[K     |████████████████████████████████| 878 kB 8.6 MB/s eta 0:00:01\n",
      "\u001b[?25hRequirement already satisfied: tqdm<5.0.0,>=4.38.0 in /Users/iokanaanbelfis-simon/opt/anaconda3/lib/python3.9/site-packages (from spacy) (4.64.0)\n",
      "Requirement already satisfied: numpy>=1.19.0 in /Users/iokanaanbelfis-simon/opt/anaconda3/lib/python3.9/site-packages (from spacy) (1.21.5)\n",
      "Collecting cymem<2.1.0,>=2.0.2\n",
      "  Downloading cymem-2.0.8-cp39-cp39-macosx_10_9_x86_64.whl (42 kB)\n",
      "\u001b[K     |████████████████████████████████| 42 kB 1.6 MB/s  eta 0:00:01\n",
      "\u001b[?25hCollecting catalogue<2.1.0,>=2.0.6\n",
      "  Downloading catalogue-2.0.10-py3-none-any.whl (17 kB)\n",
      "Collecting langcodes<4.0.0,>=3.2.0\n",
      "  Downloading langcodes-3.3.0-py3-none-any.whl (181 kB)\n",
      "\u001b[K     |████████████████████████████████| 181 kB 12.4 MB/s eta 0:00:01\n",
      "\u001b[?25hCollecting murmurhash<1.1.0,>=0.28.0\n",
      "  Downloading murmurhash-1.0.10-cp39-cp39-macosx_10_9_x86_64.whl (26 kB)\n",
      "Collecting smart-open<7.0.0,>=5.2.1\n",
      "  Downloading smart_open-6.4.0-py3-none-any.whl (57 kB)\n",
      "\u001b[K     |████████████████████████████████| 57 kB 5.4 MB/s  eta 0:00:01\n",
      "\u001b[?25hCollecting typer<0.10.0,>=0.3.0\n",
      "  Downloading typer-0.9.0-py3-none-any.whl (45 kB)\n",
      "\u001b[K     |████████████████████████████████| 45 kB 4.6 MB/s  eta 0:00:01\n",
      "\u001b[?25hRequirement already satisfied: requests<3.0.0,>=2.13.0 in /Users/iokanaanbelfis-simon/opt/anaconda3/lib/python3.9/site-packages (from spacy) (2.27.1)\n",
      "Collecting weasel<0.4.0,>=0.1.0\n",
      "  Downloading weasel-0.3.4-py3-none-any.whl (50 kB)\n",
      "\u001b[K     |████████████████████████████████| 50 kB 6.0 MB/s eta 0:00:011\n",
      "\u001b[?25hCollecting pydantic!=1.8,!=1.8.1,<3.0.0,>=1.7.4\n",
      "  Downloading pydantic-2.5.3-py3-none-any.whl (381 kB)\n",
      "\u001b[K     |████████████████████████████████| 381 kB 8.0 MB/s eta 0:00:01\n",
      "\u001b[?25hCollecting preshed<3.1.0,>=3.0.2\n",
      "  Downloading preshed-3.0.9-cp39-cp39-macosx_10_9_x86_64.whl (133 kB)\n",
      "\u001b[K     |████████████████████████████████| 133 kB 7.4 MB/s eta 0:00:01\n",
      "\u001b[?25hRequirement already satisfied: setuptools in /Users/iokanaanbelfis-simon/opt/anaconda3/lib/python3.9/site-packages (from spacy) (61.2.0)\n",
      "Collecting spacy-legacy<3.1.0,>=3.0.11\n",
      "  Downloading spacy_legacy-3.0.12-py2.py3-none-any.whl (29 kB)\n",
      "Collecting spacy-loggers<2.0.0,>=1.0.0\n",
      "  Downloading spacy_loggers-1.0.5-py3-none-any.whl (22 kB)\n",
      "Requirement already satisfied: jinja2 in /Users/iokanaanbelfis-simon/opt/anaconda3/lib/python3.9/site-packages (from spacy) (2.11.3)\n",
      "Collecting srsly<3.0.0,>=2.4.3\n",
      "  Downloading srsly-2.4.8-cp39-cp39-macosx_10_9_x86_64.whl (493 kB)\n",
      "\u001b[K     |████████████████████████████████| 493 kB 7.4 MB/s eta 0:00:01\n",
      "\u001b[?25hCollecting wasabi<1.2.0,>=0.9.1\n",
      "  Downloading wasabi-1.1.2-py3-none-any.whl (27 kB)\n",
      "Requirement already satisfied: pyparsing!=3.0.5,>=2.0.2 in /Users/iokanaanbelfis-simon/opt/anaconda3/lib/python3.9/site-packages (from packaging>=20.0->spacy) (3.0.4)\n",
      "Collecting typing-extensions>=4.6.1\n",
      "  Using cached typing_extensions-4.9.0-py3-none-any.whl (32 kB)\n",
      "Collecting annotated-types>=0.4.0\n",
      "  Downloading annotated_types-0.6.0-py3-none-any.whl (12 kB)\n",
      "Collecting pydantic-core==2.14.6\n",
      "  Downloading pydantic_core-2.14.6-cp39-cp39-macosx_10_7_x86_64.whl (1.9 MB)\n",
      "\u001b[K     |████████████████████████████████| 1.9 MB 6.9 MB/s eta 0:00:01\n",
      "\u001b[?25hRequirement already satisfied: idna<4,>=2.5 in /Users/iokanaanbelfis-simon/opt/anaconda3/lib/python3.9/site-packages (from requests<3.0.0,>=2.13.0->spacy) (3.3)\n",
      "Requirement already satisfied: charset-normalizer~=2.0.0 in /Users/iokanaanbelfis-simon/opt/anaconda3/lib/python3.9/site-packages (from requests<3.0.0,>=2.13.0->spacy) (2.0.4)\n",
      "Requirement already satisfied: certifi>=2017.4.17 in /Users/iokanaanbelfis-simon/opt/anaconda3/lib/python3.9/site-packages (from requests<3.0.0,>=2.13.0->spacy) (2021.10.8)\n",
      "Requirement already satisfied: urllib3<1.27,>=1.21.1 in /Users/iokanaanbelfis-simon/opt/anaconda3/lib/python3.9/site-packages (from requests<3.0.0,>=2.13.0->spacy) (1.26.9)\n",
      "Collecting confection<1.0.0,>=0.0.1\n",
      "  Downloading confection-0.1.4-py3-none-any.whl (35 kB)\n",
      "Collecting blis<0.8.0,>=0.7.8\n",
      "  Downloading blis-0.7.11-cp39-cp39-macosx_10_9_x86_64.whl (6.1 MB)\n",
      "\u001b[K     |████████████████████████████████| 6.1 MB 10.4 MB/s eta 0:00:01\n",
      "\u001b[?25hRequirement already satisfied: click<9.0.0,>=7.1.1 in /Users/iokanaanbelfis-simon/opt/anaconda3/lib/python3.9/site-packages (from typer<0.10.0,>=0.3.0->spacy) (8.0.4)\n",
      "Collecting cloudpathlib<0.17.0,>=0.7.0\n",
      "  Downloading cloudpathlib-0.16.0-py3-none-any.whl (45 kB)\n",
      "\u001b[K     |████████████████████████████████| 45 kB 4.6 MB/s  eta 0:00:01\n",
      "\u001b[?25hRequirement already satisfied: MarkupSafe>=0.23 in /Users/iokanaanbelfis-simon/opt/anaconda3/lib/python3.9/site-packages (from jinja2->spacy) (2.0.1)\n",
      "Installing collected packages: typing-extensions, pydantic-core, catalogue, annotated-types, srsly, pydantic, murmurhash, cymem, wasabi, typer, smart-open, preshed, confection, cloudpathlib, blis, weasel, thinc, spacy-loggers, spacy-legacy, langcodes, spacy\n",
      "  Attempting uninstall: typing-extensions\n",
      "    Found existing installation: typing-extensions 4.1.1\n",
      "    Uninstalling typing-extensions-4.1.1:\n",
      "      Successfully uninstalled typing-extensions-4.1.1\n",
      "  Attempting uninstall: smart-open\n",
      "    Found existing installation: smart-open 5.1.0\n",
      "    Uninstalling smart-open-5.1.0:\n",
      "      Successfully uninstalled smart-open-5.1.0\n",
      "Successfully installed annotated-types-0.6.0 blis-0.7.11 catalogue-2.0.10 cloudpathlib-0.16.0 confection-0.1.4 cymem-2.0.8 langcodes-3.3.0 murmurhash-1.0.10 preshed-3.0.9 pydantic-2.5.3 pydantic-core-2.14.6 smart-open-6.4.0 spacy-3.7.2 spacy-legacy-3.0.12 spacy-loggers-1.0.5 srsly-2.4.8 thinc-8.2.2 typer-0.9.0 typing-extensions-4.9.0 wasabi-1.1.2 weasel-0.3.4\n",
      "Collecting fr-core-news-sm==3.7.0\n",
      "  Downloading https://github.com/explosion/spacy-models/releases/download/fr_core_news_sm-3.7.0/fr_core_news_sm-3.7.0-py3-none-any.whl (16.3 MB)\n",
      "\u001b[K     |████████████████████████████████| 16.3 MB 8.7 MB/s eta 0:00:01    |██                              | 1.1 MB 4.8 MB/s eta 0:00:04\n",
      "\u001b[?25hRequirement already satisfied: spacy<3.8.0,>=3.7.0 in /Users/iokanaanbelfis-simon/opt/anaconda3/lib/python3.9/site-packages (from fr-core-news-sm==3.7.0) (3.7.2)\n",
      "Requirement already satisfied: preshed<3.1.0,>=3.0.2 in /Users/iokanaanbelfis-simon/opt/anaconda3/lib/python3.9/site-packages (from spacy<3.8.0,>=3.7.0->fr-core-news-sm==3.7.0) (3.0.9)\n",
      "Requirement already satisfied: srsly<3.0.0,>=2.4.3 in /Users/iokanaanbelfis-simon/opt/anaconda3/lib/python3.9/site-packages (from spacy<3.8.0,>=3.7.0->fr-core-news-sm==3.7.0) (2.4.8)\n",
      "Requirement already satisfied: smart-open<7.0.0,>=5.2.1 in /Users/iokanaanbelfis-simon/opt/anaconda3/lib/python3.9/site-packages (from spacy<3.8.0,>=3.7.0->fr-core-news-sm==3.7.0) (6.4.0)\n",
      "Requirement already satisfied: spacy-legacy<3.1.0,>=3.0.11 in /Users/iokanaanbelfis-simon/opt/anaconda3/lib/python3.9/site-packages (from spacy<3.8.0,>=3.7.0->fr-core-news-sm==3.7.0) (3.0.12)\n",
      "Requirement already satisfied: typer<0.10.0,>=0.3.0 in /Users/iokanaanbelfis-simon/opt/anaconda3/lib/python3.9/site-packages (from spacy<3.8.0,>=3.7.0->fr-core-news-sm==3.7.0) (0.9.0)\n",
      "Requirement already satisfied: catalogue<2.1.0,>=2.0.6 in /Users/iokanaanbelfis-simon/opt/anaconda3/lib/python3.9/site-packages (from spacy<3.8.0,>=3.7.0->fr-core-news-sm==3.7.0) (2.0.10)\n",
      "Requirement already satisfied: langcodes<4.0.0,>=3.2.0 in /Users/iokanaanbelfis-simon/opt/anaconda3/lib/python3.9/site-packages (from spacy<3.8.0,>=3.7.0->fr-core-news-sm==3.7.0) (3.3.0)\n",
      "Requirement already satisfied: numpy>=1.19.0 in /Users/iokanaanbelfis-simon/opt/anaconda3/lib/python3.9/site-packages (from spacy<3.8.0,>=3.7.0->fr-core-news-sm==3.7.0) (1.21.5)\n",
      "Requirement already satisfied: setuptools in /Users/iokanaanbelfis-simon/opt/anaconda3/lib/python3.9/site-packages (from spacy<3.8.0,>=3.7.0->fr-core-news-sm==3.7.0) (61.2.0)\n",
      "Requirement already satisfied: tqdm<5.0.0,>=4.38.0 in /Users/iokanaanbelfis-simon/opt/anaconda3/lib/python3.9/site-packages (from spacy<3.8.0,>=3.7.0->fr-core-news-sm==3.7.0) (4.64.0)\n",
      "Requirement already satisfied: pydantic!=1.8,!=1.8.1,<3.0.0,>=1.7.4 in /Users/iokanaanbelfis-simon/opt/anaconda3/lib/python3.9/site-packages (from spacy<3.8.0,>=3.7.0->fr-core-news-sm==3.7.0) (2.5.3)\n",
      "Requirement already satisfied: jinja2 in /Users/iokanaanbelfis-simon/opt/anaconda3/lib/python3.9/site-packages (from spacy<3.8.0,>=3.7.0->fr-core-news-sm==3.7.0) (2.11.3)\n",
      "Requirement already satisfied: packaging>=20.0 in /Users/iokanaanbelfis-simon/opt/anaconda3/lib/python3.9/site-packages (from spacy<3.8.0,>=3.7.0->fr-core-news-sm==3.7.0) (21.3)\n",
      "Requirement already satisfied: thinc<8.3.0,>=8.1.8 in /Users/iokanaanbelfis-simon/opt/anaconda3/lib/python3.9/site-packages (from spacy<3.8.0,>=3.7.0->fr-core-news-sm==3.7.0) (8.2.2)\n",
      "Requirement already satisfied: spacy-loggers<2.0.0,>=1.0.0 in /Users/iokanaanbelfis-simon/opt/anaconda3/lib/python3.9/site-packages (from spacy<3.8.0,>=3.7.0->fr-core-news-sm==3.7.0) (1.0.5)\n",
      "Requirement already satisfied: wasabi<1.2.0,>=0.9.1 in /Users/iokanaanbelfis-simon/opt/anaconda3/lib/python3.9/site-packages (from spacy<3.8.0,>=3.7.0->fr-core-news-sm==3.7.0) (1.1.2)\n",
      "Requirement already satisfied: cymem<2.1.0,>=2.0.2 in /Users/iokanaanbelfis-simon/opt/anaconda3/lib/python3.9/site-packages (from spacy<3.8.0,>=3.7.0->fr-core-news-sm==3.7.0) (2.0.8)\n",
      "Requirement already satisfied: weasel<0.4.0,>=0.1.0 in /Users/iokanaanbelfis-simon/opt/anaconda3/lib/python3.9/site-packages (from spacy<3.8.0,>=3.7.0->fr-core-news-sm==3.7.0) (0.3.4)\n",
      "Requirement already satisfied: murmurhash<1.1.0,>=0.28.0 in /Users/iokanaanbelfis-simon/opt/anaconda3/lib/python3.9/site-packages (from spacy<3.8.0,>=3.7.0->fr-core-news-sm==3.7.0) (1.0.10)\n",
      "Requirement already satisfied: requests<3.0.0,>=2.13.0 in /Users/iokanaanbelfis-simon/opt/anaconda3/lib/python3.9/site-packages (from spacy<3.8.0,>=3.7.0->fr-core-news-sm==3.7.0) (2.27.1)\n",
      "Requirement already satisfied: pyparsing!=3.0.5,>=2.0.2 in /Users/iokanaanbelfis-simon/opt/anaconda3/lib/python3.9/site-packages (from packaging>=20.0->spacy<3.8.0,>=3.7.0->fr-core-news-sm==3.7.0) (3.0.4)\n",
      "Requirement already satisfied: typing-extensions>=4.6.1 in /Users/iokanaanbelfis-simon/opt/anaconda3/lib/python3.9/site-packages (from pydantic!=1.8,!=1.8.1,<3.0.0,>=1.7.4->spacy<3.8.0,>=3.7.0->fr-core-news-sm==3.7.0) (4.9.0)\n",
      "Requirement already satisfied: annotated-types>=0.4.0 in /Users/iokanaanbelfis-simon/opt/anaconda3/lib/python3.9/site-packages (from pydantic!=1.8,!=1.8.1,<3.0.0,>=1.7.4->spacy<3.8.0,>=3.7.0->fr-core-news-sm==3.7.0) (0.6.0)\n",
      "Requirement already satisfied: pydantic-core==2.14.6 in /Users/iokanaanbelfis-simon/opt/anaconda3/lib/python3.9/site-packages (from pydantic!=1.8,!=1.8.1,<3.0.0,>=1.7.4->spacy<3.8.0,>=3.7.0->fr-core-news-sm==3.7.0) (2.14.6)\n",
      "Requirement already satisfied: charset-normalizer~=2.0.0 in /Users/iokanaanbelfis-simon/opt/anaconda3/lib/python3.9/site-packages (from requests<3.0.0,>=2.13.0->spacy<3.8.0,>=3.7.0->fr-core-news-sm==3.7.0) (2.0.4)\n",
      "Requirement already satisfied: certifi>=2017.4.17 in /Users/iokanaanbelfis-simon/opt/anaconda3/lib/python3.9/site-packages (from requests<3.0.0,>=2.13.0->spacy<3.8.0,>=3.7.0->fr-core-news-sm==3.7.0) (2021.10.8)\n",
      "Requirement already satisfied: idna<4,>=2.5 in /Users/iokanaanbelfis-simon/opt/anaconda3/lib/python3.9/site-packages (from requests<3.0.0,>=2.13.0->spacy<3.8.0,>=3.7.0->fr-core-news-sm==3.7.0) (3.3)\n",
      "Requirement already satisfied: urllib3<1.27,>=1.21.1 in /Users/iokanaanbelfis-simon/opt/anaconda3/lib/python3.9/site-packages (from requests<3.0.0,>=2.13.0->spacy<3.8.0,>=3.7.0->fr-core-news-sm==3.7.0) (1.26.9)\n",
      "Requirement already satisfied: confection<1.0.0,>=0.0.1 in /Users/iokanaanbelfis-simon/opt/anaconda3/lib/python3.9/site-packages (from thinc<8.3.0,>=8.1.8->spacy<3.8.0,>=3.7.0->fr-core-news-sm==3.7.0) (0.1.4)\n",
      "Requirement already satisfied: blis<0.8.0,>=0.7.8 in /Users/iokanaanbelfis-simon/opt/anaconda3/lib/python3.9/site-packages (from thinc<8.3.0,>=8.1.8->spacy<3.8.0,>=3.7.0->fr-core-news-sm==3.7.0) (0.7.11)\n",
      "Requirement already satisfied: click<9.0.0,>=7.1.1 in /Users/iokanaanbelfis-simon/opt/anaconda3/lib/python3.9/site-packages (from typer<0.10.0,>=0.3.0->spacy<3.8.0,>=3.7.0->fr-core-news-sm==3.7.0) (8.0.4)\n",
      "Requirement already satisfied: cloudpathlib<0.17.0,>=0.7.0 in /Users/iokanaanbelfis-simon/opt/anaconda3/lib/python3.9/site-packages (from weasel<0.4.0,>=0.1.0->spacy<3.8.0,>=3.7.0->fr-core-news-sm==3.7.0) (0.16.0)\n",
      "Requirement already satisfied: MarkupSafe>=0.23 in /Users/iokanaanbelfis-simon/opt/anaconda3/lib/python3.9/site-packages (from jinja2->spacy<3.8.0,>=3.7.0->fr-core-news-sm==3.7.0) (2.0.1)\n",
      "Installing collected packages: fr-core-news-sm\n",
      "Successfully installed fr-core-news-sm-3.7.0\n",
      "\u001b[38;5;2m✔ Download and installation successful\u001b[0m\n",
      "You can now load the package via spacy.load('fr_core_news_sm')\n"
     ]
    }
   ],
   "source": [
    "!pip install spacy \n",
    "!python -m spacy download fr_core_news_sm"
   ]
  },
  {
   "cell_type": "code",
   "execution_count": 25,
   "metadata": {},
   "outputs": [],
   "source": [
    "import spacy\n",
    "nlp = spacy.load('fr_core_news_sm')\n",
    "\n",
    "def clean_docs(texts, remove_stopwords=True, n_process = 4):\n",
    "    \n",
    "    docs = nlp.pipe(texts, \n",
    "                    n_process=n_process,\n",
    "                    disable=['parser', 'ner', 'textcat'])\n",
    "    stopwords = nlp.Defaults.stop_words\n",
    "\n",
    "    docs_cleaned = []\n",
    "    for doc in docs:\n",
    "        tokens = [tok.text.lower().strip() for tok in doc if not tok.is_punct]\n",
    "        if remove_stopwords:\n",
    "            tokens = [tok for tok in tokens if tok not in stopwords]\n",
    "        doc_clean = ' '.join(tokens)\n",
    "        docs_cleaned.append(doc_clean)\n",
    "        \n",
    "    return docs_cleaned"
   ]
  },
  {
   "cell_type": "code",
   "execution_count": 26,
   "metadata": {},
   "outputs": [
    {
     "data": {
      "text/html": [
       "<div>\n",
       "<style scoped>\n",
       "    .dataframe tbody tr th:only-of-type {\n",
       "        vertical-align: middle;\n",
       "    }\n",
       "\n",
       "    .dataframe tbody tr th {\n",
       "        vertical-align: top;\n",
       "    }\n",
       "\n",
       "    .dataframe thead th {\n",
       "        text-align: right;\n",
       "    }\n",
       "</style>\n",
       "<table border=\"1\" class=\"dataframe\">\n",
       "  <thead>\n",
       "    <tr style=\"text-align: right;\">\n",
       "      <th></th>\n",
       "      <th>id</th>\n",
       "      <th>Groupe Parlementaire</th>\n",
       "      <th>Nom du député</th>\n",
       "      <th>Question</th>\n",
       "      <th>Question_clean</th>\n",
       "    </tr>\n",
       "  </thead>\n",
       "  <tbody>\n",
       "    <tr>\n",
       "      <th>0</th>\n",
       "      <td>1.0</td>\n",
       "      <td>Libertés, Indépendants, Outre-mer et Territoires</td>\n",
       "      <td>M. Christophe Naegelen</td>\n",
       "      <td>M. Christophe Naegelen interroge M. le ministr...</td>\n",
       "      <td>m. christophe naegelen interroge m. ministre a...</td>\n",
       "    </tr>\n",
       "    <tr>\n",
       "      <th>1</th>\n",
       "      <td>2.0</td>\n",
       "      <td>Les Républicains</td>\n",
       "      <td>M. Pierre Cordier</td>\n",
       "      <td>M. Pierre Cordier appelle l'attention de Mme l...</td>\n",
       "      <td>m. pierre cordier appelle attention mme minist...</td>\n",
       "    </tr>\n",
       "    <tr>\n",
       "      <th>2</th>\n",
       "      <td>3.0</td>\n",
       "      <td>Démocrate (MoDem et Indépendants)</td>\n",
       "      <td>M. Frédéric Petit</td>\n",
       "      <td>M. Frédéric Petit appelle l'attention de M. le...</td>\n",
       "      <td>m. frédéric petit appelle attention m. ministr...</td>\n",
       "    </tr>\n",
       "    <tr>\n",
       "      <th>3</th>\n",
       "      <td>4.0</td>\n",
       "      <td>Renaissance</td>\n",
       "      <td>Mme Marie-Pierre Rixain</td>\n",
       "      <td>Mme Marie-Pierre Rixain appelle l'attention de...</td>\n",
       "      <td>mme marie-pierre rixain appelle attention m. m...</td>\n",
       "    </tr>\n",
       "    <tr>\n",
       "      <th>4</th>\n",
       "      <td>5.0</td>\n",
       "      <td>Libertés, Indépendants, Outre-mer et Territoires</td>\n",
       "      <td>M. Christophe Naegelen</td>\n",
       "      <td>M. Christophe Naegelen interroge M. le ministr...</td>\n",
       "      <td>m. christophe naegelen interroge m. ministre é...</td>\n",
       "    </tr>\n",
       "  </tbody>\n",
       "</table>\n",
       "</div>"
      ],
      "text/plain": [
       "    id                              Groupe Parlementaire  \\\n",
       "0  1.0  Libertés, Indépendants, Outre-mer et Territoires   \n",
       "1  2.0                                  Les Républicains   \n",
       "2  3.0                 Démocrate (MoDem et Indépendants)   \n",
       "3  4.0                                       Renaissance   \n",
       "4  5.0  Libertés, Indépendants, Outre-mer et Territoires   \n",
       "\n",
       "             Nom du député                                           Question  \\\n",
       "0   M. Christophe Naegelen  M. Christophe Naegelen interroge M. le ministr...   \n",
       "1        M. Pierre Cordier  M. Pierre Cordier appelle l'attention de Mme l...   \n",
       "2        M. Frédéric Petit  M. Frédéric Petit appelle l'attention de M. le...   \n",
       "3  Mme Marie-Pierre Rixain  Mme Marie-Pierre Rixain appelle l'attention de...   \n",
       "4   M. Christophe Naegelen  M. Christophe Naegelen interroge M. le ministr...   \n",
       "\n",
       "                                      Question_clean  \n",
       "0  m. christophe naegelen interroge m. ministre a...  \n",
       "1  m. pierre cordier appelle attention mme minist...  \n",
       "2  m. frédéric petit appelle attention m. ministr...  \n",
       "3  mme marie-pierre rixain appelle attention m. m...  \n",
       "4  m. christophe naegelen interroge m. ministre é...  "
      ]
     },
     "execution_count": 26,
     "metadata": {},
     "output_type": "execute_result"
    }
   ],
   "source": [
    "dfQuestions['Question_clean'] = clean_docs(dfQuestions['Question'])\n",
    "dfQuestions.head()"
   ]
  },
  {
   "cell_type": "markdown",
   "id": "793ffbdb",
   "metadata": {},
   "source": [
    "## Création d'un fichier csv (semicolon)"
   ]
  },
  {
   "cell_type": "code",
   "execution_count": 27,
   "id": "240b9122-fe4b-4c31-91f5-61813c210f5a",
   "metadata": {},
   "outputs": [],
   "source": [
    "données = open(\"data.csv\", \"w\")\n",
    "\n",
    "données.write(\"id|groupe|nom|ministère_interrogé|rubrique|titre|date|question\")\n",
    "\n",
    "données.close()"
   ]
  },
  {
   "cell_type": "code",
   "execution_count": 28,
   "id": "81aa1e6b",
   "metadata": {},
   "outputs": [],
   "source": [
    "données = open(\"data.csv\", \"a\")\n",
    "\n",
    "for k in range(1, 501) : \n",
    "    source_code = request.urlopen(pageurl(k)).read()\n",
    "    page = bs4.BeautifulSoup(source_code)\n",
    "    question0 = page.find(\"div\", {\"class\" : \"question\"})\n",
    "    question = question0.find(\"p\")\n",
    "    question = question.text.strip()\n",
    "    \n",
    "    rubrique0 = page.findAll(\"div\", {\"class\" : \"question_col33\"})\n",
    "    rubrique,titre = rubrique0[0].find(\"p\"), rubrique0[1].find(\"p\")\n",
    "    rubrique, titre = rubrique.text.strip()[11:], titre.text.strip()[8:]\n",
    "    \n",
    "    ministere0 = page.find(\"div\", {\"class\" : \"question_col50\"})\n",
    "    ministere = ministere0.text.strip()[23:]\n",
    "\n",
    "    lien0 = page.find(\"span\", {\"class\" : \"question_big_content\"})\n",
    "    lien = lien0.find(\"a\").get(\"href\")\n",
    "\n",
    "    date0 = page.find(\"div\", {\"class\" : \"question_publish_date\"})\n",
    "    date = date0.find(\"span\")\n",
    "    date = date.text.strip()\n",
    "    \n",
    "    source_code_parlementaire = request.urlopen(lien).read()\n",
    "    page_parlementaire = bs4.BeautifulSoup(source_code_parlementaire)\n",
    "\n",
    "    groupe0 = page_parlementaire.find(\"a\", {\"class\" : \"h4 _colored link\"})\n",
    "    groupe = groupe0.text.strip()\n",
    "\n",
    "    nom0 = page_parlementaire.find(\"h1\", {\"class\" : \"h1 _mt-small\"})\n",
    "    nom = nom0.text.strip()\n",
    "\n",
    "    données.write(\"\\n\" + str(k) + \"|\" + groupe + \"|\" + nom +  \"|\" + ministere + \"|\" + rubrique + \"|\" + titre + \"|\" + date + \"|\" + question)\n",
    "\n",
    "données.close()"
   ]
  }
 ],
 "metadata": {
  "kernelspec": {
   "display_name": "Python 3 (ipykernel)",
   "language": "python",
   "name": "python3"
  },
  "language_info": {
   "codemirror_mode": {
    "name": "ipython",
    "version": 3
   },
   "file_extension": ".py",
   "mimetype": "text/x-python",
   "name": "python",
   "nbconvert_exporter": "python",
   "pygments_lexer": "ipython3",
   "version": "3.9.12"
  }
 },
 "nbformat": 4,
 "nbformat_minor": 5
}
