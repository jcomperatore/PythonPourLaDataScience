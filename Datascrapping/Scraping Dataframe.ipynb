{
 "cells": [
  {
   "cell_type": "markdown",
   "id": "c710f962-7741-4cb1-ac9c-aa5b194c5382",
   "metadata": {},
   "source": [
    "# Mise en forme des données dans un dataframe"
   ]
  },
  {
   "cell_type": "markdown",
   "id": "251e1041-6989-45fc-9b4d-183164f29ca1",
   "metadata": {},
   "source": [
    "## Création du dataframe"
   ]
  },
  {
   "cell_type": "code",
   "execution_count": 4,
   "id": "22d80f4a-ab4e-4192-b550-f38ac5840f2e",
   "metadata": {},
   "outputs": [],
   "source": [
    "import pandas as pd"
   ]
  },
  {
   "cell_type": "code",
   "execution_count": 73,
   "id": "1b12c347-7900-40d3-b644-e7f9283b9ef3",
   "metadata": {},
   "outputs": [],
   "source": [
    "dfQuestions = pd.DataFrame(\n",
    "        {\n",
    "            \"id\"  : [],\n",
    "            \"Groupe Parlementaire\" : [],\n",
    "            \"Nom du député\" : [],\n",
    "            \"Question\" : []\n",
    "        })"
   ]
  },
  {
   "cell_type": "code",
   "execution_count": 34,
   "id": "caecd8f4-ae2a-4f34-aa41-7e6a767e6ed5",
   "metadata": {},
   "outputs": [],
   "source": [
    "cols =  [\"id\",\n",
    "            \"Groupe Parlementaire\",\n",
    "            \"Nom du député\",\n",
    "            \"Question\"]"
   ]
  },
  {
   "cell_type": "markdown",
   "id": "80a083df-e21f-4263-b12d-23347b8693db",
   "metadata": {},
   "source": [
    "## Récupération des données d'une question"
   ]
  },
  {
   "cell_type": "markdown",
   "id": "82794083-eae2-42b6-bdbd-c9c437d41ee7",
   "metadata": {},
   "source": [
    "#### Imports et fonctions utilitaires"
   ]
  },
  {
   "cell_type": "code",
   "execution_count": 8,
   "id": "b65d3886-86e5-48ea-ad01-364ec189b22d",
   "metadata": {},
   "outputs": [],
   "source": [
    "import bs4\n",
    "import lxml\n",
    "import pandas\n",
    "import urllib\n",
    "import re\n",
    "\n",
    "from urllib import request"
   ]
  },
  {
   "cell_type": "code",
   "execution_count": 10,
   "id": "d3e863e7-ea66-43f9-831e-e918d910c6c4",
   "metadata": {},
   "outputs": [],
   "source": [
    "def pageurl(x) : \n",
    "    return \"https://questions.assemblee-nationale.fr/q16/16-\"+str(x)+\"QE.htm\""
   ]
  },
  {
   "cell_type": "markdown",
   "id": "42557065-df8e-480c-96b2-1971abc3bfb3",
   "metadata": {},
   "source": [
    "#### Récupération d'une question"
   ]
  },
  {
   "cell_type": "code",
   "execution_count": 58,
   "id": "4254e898-89f1-42c1-a6c7-06685fb30dd5",
   "metadata": {},
   "outputs": [],
   "source": [
    "k = 1"
   ]
  },
  {
   "cell_type": "code",
   "execution_count": 59,
   "id": "1184ea41-d34f-480f-9fd9-bc02f62ae23d",
   "metadata": {},
   "outputs": [],
   "source": [
    "source_code = request.urlopen(pageurl(k)).read()\n",
    "page = bs4.BeautifulSoup(source_code)\n",
    "question0 = page.find(\"div\", {\"class\" : \"question\"})\n",
    "question = question0.find(\"p\")\n",
    "question = question.text.strip()"
   ]
  },
  {
   "cell_type": "markdown",
   "id": "e0bd70d3-4f68-4e20-9bbf-696472e975ed",
   "metadata": {},
   "source": [
    "#### Récuperation des données du parlementaire"
   ]
  },
  {
   "cell_type": "code",
   "execution_count": 60,
   "id": "4159f1d0-f4ef-4366-bd40-dfde832334e1",
   "metadata": {},
   "outputs": [],
   "source": [
    "lien0 = page.find(\"span\", {\"class\" : \"question_big_content\"})\n",
    "lien = lien0.find(\"a\").get(\"href\")"
   ]
  },
  {
   "cell_type": "code",
   "execution_count": 61,
   "id": "c507dc5c-9402-4498-add4-afd58f65758f",
   "metadata": {},
   "outputs": [],
   "source": [
    "source_code_parlementaire = request.urlopen(lien).read()\n",
    "page_parlementaire = bs4.BeautifulSoup(source_code_parlementaire)\n"
   ]
  },
  {
   "cell_type": "code",
   "execution_count": 62,
   "id": "19384aa9-376c-47e2-a11b-5dd232b21a41",
   "metadata": {},
   "outputs": [],
   "source": [
    "groupe0 = page_parlementaire.find(\"a\", {\"class\" : \"h4 _colored link\"})\n",
    "groupe = groupe0.text.strip()\n",
    "\n",
    "nom0 = page_parlementaire.find(\"h1\", {\"class\" : \"h1 _mt-small\"})\n",
    "nom = nom0.text.strip()"
   ]
  },
  {
   "cell_type": "markdown",
   "id": "5625993b-ac09-4bfe-85da-ff95eca893ca",
   "metadata": {},
   "source": [
    "#### Ajout de la donnée au dataframe"
   ]
  },
  {
   "cell_type": "code",
   "execution_count": 63,
   "id": "a4c04b95-c93e-47ad-a97c-0d5ab8d46c44",
   "metadata": {},
   "outputs": [],
   "source": [
    "dfQuestion = pd.DataFrame([[k, groupe, nom, question]], columns = cols)"
   ]
  },
  {
   "cell_type": "code",
   "execution_count": 74,
   "id": "86e822bb-2baf-419f-aee1-5187df0500fe",
   "metadata": {},
   "outputs": [
    {
     "data": {
      "text/html": [
       "<div>\n",
       "<style scoped>\n",
       "    .dataframe tbody tr th:only-of-type {\n",
       "        vertical-align: middle;\n",
       "    }\n",
       "\n",
       "    .dataframe tbody tr th {\n",
       "        vertical-align: top;\n",
       "    }\n",
       "\n",
       "    .dataframe thead th {\n",
       "        text-align: right;\n",
       "    }\n",
       "</style>\n",
       "<table border=\"1\" class=\"dataframe\">\n",
       "  <thead>\n",
       "    <tr style=\"text-align: right;\">\n",
       "      <th></th>\n",
       "      <th>id</th>\n",
       "      <th>Groupe Parlementaire</th>\n",
       "      <th>Nom du député</th>\n",
       "      <th>Question</th>\n",
       "    </tr>\n",
       "  </thead>\n",
       "  <tbody>\n",
       "    <tr>\n",
       "      <th>0</th>\n",
       "      <td>1.0</td>\n",
       "      <td>Libertés, Indépendants, Outre-mer et Territoires</td>\n",
       "      <td>M. Christophe Naegelen</td>\n",
       "      <td>M. Christophe Naegelen interroge M. le ministr...</td>\n",
       "    </tr>\n",
       "  </tbody>\n",
       "</table>\n",
       "</div>"
      ],
      "text/plain": [
       "    id                              Groupe Parlementaire  \\\n",
       "0  1.0  Libertés, Indépendants, Outre-mer et Territoires   \n",
       "\n",
       "            Nom du député                                           Question  \n",
       "0  M. Christophe Naegelen  M. Christophe Naegelen interroge M. le ministr...  "
      ]
     },
     "execution_count": 74,
     "metadata": {},
     "output_type": "execute_result"
    }
   ],
   "source": [
    "dfQuestions = pd.concat([dfQuestions, dfQuestion], ignore_index = True)\n",
    "dfQuestions"
   ]
  },
  {
   "cell_type": "markdown",
   "id": "059b8ae9-a716-4bf2-8cf2-890e2c836127",
   "metadata": {},
   "source": [
    "## Création du Data Frame final"
   ]
  },
  {
   "cell_type": "code",
   "execution_count": null,
   "id": "1d78544c-aa3e-480b-b223-f3f6d967f626",
   "metadata": {},
   "outputs": [],
   "source": [
    "import pandas as pd\n",
    "import bs4\n",
    "import lxml\n",
    "import pandas\n",
    "import urllib\n",
    "import re\n",
    "\n",
    "from urllib import request\n",
    "\n",
    "def pageurl(x) : \n",
    "    return \"https://questions.assemblee-nationale.fr/q16/16-\"+str(x)+\"QE.htm\""
   ]
  },
  {
   "cell_type": "code",
   "execution_count": 75,
   "id": "2e884c63-d7b6-4891-9356-b444fb517887",
   "metadata": {},
   "outputs": [],
   "source": [
    "n = 20"
   ]
  },
  {
   "cell_type": "code",
   "execution_count": 78,
   "id": "6bb32014-3724-4bf7-8297-8aeea33b2a5b",
   "metadata": {},
   "outputs": [
    {
     "data": {
      "text/html": [
       "<div>\n",
       "<style scoped>\n",
       "    .dataframe tbody tr th:only-of-type {\n",
       "        vertical-align: middle;\n",
       "    }\n",
       "\n",
       "    .dataframe tbody tr th {\n",
       "        vertical-align: top;\n",
       "    }\n",
       "\n",
       "    .dataframe thead th {\n",
       "        text-align: right;\n",
       "    }\n",
       "</style>\n",
       "<table border=\"1\" class=\"dataframe\">\n",
       "  <thead>\n",
       "    <tr style=\"text-align: right;\">\n",
       "      <th></th>\n",
       "      <th>id</th>\n",
       "      <th>Groupe Parlementaire</th>\n",
       "      <th>Nom du député</th>\n",
       "      <th>Question</th>\n",
       "    </tr>\n",
       "  </thead>\n",
       "  <tbody>\n",
       "    <tr>\n",
       "      <th>0</th>\n",
       "      <td>1.0</td>\n",
       "      <td>Libertés, Indépendants, Outre-mer et Territoires</td>\n",
       "      <td>M. Christophe Naegelen</td>\n",
       "      <td>M. Christophe Naegelen interroge M. le ministr...</td>\n",
       "    </tr>\n",
       "    <tr>\n",
       "      <th>1</th>\n",
       "      <td>2.0</td>\n",
       "      <td>Les Républicains</td>\n",
       "      <td>M. Pierre Cordier</td>\n",
       "      <td>M. Pierre Cordier appelle l'attention de Mme l...</td>\n",
       "    </tr>\n",
       "    <tr>\n",
       "      <th>2</th>\n",
       "      <td>3.0</td>\n",
       "      <td>Démocrate (MoDem et Indépendants)</td>\n",
       "      <td>M. Frédéric Petit</td>\n",
       "      <td>M. Frédéric Petit appelle l'attention de M. le...</td>\n",
       "    </tr>\n",
       "    <tr>\n",
       "      <th>3</th>\n",
       "      <td>4.0</td>\n",
       "      <td>Renaissance</td>\n",
       "      <td>Mme Marie-Pierre Rixain</td>\n",
       "      <td>Mme Marie-Pierre Rixain appelle l'attention de...</td>\n",
       "    </tr>\n",
       "    <tr>\n",
       "      <th>4</th>\n",
       "      <td>5.0</td>\n",
       "      <td>Libertés, Indépendants, Outre-mer et Territoires</td>\n",
       "      <td>M. Christophe Naegelen</td>\n",
       "      <td>M. Christophe Naegelen interroge M. le ministr...</td>\n",
       "    </tr>\n",
       "    <tr>\n",
       "      <th>5</th>\n",
       "      <td>6.0</td>\n",
       "      <td>Gauche démocrate et républicaine - NUPES</td>\n",
       "      <td>M. Stéphane Peu</td>\n",
       "      <td>M. Stéphane Peu interroge M. le ministre de l'...</td>\n",
       "    </tr>\n",
       "    <tr>\n",
       "      <th>6</th>\n",
       "      <td>7.0</td>\n",
       "      <td>La France insoumise - Nouvelle Union Populaire...</td>\n",
       "      <td>M. Paul Vannier</td>\n",
       "      <td>M. Paul Vannier alerte M. le ministre de l'édu...</td>\n",
       "    </tr>\n",
       "    <tr>\n",
       "      <th>7</th>\n",
       "      <td>8.0</td>\n",
       "      <td>Les Républicains</td>\n",
       "      <td>Mme Alexandra Martin (Alpes-Maritimes)</td>\n",
       "      <td>Mme Alexandra Martin (Alpes-Maritimes) appelle...</td>\n",
       "    </tr>\n",
       "    <tr>\n",
       "      <th>8</th>\n",
       "      <td>9.0</td>\n",
       "      <td>Renaissance</td>\n",
       "      <td>Mme Marie-Pierre Rixain</td>\n",
       "      <td>Mme Marie-Pierre Rixain attire l'attention de ...</td>\n",
       "    </tr>\n",
       "    <tr>\n",
       "      <th>9</th>\n",
       "      <td>10.0</td>\n",
       "      <td>Renaissance</td>\n",
       "      <td>Mme Marie-Pierre Rixain</td>\n",
       "      <td>Mme Marie-Pierre Rixain appelle l'attention de...</td>\n",
       "    </tr>\n",
       "    <tr>\n",
       "      <th>10</th>\n",
       "      <td>11.0</td>\n",
       "      <td>Rassemblement National</td>\n",
       "      <td>Mme Marie-France Lorho</td>\n",
       "      <td>Mme Marie-France Lorho interroge Mme la minist...</td>\n",
       "    </tr>\n",
       "    <tr>\n",
       "      <th>11</th>\n",
       "      <td>12.0</td>\n",
       "      <td>Renaissance</td>\n",
       "      <td>Mme Marie-Pierre Rixain</td>\n",
       "      <td>Mme Marie-Pierre Rixain attire l'attention de ...</td>\n",
       "    </tr>\n",
       "    <tr>\n",
       "      <th>12</th>\n",
       "      <td>13.0</td>\n",
       "      <td>Renaissance</td>\n",
       "      <td>Mme Marie-Pierre Rixain</td>\n",
       "      <td>Mme Marie-Pierre Rixain attire l'attention de ...</td>\n",
       "    </tr>\n",
       "    <tr>\n",
       "      <th>13</th>\n",
       "      <td>14.0</td>\n",
       "      <td>Renaissance</td>\n",
       "      <td>Mme Marie-Pierre Rixain</td>\n",
       "      <td>Mme Marie-Pierre Rixain appelle l'attention de...</td>\n",
       "    </tr>\n",
       "    <tr>\n",
       "      <th>14</th>\n",
       "      <td>15.0</td>\n",
       "      <td>Renaissance</td>\n",
       "      <td>M. Didier Martin</td>\n",
       "      <td>M. Didier Martin interroge M. le ministre de l...</td>\n",
       "    </tr>\n",
       "    <tr>\n",
       "      <th>15</th>\n",
       "      <td>16.0</td>\n",
       "      <td>Gauche démocrate et républicaine - NUPES</td>\n",
       "      <td>M. Stéphane Peu</td>\n",
       "      <td>M. Stéphane Peu alerte M. le ministre de l'int...</td>\n",
       "    </tr>\n",
       "    <tr>\n",
       "      <th>16</th>\n",
       "      <td>17.0</td>\n",
       "      <td>Rassemblement National</td>\n",
       "      <td>Mme Marie-France Lorho</td>\n",
       "      <td>Mme Marie-France Lorho interroge Mme la minist...</td>\n",
       "    </tr>\n",
       "    <tr>\n",
       "      <th>17</th>\n",
       "      <td>18.0</td>\n",
       "      <td>Renaissance</td>\n",
       "      <td>Mme Danielle Brulebois</td>\n",
       "      <td>Mme Danielle Brulebois attire l'attention de M...</td>\n",
       "    </tr>\n",
       "    <tr>\n",
       "      <th>18</th>\n",
       "      <td>19.0</td>\n",
       "      <td>Horizons et apparentés</td>\n",
       "      <td>M. Thierry Benoit</td>\n",
       "      <td>M. Thierry Benoit attire l'attention de Mme la...</td>\n",
       "    </tr>\n",
       "    <tr>\n",
       "      <th>19</th>\n",
       "      <td>20.0</td>\n",
       "      <td>Renaissance</td>\n",
       "      <td>Mme Carole Grandjean</td>\n",
       "      <td>Mme Carole Grandjean attire l'attention de Mme...</td>\n",
       "    </tr>\n",
       "  </tbody>\n",
       "</table>\n",
       "</div>"
      ],
      "text/plain": [
       "      id                               Groupe Parlementaire  \\\n",
       "0    1.0   Libertés, Indépendants, Outre-mer et Territoires   \n",
       "1    2.0                                   Les Républicains   \n",
       "2    3.0                  Démocrate (MoDem et Indépendants)   \n",
       "3    4.0                                        Renaissance   \n",
       "4    5.0   Libertés, Indépendants, Outre-mer et Territoires   \n",
       "5    6.0           Gauche démocrate et républicaine - NUPES   \n",
       "6    7.0  La France insoumise - Nouvelle Union Populaire...   \n",
       "7    8.0                                   Les Républicains   \n",
       "8    9.0                                        Renaissance   \n",
       "9   10.0                                        Renaissance   \n",
       "10  11.0                             Rassemblement National   \n",
       "11  12.0                                        Renaissance   \n",
       "12  13.0                                        Renaissance   \n",
       "13  14.0                                        Renaissance   \n",
       "14  15.0                                        Renaissance   \n",
       "15  16.0           Gauche démocrate et républicaine - NUPES   \n",
       "16  17.0                             Rassemblement National   \n",
       "17  18.0                                        Renaissance   \n",
       "18  19.0                             Horizons et apparentés   \n",
       "19  20.0                                        Renaissance   \n",
       "\n",
       "                             Nom du député  \\\n",
       "0                   M. Christophe Naegelen   \n",
       "1                        M. Pierre Cordier   \n",
       "2                        M. Frédéric Petit   \n",
       "3                  Mme Marie-Pierre Rixain   \n",
       "4                   M. Christophe Naegelen   \n",
       "5                          M. Stéphane Peu   \n",
       "6                          M. Paul Vannier   \n",
       "7   Mme Alexandra Martin (Alpes-Maritimes)   \n",
       "8                  Mme Marie-Pierre Rixain   \n",
       "9                  Mme Marie-Pierre Rixain   \n",
       "10                  Mme Marie-France Lorho   \n",
       "11                 Mme Marie-Pierre Rixain   \n",
       "12                 Mme Marie-Pierre Rixain   \n",
       "13                 Mme Marie-Pierre Rixain   \n",
       "14                        M. Didier Martin   \n",
       "15                         M. Stéphane Peu   \n",
       "16                  Mme Marie-France Lorho   \n",
       "17                  Mme Danielle Brulebois   \n",
       "18                       M. Thierry Benoit   \n",
       "19                    Mme Carole Grandjean   \n",
       "\n",
       "                                             Question  \n",
       "0   M. Christophe Naegelen interroge M. le ministr...  \n",
       "1   M. Pierre Cordier appelle l'attention de Mme l...  \n",
       "2   M. Frédéric Petit appelle l'attention de M. le...  \n",
       "3   Mme Marie-Pierre Rixain appelle l'attention de...  \n",
       "4   M. Christophe Naegelen interroge M. le ministr...  \n",
       "5   M. Stéphane Peu interroge M. le ministre de l'...  \n",
       "6   M. Paul Vannier alerte M. le ministre de l'édu...  \n",
       "7   Mme Alexandra Martin (Alpes-Maritimes) appelle...  \n",
       "8   Mme Marie-Pierre Rixain attire l'attention de ...  \n",
       "9   Mme Marie-Pierre Rixain appelle l'attention de...  \n",
       "10  Mme Marie-France Lorho interroge Mme la minist...  \n",
       "11  Mme Marie-Pierre Rixain attire l'attention de ...  \n",
       "12  Mme Marie-Pierre Rixain attire l'attention de ...  \n",
       "13  Mme Marie-Pierre Rixain appelle l'attention de...  \n",
       "14  M. Didier Martin interroge M. le ministre de l...  \n",
       "15  M. Stéphane Peu alerte M. le ministre de l'int...  \n",
       "16  Mme Marie-France Lorho interroge Mme la minist...  \n",
       "17  Mme Danielle Brulebois attire l'attention de M...  \n",
       "18  M. Thierry Benoit attire l'attention de Mme la...  \n",
       "19  Mme Carole Grandjean attire l'attention de Mme...  "
      ]
     },
     "execution_count": 78,
     "metadata": {},
     "output_type": "execute_result"
    }
   ],
   "source": [
    "dfQuestions = pd.DataFrame(\n",
    "        {\n",
    "            \"id\"  : [],\n",
    "            \"Groupe Parlementaire\" : [],\n",
    "            \"Nom du député\" : [],\n",
    "            \"Question\" : []\n",
    "        })\n",
    "\n",
    "for k in range(1, n+1) : \n",
    "    source_code = request.urlopen(pageurl(k)).read()\n",
    "    page = bs4.BeautifulSoup(source_code)\n",
    "    question0 = page.find(\"div\", {\"class\" : \"question\"})\n",
    "    question = question0.find(\"p\")\n",
    "    question = question.text.strip()\n",
    "    \n",
    "    lien0 = page.find(\"span\", {\"class\" : \"question_big_content\"})\n",
    "    lien = lien0.find(\"a\").get(\"href\")\n",
    "\n",
    "    source_code_parlementaire = request.urlopen(lien).read()\n",
    "    page_parlementaire = bs4.BeautifulSoup(source_code_parlementaire)\n",
    "\n",
    "    groupe0 = page_parlementaire.find(\"a\", {\"class\" : \"h4 _colored link\"})\n",
    "    groupe = groupe0.text.strip()\n",
    "\n",
    "    nom0 = page_parlementaire.find(\"h1\", {\"class\" : \"h1 _mt-small\"})\n",
    "    nom = nom0.text.strip()\n",
    "\n",
    "    dfQuestion = pd.DataFrame([[k, groupe, nom, question]], columns = cols)\n",
    "    dfQuestions = pd.concat([dfQuestions, dfQuestion], ignore_index = True)\n",
    "\n",
    "dfQuestions"
   ]
  }
 ],
 "metadata": {
  "kernelspec": {
   "display_name": "Python 3 (ipykernel)",
   "language": "python",
   "name": "python3"
  },
  "language_info": {
   "codemirror_mode": {
    "name": "ipython",
    "version": 3
   },
   "file_extension": ".py",
   "mimetype": "text/x-python",
   "name": "python",
   "nbconvert_exporter": "python",
   "pygments_lexer": "ipython3",
   "version": "3.10.13"
  }
 },
 "nbformat": 4,
 "nbformat_minor": 5
}
