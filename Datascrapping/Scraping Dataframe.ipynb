{
 "cells": [
  {
   "cell_type": "markdown",
   "id": "c710f962-7741-4cb1-ac9c-aa5b194c5382",
   "metadata": {},
   "source": [
    "# Mise en forme des données dans un dataframe"
   ]
  },
  {
   "cell_type": "markdown",
   "id": "251e1041-6989-45fc-9b4d-183164f29ca1",
   "metadata": {},
   "source": [
    "## Création du dataframe"
   ]
  },
  {
   "cell_type": "code",
   "execution_count": 12,
   "id": "22d80f4a-ab4e-4192-b550-f38ac5840f2e",
   "metadata": {},
   "outputs": [],
   "source": [
    "import pandas as pd"
   ]
  },
  {
   "cell_type": "code",
   "execution_count": 13,
   "id": "1b12c347-7900-40d3-b644-e7f9283b9ef3",
   "metadata": {},
   "outputs": [],
   "source": [
    "dfQuestions = pd.DataFrame(\n",
    "        {\n",
    "            \"id\"  : [],\n",
    "            \"Groupe Parlementaire\" : [],\n",
    "            \"Nom du député\" : [],\n",
    "            \"Question\" : []\n",
    "        })"
   ]
  },
  {
   "cell_type": "code",
   "execution_count": 14,
   "id": "caecd8f4-ae2a-4f34-aa41-7e6a767e6ed5",
   "metadata": {},
   "outputs": [],
   "source": [
    "cols =  [\"id\",\n",
    "            \"Groupe Parlementaire\",\n",
    "            \"Nom du député\",\n",
    "            \"Question\"]"
   ]
  },
  {
   "cell_type": "markdown",
   "id": "80a083df-e21f-4263-b12d-23347b8693db",
   "metadata": {},
   "source": [
    "## Récupération des données d'une question"
   ]
  },
  {
   "cell_type": "markdown",
   "id": "82794083-eae2-42b6-bdbd-c9c437d41ee7",
   "metadata": {},
   "source": [
    "#### Imports et fonctions utilitaires"
   ]
  },
  {
   "cell_type": "code",
   "execution_count": 1,
   "id": "b65d3886-86e5-48ea-ad01-364ec189b22d",
   "metadata": {},
   "outputs": [
    {
     "name": "stdout",
     "output_type": "stream",
     "text": [
      "Requirement already satisfied: webdriver-manager in c:\\users\\jules\\appdata\\local\\programs\\python\\python311\\lib\\site-packages (4.0.1)\n",
      "Requirement already satisfied: requests in c:\\users\\jules\\appdata\\local\\programs\\python\\python311\\lib\\site-packages (from webdriver-manager) (2.28.2)\n",
      "Requirement already satisfied: python-dotenv in c:\\users\\jules\\appdata\\local\\programs\\python\\python311\\lib\\site-packages (from webdriver-manager) (1.0.0)\n",
      "Requirement already satisfied: packaging in c:\\users\\jules\\appdata\\roaming\\python\\python311\\site-packages (from webdriver-manager) (23.0)\n",
      "Requirement already satisfied: charset-normalizer<4,>=2 in c:\\users\\jules\\appdata\\local\\programs\\python\\python311\\lib\\site-packages (from requests->webdriver-manager) (3.1.0)\n",
      "Requirement already satisfied: idna<4,>=2.5 in c:\\users\\jules\\appdata\\local\\programs\\python\\python311\\lib\\site-packages (from requests->webdriver-manager) (3.4)\n",
      "Requirement already satisfied: urllib3<1.27,>=1.21.1 in c:\\users\\jules\\appdata\\local\\programs\\python\\python311\\lib\\site-packages (from requests->webdriver-manager) (1.26.15)\n",
      "Requirement already satisfied: certifi>=2017.4.17 in c:\\users\\jules\\appdata\\local\\programs\\python\\python311\\lib\\site-packages (from requests->webdriver-manager) (2022.12.7)\n"
     ]
    },
    {
     "name": "stderr",
     "output_type": "stream",
     "text": [
      "\n",
      "[notice] A new release of pip available: 22.3.1 -> 23.3.2\n",
      "[notice] To update, run: python.exe -m pip install --upgrade pip\n",
      "\n",
      "[notice] A new release of pip available: 22.3.1 -> 23.3.2\n",
      "[notice] To update, run: python.exe -m pip install --upgrade pip\n",
      "\n",
      "[notice] A new release of pip available: 22.3.1 -> 23.3.2\n",
      "[notice] To update, run: python.exe -m pip install --upgrade pip\n"
     ]
    },
    {
     "name": "stdout",
     "output_type": "stream",
     "text": [
      "Requirement already satisfied: bs4 in c:\\users\\jules\\appdata\\local\\programs\\python\\python311\\lib\\site-packages (0.0.1)\n",
      "Requirement already satisfied: beautifulsoup4 in c:\\users\\jules\\appdata\\local\\programs\\python\\python311\\lib\\site-packages (from bs4) (4.12.2)\n",
      "Requirement already satisfied: soupsieve>1.2 in c:\\users\\jules\\appdata\\local\\programs\\python\\python311\\lib\\site-packages (from beautifulsoup4->bs4) (2.5)\n"
     ]
    }
   ],
   "source": [
    "!pip install webdriver-manager\n",
    "!pip install -q lxml\n",
    "!pip install bs4\n",
    "\n",
    "import bs4\n",
    "import lxml\n",
    "import pandas\n",
    "import urllib\n",
    "import re\n",
    "\n",
    "from urllib import request"
   ]
  },
  {
   "cell_type": "markdown",
   "id": "98080e37",
   "metadata": {},
   "source": [
    "#### Ouverture de la Page"
   ]
  },
  {
   "cell_type": "code",
   "execution_count": 6,
   "id": "d3e863e7-ea66-43f9-831e-e918d910c6c4",
   "metadata": {},
   "outputs": [],
   "source": [
    "def pageurl(x) : \n",
    "    return \"https://questions.assemblee-nationale.fr/q16/16-\"+str(x)+\"QE.htm\""
   ]
  },
  {
   "cell_type": "code",
   "execution_count": 50,
   "id": "4254e898-89f1-42c1-a6c7-06685fb30dd5",
   "metadata": {},
   "outputs": [],
   "source": [
    "k = 1\n",
    "source_code = request.urlopen(pageurl(k)).read()\n",
    "page = bs4.BeautifulSoup(source_code)"
   ]
  },
  {
   "cell_type": "markdown",
   "id": "f6f937a2",
   "metadata": {},
   "source": [
    "#### Récupération d'une question"
   ]
  },
  {
   "cell_type": "code",
   "execution_count": 40,
   "id": "1184ea41-d34f-480f-9fd9-bc02f62ae23d",
   "metadata": {},
   "outputs": [],
   "source": [
    "question0 = page.find(\"div\", {\"class\" : \"question\"})\n",
    "question = question0.find(\"p\")\n",
    "question = question.text.strip()"
   ]
  },
  {
   "cell_type": "markdown",
   "id": "ba59b5ab",
   "metadata": {},
   "source": [
    "#### Récupération de la Rubrique et du Titre de la question"
   ]
  },
  {
   "cell_type": "code",
   "execution_count": 38,
   "id": "d5289401",
   "metadata": {},
   "outputs": [
    {
     "data": {
      "text/plain": [
       "'Demande de réouverture du services des urgences à Draguignan'"
      ]
     },
     "execution_count": 38,
     "metadata": {},
     "output_type": "execute_result"
    }
   ],
   "source": [
    "rubrique0 = page.findAll(\"div\", {\"class\" : \"question_col33\"})\n",
    "rubrique,titre = rubrique0[0].find(\"p\"), rubrique0[1].find(\"p\")\n",
    "rubrique, titre = rubrique.text.strip()[11:], titre.text.strip()[8:]"
   ]
  },
  {
   "cell_type": "markdown",
   "id": "b1292750",
   "metadata": {},
   "source": [
    "#### Récupération du ministère interrogé"
   ]
  },
  {
   "cell_type": "code",
   "execution_count": 47,
   "metadata": {},
   "outputs": [
    {
     "data": {
      "text/plain": [
       "'Santé et prévention'"
      ]
     },
     "execution_count": 47,
     "metadata": {},
     "output_type": "execute_result"
    }
   ],
   "source": [
    "ministere0 = page.find(\"div\", {\"class\" : \"question_col50\"})\n",
    "ministere = ministere0.text.strip()[23:]"
   ]
  },
  {
   "cell_type": "markdown",
   "id": "85e67837",
   "metadata": {},
   "source": [
    "#### Récupération de la date de la question"
   ]
  },
  {
   "cell_type": "code",
   "execution_count": 57,
   "id": "a416c840",
   "metadata": {},
   "outputs": [
    {
     "data": {
      "text/plain": [
       "'05/07/2022'"
      ]
     },
     "execution_count": 57,
     "metadata": {},
     "output_type": "execute_result"
    }
   ],
   "source": [
    "date0 = page.find(\"div\", {\"class\" : \"question_publish_date\"})\n",
    "date = date0.find(\"span\")\n",
    "date = date.text.strip()"
   ]
  },
  {
   "cell_type": "markdown",
   "id": "e0bd70d3-4f68-4e20-9bbf-696472e975ed",
   "metadata": {},
   "source": [
    "#### Récuperation des données du parlementaire"
   ]
  },
  {
   "cell_type": "code",
   "execution_count": 10,
   "id": "4159f1d0-f4ef-4366-bd40-dfde832334e1",
   "metadata": {},
   "outputs": [],
   "source": [
    "lien0 = page.find(\"span\", {\"class\" : \"question_big_content\"})\n",
    "lien = lien0.find(\"a\").get(\"href\")"
   ]
  },
  {
   "cell_type": "code",
   "execution_count": 11,
   "id": "c507dc5c-9402-4498-add4-afd58f65758f",
   "metadata": {},
   "outputs": [],
   "source": [
    "source_code_parlementaire = request.urlopen(lien).read()\n",
    "page_parlementaire = bs4.BeautifulSoup(source_code_parlementaire)\n"
   ]
  },
  {
   "cell_type": "code",
   "execution_count": 12,
   "id": "19384aa9-376c-47e2-a11b-5dd232b21a41",
   "metadata": {},
   "outputs": [],
   "source": [
    "groupe0 = page_parlementaire.find(\"a\", {\"class\" : \"h4 _colored link\"})\n",
    "groupe = groupe0.text.strip()\n",
    "\n",
    "nom0 = page_parlementaire.find(\"h1\", {\"class\" : \"h1 _mt-small\"})\n",
    "nom = nom0.text.strip()"
   ]
  },
  {
   "cell_type": "markdown",
   "id": "e6f9108e",
   "metadata": {},
   "source": [
    "#### Récuperation du ministère auquel la question est posée"
   ]
  },
  {
   "cell_type": "code",
   "execution_count": null,
   "id": "f1dc039b",
   "metadata": {},
   "outputs": [],
   "source": [
    "question "
   ]
  },
  {
   "cell_type": "code",
   "execution_count": null,
   "id": "2c381743",
   "metadata": {},
   "outputs": [],
   "source": []
  },
  {
   "cell_type": "code",
   "execution_count": null,
   "id": "09cb6f66",
   "metadata": {},
   "outputs": [],
   "source": []
  },
  {
   "cell_type": "markdown",
   "id": "5625993b-ac09-4bfe-85da-ff95eca893ca",
   "metadata": {},
   "source": [
    "#### Ajout de la donnée au dataframe"
   ]
  },
  {
   "cell_type": "code",
   "execution_count": 24,
   "id": "a4c04b95-c93e-47ad-a97c-0d5ab8d46c44",
   "metadata": {},
   "outputs": [],
   "source": [
    "dfQuestion = pd.DataFrame([[k, groupe, nom, question]], columns = cols)"
   ]
  },
  {
   "cell_type": "code",
   "execution_count": 25,
   "id": "86e822bb-2baf-419f-aee1-5187df0500fe",
   "metadata": {},
   "outputs": [
    {
     "data": {
      "text/html": [
       "<div>\n",
       "<style scoped>\n",
       "    .dataframe tbody tr th:only-of-type {\n",
       "        vertical-align: middle;\n",
       "    }\n",
       "\n",
       "    .dataframe tbody tr th {\n",
       "        vertical-align: top;\n",
       "    }\n",
       "\n",
       "    .dataframe thead th {\n",
       "        text-align: right;\n",
       "    }\n",
       "</style>\n",
       "<table border=\"1\" class=\"dataframe\">\n",
       "  <thead>\n",
       "    <tr style=\"text-align: right;\">\n",
       "      <th></th>\n",
       "      <th>id</th>\n",
       "      <th>Groupe Parlementaire</th>\n",
       "      <th>Nom du député</th>\n",
       "      <th>Question</th>\n",
       "    </tr>\n",
       "  </thead>\n",
       "  <tbody>\n",
       "    <tr>\n",
       "      <th>0</th>\n",
       "      <td>1.0</td>\n",
       "      <td>Libertés, Indépendants, Outre-mer et Territoires</td>\n",
       "      <td>M. Christophe Naegelen</td>\n",
       "      <td>M. Christophe Naegelen interroge M. le ministr...</td>\n",
       "    </tr>\n",
       "  </tbody>\n",
       "</table>\n",
       "</div>"
      ],
      "text/plain": [
       "    id                              Groupe Parlementaire  \\\n",
       "0  1.0  Libertés, Indépendants, Outre-mer et Territoires   \n",
       "\n",
       "            Nom du député                                           Question  \n",
       "0  M. Christophe Naegelen  M. Christophe Naegelen interroge M. le ministr...  "
      ]
     },
     "execution_count": 25,
     "metadata": {},
     "output_type": "execute_result"
    }
   ],
   "source": [
    "dfQuestions = pd.concat([dfQuestions, dfQuestion], ignore_index = True)\n",
    "dfQuestions"
   ]
  },
  {
   "cell_type": "markdown",
   "id": "059b8ae9-a716-4bf2-8cf2-890e2c836127",
   "metadata": {},
   "source": [
    "## Création du Data Frame"
   ]
  },
  {
   "cell_type": "code",
   "execution_count": 2,
   "id": "1d78544c-aa3e-480b-b223-f3f6d967f626",
   "metadata": {},
   "outputs": [],
   "source": [
    "import pandas as pd\n",
    "import bs4\n",
    "import lxml\n",
    "import pandas\n",
    "import urllib\n",
    "import re\n",
    "\n",
    "from urllib import request\n",
    "\n",
    "def pageurl(x) : \n",
    "    return \"https://questions.assemblee-nationale.fr/q16/16-\"+str(x)+\"QE.htm\""
   ]
  },
  {
   "cell_type": "code",
   "execution_count": 3,
   "id": "2e884c63-d7b6-4891-9356-b444fb517887",
   "metadata": {},
   "outputs": [],
   "source": [
    "n = 100"
   ]
  },
  {
   "cell_type": "code",
   "execution_count": null,
   "id": "6bb32014-3724-4bf7-8297-8aeea33b2a5b",
   "metadata": {},
   "outputs": [],
   "source": [
    "dfQuestions = pd.DataFrame(\n",
    "        {\n",
    "            \"id\"  : [],\n",
    "            \"Groupe Parlementaire\" : [],\n",
    "            \"Nom du député\" : [],\n",
    "            \"Question\" : []\n",
    "        })\n",
    "\n",
    "for k in range(1, n+1) : \n",
    "    source_code = request.urlopen(pageurl(k)).read()\n",
    "    page = bs4.BeautifulSoup(source_code)\n",
    "    question0 = page.find(\"div\", {\"class\" : \"question\"})\n",
    "    question = question0.find(\"p\")\n",
    "    question = question.text.strip()\n",
    "    \n",
    "    lien0 = page.find(\"span\", {\"class\" : \"question_big_content\"})\n",
    "    lien = lien0.find(\"a\").get(\"href\")\n",
    "\n",
    "    source_code_parlementaire = request.urlopen(lien).read()\n",
    "    page_parlementaire = bs4.BeautifulSoup(source_code_parlementaire)\n",
    "\n",
    "    groupe0 = page_parlementaire.find(\"a\", {\"class\" : \"h4 _colored link\"})\n",
    "    groupe = groupe0.text.strip()\n",
    "\n",
    "    nom0 = page_parlementaire.find(\"h1\", {\"class\" : \"h1 _mt-small\"})\n",
    "    nom = nom0.text.strip()\n",
    "\n",
    "    dfQuestion = pd.DataFrame([[k, groupe, nom, question]], columns = cols)\n",
    "    dfQuestions = pd.concat([dfQuestions, dfQuestion], ignore_index = True)\n",
    "\n",
    "dfQuestions"
   ]
  },
  {
   "cell_type": "markdown",
   "id": "793ffbdb",
   "metadata": {},
   "source": [
    "## Création d'un fichier csv (semicolon)"
   ]
  },
  {
   "cell_type": "code",
   "execution_count": 63,
   "id": "240b9122-fe4b-4c31-91f5-61813c210f5a",
   "metadata": {},
   "outputs": [],
   "source": [
    "données = open(\"data.csv\", \"w\")\n",
    "\n",
    "données.write(\"id|groupe|nom|ministère_interrogé|rubrique|titre|date|question\")\n",
    "\n",
    "données.close()"
   ]
  },
  {
   "cell_type": "code",
   "execution_count": 64,
   "id": "81aa1e6b",
   "metadata": {},
   "outputs": [],
   "source": [
    "données = open(\"data.csv\", \"a\")\n",
    "\n",
    "for k in range(1, 501) : \n",
    "    source_code = request.urlopen(pageurl(k)).read()\n",
    "    page = bs4.BeautifulSoup(source_code)\n",
    "    question0 = page.find(\"div\", {\"class\" : \"question\"})\n",
    "    question = question0.find(\"p\")\n",
    "    question = question.text.strip()\n",
    "    \n",
    "    rubrique0 = page.findAll(\"div\", {\"class\" : \"question_col33\"})\n",
    "    rubrique,titre = rubrique0[0].find(\"p\"), rubrique0[1].find(\"p\")\n",
    "    rubrique, titre = rubrique.text.strip()[11:], titre.text.strip()[8:]\n",
    "    \n",
    "    ministere0 = page.find(\"div\", {\"class\" : \"question_col50\"})\n",
    "    ministere = ministere0.text.strip()[23:]\n",
    "\n",
    "    lien0 = page.find(\"span\", {\"class\" : \"question_big_content\"})\n",
    "    lien = lien0.find(\"a\").get(\"href\")\n",
    "\n",
    "    date0 = page.find(\"div\", {\"class\" : \"question_publish_date\"})\n",
    "    date = date0.find(\"span\")\n",
    "    date = date.text.strip()\n",
    "    \n",
    "    source_code_parlementaire = request.urlopen(lien).read()\n",
    "    page_parlementaire = bs4.BeautifulSoup(source_code_parlementaire)\n",
    "\n",
    "    groupe0 = page_parlementaire.find(\"a\", {\"class\" : \"h4 _colored link\"})\n",
    "    groupe = groupe0.text.strip()\n",
    "\n",
    "    nom0 = page_parlementaire.find(\"h1\", {\"class\" : \"h1 _mt-small\"})\n",
    "    nom = nom0.text.strip()\n",
    "\n",
    "    données.write(\"\\n\" + str(k) + \"|\" + groupe + \"|\" + nom +  \"|\" + ministere + \"|\" + rubrique + \"|\" + titre + \"|\" + date + \"|\" + question)\n",
    "\n",
    "données.close()"
   ]
  }
 ],
 "metadata": {
  "kernelspec": {
   "display_name": "Python 3 (ipykernel)",
   "language": "python",
   "name": "python3"
  },
  "language_info": {
   "codemirror_mode": {
    "name": "ipython",
    "version": 3
   },
   "file_extension": ".py",
   "mimetype": "text/x-python",
   "name": "python",
   "nbconvert_exporter": "python",
   "pygments_lexer": "ipython3",
   "version": "3.11.2"
  }
 },
 "nbformat": 4,
 "nbformat_minor": 5
}
