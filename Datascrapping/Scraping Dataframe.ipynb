{
 "cells": [
  {
   "cell_type": "markdown",
   "id": "c710f962-7741-4cb1-ac9c-aa5b194c5382",
   "metadata": {},
   "source": [
    "# Mise en forme des données dans un dataframe"
   ]
  },
  {
   "cell_type": "markdown",
   "id": "56a76d22",
   "metadata": {},
   "source": [
    "Notre premiere idée consistait a récuperer les données dans un dataframe. Cette méthode a bien évidemment vite mopntré ses limites, car récuperer toutes les données prenait plusiseurs heures, et il était donc essentiel de les enregistrer dans un CSV."
   ]
  },
  {
   "cell_type": "markdown",
   "id": "251e1041-6989-45fc-9b4d-183164f29ca1",
   "metadata": {},
   "source": [
    "## Création du dataframe"
   ]
  },
  {
   "cell_type": "code",
   "execution_count": 2,
   "id": "22d80f4a-ab4e-4192-b550-f38ac5840f2e",
   "metadata": {},
   "outputs": [],
   "source": [
    "import pandas as pd"
   ]
  },
  {
   "cell_type": "code",
   "execution_count": 3,
   "id": "1b12c347-7900-40d3-b644-e7f9283b9ef3",
   "metadata": {},
   "outputs": [],
   "source": [
    "dfQuestions = pd.DataFrame(\n",
    "        {\n",
    "            \"id\"  : [],\n",
    "            \"Groupe Parlementaire\" : [],\n",
    "            \"Nom du député\" : [],\n",
    "            \"Question\" : []\n",
    "        })"
   ]
  },
  {
   "cell_type": "code",
   "execution_count": 4,
   "id": "caecd8f4-ae2a-4f34-aa41-7e6a767e6ed5",
   "metadata": {},
   "outputs": [],
   "source": [
    "cols =  [\"id\",\n",
    "            \"Groupe Parlementaire\",\n",
    "            \"Nom du député\",\n",
    "            \"Question\"]"
   ]
  },
  {
   "cell_type": "markdown",
   "id": "82794083-eae2-42b6-bdbd-c9c437d41ee7",
   "metadata": {},
   "source": [
    "#### Imports et fonctions utilitaires"
   ]
  },
  {
   "cell_type": "code",
   "execution_count": 5,
   "id": "b65d3886-86e5-48ea-ad01-364ec189b22d",
   "metadata": {},
   "outputs": [
    {
     "name": "stdout",
     "output_type": "stream",
     "text": [
      "Collecting webdriver-manager\n",
      "  Downloading webdriver_manager-4.0.1-py2.py3-none-any.whl (27 kB)\n",
      "Collecting python-dotenv\n",
      "  Downloading python_dotenv-1.0.0-py3-none-any.whl (19 kB)\n",
      "Requirement already satisfied: requests in /Users/iokanaanbelfis-simon/opt/anaconda3/lib/python3.9/site-packages (from webdriver-manager) (2.27.1)\n",
      "Requirement already satisfied: packaging in /Users/iokanaanbelfis-simon/opt/anaconda3/lib/python3.9/site-packages (from webdriver-manager) (21.3)\n",
      "Requirement already satisfied: pyparsing!=3.0.5,>=2.0.2 in /Users/iokanaanbelfis-simon/opt/anaconda3/lib/python3.9/site-packages (from packaging->webdriver-manager) (3.0.4)\n",
      "Requirement already satisfied: idna<4,>=2.5 in /Users/iokanaanbelfis-simon/opt/anaconda3/lib/python3.9/site-packages (from requests->webdriver-manager) (3.3)\n",
      "Requirement already satisfied: charset-normalizer~=2.0.0 in /Users/iokanaanbelfis-simon/opt/anaconda3/lib/python3.9/site-packages (from requests->webdriver-manager) (2.0.4)\n",
      "Requirement already satisfied: certifi>=2017.4.17 in /Users/iokanaanbelfis-simon/opt/anaconda3/lib/python3.9/site-packages (from requests->webdriver-manager) (2021.10.8)\n",
      "Requirement already satisfied: urllib3<1.27,>=1.21.1 in /Users/iokanaanbelfis-simon/opt/anaconda3/lib/python3.9/site-packages (from requests->webdriver-manager) (1.26.9)\n",
      "Installing collected packages: python-dotenv, webdriver-manager\n",
      "Successfully installed python-dotenv-1.0.0 webdriver-manager-4.0.1\n",
      "Collecting bs4\n",
      "  Downloading bs4-0.0.1.tar.gz (1.1 kB)\n",
      "Requirement already satisfied: beautifulsoup4 in /Users/iokanaanbelfis-simon/opt/anaconda3/lib/python3.9/site-packages (from bs4) (4.11.1)\n",
      "Requirement already satisfied: soupsieve>1.2 in /Users/iokanaanbelfis-simon/opt/anaconda3/lib/python3.9/site-packages (from beautifulsoup4->bs4) (2.3.1)\n",
      "Building wheels for collected packages: bs4\n",
      "  Building wheel for bs4 (setup.py) ... \u001b[?25ldone\n",
      "\u001b[?25h  Created wheel for bs4: filename=bs4-0.0.1-py3-none-any.whl size=1272 sha256=9aca3753a7016bde476c9e453ec16494cfafe43141f26bb8dac3d4dd50873606\n",
      "  Stored in directory: /Users/iokanaanbelfis-simon/Library/Caches/pip/wheels/73/2b/cb/099980278a0c9a3e57ff1a89875ec07bfa0b6fcbebb9a8cad3\n",
      "Successfully built bs4\n",
      "Installing collected packages: bs4\n",
      "Successfully installed bs4-0.0.1\n"
     ]
    }
   ],
   "source": [
    "!pip install webdriver-manager\n",
    "!pip install -q lxml\n",
    "!pip install bs4"
   ]
  },
  {
   "cell_type": "code",
   "execution_count": 2,
   "id": "dc766602",
   "metadata": {},
   "outputs": [],
   "source": [
    "import bs4\n",
    "import lxml\n",
    "import pandas\n",
    "import urllib\n",
    "import re\n",
    "\n",
    "from urllib import request"
   ]
  },
  {
   "cell_type": "markdown",
   "id": "7d1e2ef2",
   "metadata": {},
   "source": [
    "## Récupération des données d'une question"
   ]
  },
  {
   "cell_type": "markdown",
   "id": "5cda5acf",
   "metadata": {},
   "source": [
    "Nous avons défini les éléments suivants, essentiels à récupérer :\n",
    "- l'identifiant de la question, `id` : afin d'avoir une clé primaire\n",
    "- le texte de la question, `question` : pour des raisons évidentes\n",
    "- le parti politique dont le député qui a posé la question est ressortissant `groupe` : pour avoir de quoi définir l'opinion politique de la question\n",
    "\n",
    "Au delà de ces trois éléments là, il nous est également paru important de récolter :\n",
    "- la rubrique `rubrique` et le titre `titre` de la question : qui peuvent ajouter des éléments importants à prendre en compte en plus du texte de la question\n",
    "- le nom du député `nom` : Il est important pour deux raisons, car il permet de faire un lien avec la base de données des députés, et il est essentiel de l'enlever du texte de la question (pour ne pas que le programme ne s'intéresse qu'à cette partie là du texte pour determiner de quel parti il est issu)\n",
    "- le ministere intérrogé `ministere` : pour les mêmes raisons que `rubrique` et `titre`\n",
    "- la date de la quetsion `date` : qui pourrait çetre intéressante pour étudier l'évolution des thèmes du discours politique des différents partis\n"
   ]
  },
  {
   "cell_type": "markdown",
   "id": "98080e37",
   "metadata": {},
   "source": [
    "#### Ouverture de la Page"
   ]
  },
  {
   "cell_type": "code",
   "execution_count": 3,
   "id": "d3e863e7-ea66-43f9-831e-e918d910c6c4",
   "metadata": {},
   "outputs": [],
   "source": [
    "def pageurl(x) : \n",
    "    return \"https://questions.assemblee-nationale.fr/q16/16-\"+str(x)+\"QE.htm\""
   ]
  },
  {
   "cell_type": "code",
   "execution_count": 4,
   "id": "4254e898-89f1-42c1-a6c7-06685fb30dd5",
   "metadata": {},
   "outputs": [],
   "source": [
    "k = 1\n",
    "source_code = request.urlopen(pageurl(k)).read()\n",
    "page = bs4.BeautifulSoup(source_code)"
   ]
  },
  {
   "cell_type": "markdown",
   "id": "f6f937a2",
   "metadata": {},
   "source": [
    "#### Récupération d'une question"
   ]
  },
  {
   "cell_type": "code",
   "execution_count": 6,
   "id": "1184ea41-d34f-480f-9fd9-bc02f62ae23d",
   "metadata": {},
   "outputs": [
    {
     "data": {
      "text/plain": [
       "\"M. Christophe Naegelen interroge M. le ministre de l'agriculture et de la souveraineté alimentaire sur le statut particulier des « patous » communément appelés chiens de berger ainsi que sur les dispositifs mis en place pour permettre la cohabitation entre les randonneurs et les patous. Les chiens de berger protègent les troupeaux et ne sont pas considérés comme divaguant lorsqu'ils se trouvent sans laisse et à distance de leur maître depuis la loi n° 2005-157 du 23 février 2005 qui a modifié l'article L. 211-23 du code rural. Désormais, la loi libère « de toute poursuite pénale pour divagation, l'éleveur ou le propriétaire d'un chien affecté à la protection du troupeau (« patous ») ou à la garde de celui-ci (chien de conduite) ». Des études ont montré que les patous ne sont pas dangereux pour les hommes, ces chiens sont dressés pour dissuader et non pour blesser. Néanmoins, des cas d'agressions sont recensés et une forte part des randonneurs sont inquiets de croiser ces chiens. Des panneaux d'informations sont présents en montagne pour prévenir les promeneurs et leur donner les consignes à suivre en cas de présence des « patous ». Cependant, la période estivale qui arrive laisse présager une forte affluence de randonneurs dans les Hautes-Vosges ainsi que dans tous les massifs français. C'est pourquoi intensifier la prévention et l'installation de panneaux d'information dès lors que les randonneurs entrent dans une zone dans laquelle les « patous » sont présents semble être opportun. Il l'interpelle sur le développement de dispositifs permettant une meilleure cohabitation des randonneurs et des « patous », afin d'articuler les problématiques touchant à la protection des agriculteurs et celles relatives la protection de l'environnement.\""
      ]
     },
     "execution_count": 6,
     "metadata": {},
     "output_type": "execute_result"
    }
   ],
   "source": [
    "question0 = page.find(\"div\", {\"class\" : \"question\"})\n",
    "question = question0.find(\"p\")\n",
    "question = question.text.strip()\n",
    "\n",
    "question"
   ]
  },
  {
   "cell_type": "markdown",
   "id": "ba59b5ab",
   "metadata": {},
   "source": [
    "#### Récupération de la Rubrique et du Titre de la question"
   ]
  },
  {
   "cell_type": "code",
   "execution_count": 7,
   "id": "d5289401",
   "metadata": {},
   "outputs": [
    {
     "data": {
      "text/plain": [
       "('animaux', 'Cohabitation entre les randonneurs et les patous')"
      ]
     },
     "execution_count": 7,
     "metadata": {},
     "output_type": "execute_result"
    }
   ],
   "source": [
    "rubrique0 = page.findAll(\"div\", {\"class\" : \"question_col33\"})\n",
    "rubrique,titre = rubrique0[0].find(\"p\"), rubrique0[1].find(\"p\")\n",
    "rubrique, titre = rubrique.text.strip()[11:], titre.text.strip()[8:]\n",
    "\n",
    "rubrique, titre"
   ]
  },
  {
   "cell_type": "markdown",
   "id": "b1292750",
   "metadata": {},
   "source": [
    "#### Récupération du ministère interrogé"
   ]
  },
  {
   "cell_type": "code",
   "execution_count": 8,
   "id": "a985ee73",
   "metadata": {},
   "outputs": [
    {
     "data": {
      "text/plain": [
       "'Agriculture et souveraineté alimentaire'"
      ]
     },
     "execution_count": 8,
     "metadata": {},
     "output_type": "execute_result"
    }
   ],
   "source": [
    "ministere0 = page.find(\"div\", {\"class\" : \"question_col50\"})\n",
    "ministere = ministere0.text.strip()[23:]\n",
    "\n",
    "ministere"
   ]
  },
  {
   "cell_type": "markdown",
   "id": "85e67837",
   "metadata": {},
   "source": [
    "#### Récupération de la date de la question"
   ]
  },
  {
   "cell_type": "code",
   "execution_count": 9,
   "id": "a416c840",
   "metadata": {},
   "outputs": [
    {
     "data": {
      "text/plain": [
       "'05/07/2022'"
      ]
     },
     "execution_count": 9,
     "metadata": {},
     "output_type": "execute_result"
    }
   ],
   "source": [
    "date0 = page.find(\"div\", {\"class\" : \"question_publish_date\"})\n",
    "date = date0.find(\"span\")\n",
    "date = date.text.strip()\n",
    "\n",
    "date"
   ]
  },
  {
   "cell_type": "markdown",
   "id": "e0bd70d3-4f68-4e20-9bbf-696472e975ed",
   "metadata": {},
   "source": [
    "#### Récuperation des données du parlementaire"
   ]
  },
  {
   "cell_type": "markdown",
   "id": "41ef52bf",
   "metadata": {},
   "source": [
    "Pour récupérer les données du parlementaire, il est compliqué de le faire depuis la page même de la question : en effet, le nom, le groupe et la circonscription sont au même endroit, et il est difficile de les isoler (prénoms composés, noms de groupe avec virgules ou tirets ...)\n",
    "\n",
    "Une solution plus simple est de se rendre sur la page associée au parlementaire, et d'y récuperer les questions qui y sont ici bien séparées."
   ]
  },
  {
   "cell_type": "code",
   "execution_count": 10,
   "id": "4159f1d0-f4ef-4366-bd40-dfde832334e1",
   "metadata": {},
   "outputs": [],
   "source": [
    "lien0 = page.find(\"span\", {\"class\" : \"question_big_content\"})\n",
    "lien = lien0.find(\"a\").get(\"href\")"
   ]
  },
  {
   "cell_type": "code",
   "execution_count": 11,
   "id": "c507dc5c-9402-4498-add4-afd58f65758f",
   "metadata": {},
   "outputs": [],
   "source": [
    "source_code_parlementaire = request.urlopen(lien).read()\n",
    "page_parlementaire = bs4.BeautifulSoup(source_code_parlementaire)"
   ]
  },
  {
   "cell_type": "code",
   "execution_count": 13,
   "id": "19384aa9-376c-47e2-a11b-5dd232b21a41",
   "metadata": {},
   "outputs": [
    {
     "data": {
      "text/plain": [
       "('Libertés, Indépendants, Outre-mer et Territoires', 'M. Christophe Naegelen')"
      ]
     },
     "execution_count": 13,
     "metadata": {},
     "output_type": "execute_result"
    }
   ],
   "source": [
    "groupe0 = page_parlementaire.find(\"a\", {\"class\" : \"h4 _colored link\"})\n",
    "groupe = groupe0.text.strip()\n",
    "\n",
    "nom0 = page_parlementaire.find(\"h1\", {\"class\" : \"h1 _mt-small\"})\n",
    "nom = nom0.text.strip()\n",
    "\n",
    "groupe, nom"
   ]
  },
  {
   "cell_type": "markdown",
   "id": "5625993b-ac09-4bfe-85da-ff95eca893ca",
   "metadata": {},
   "source": [
    "#### Ajout de la donnée au dataframe"
   ]
  },
  {
   "cell_type": "code",
   "execution_count": 16,
   "id": "a4c04b95-c93e-47ad-a97c-0d5ab8d46c44",
   "metadata": {},
   "outputs": [],
   "source": [
    "dfQuestion = pd.DataFrame([[k, groupe, nom, question]], columns = cols)"
   ]
  },
  {
   "cell_type": "code",
   "execution_count": 17,
   "id": "86e822bb-2baf-419f-aee1-5187df0500fe",
   "metadata": {},
   "outputs": [
    {
     "data": {
      "text/html": [
       "<div>\n",
       "<style scoped>\n",
       "    .dataframe tbody tr th:only-of-type {\n",
       "        vertical-align: middle;\n",
       "    }\n",
       "\n",
       "    .dataframe tbody tr th {\n",
       "        vertical-align: top;\n",
       "    }\n",
       "\n",
       "    .dataframe thead th {\n",
       "        text-align: right;\n",
       "    }\n",
       "</style>\n",
       "<table border=\"1\" class=\"dataframe\">\n",
       "  <thead>\n",
       "    <tr style=\"text-align: right;\">\n",
       "      <th></th>\n",
       "      <th>id</th>\n",
       "      <th>Groupe Parlementaire</th>\n",
       "      <th>Nom du député</th>\n",
       "      <th>Question</th>\n",
       "    </tr>\n",
       "  </thead>\n",
       "  <tbody>\n",
       "    <tr>\n",
       "      <th>0</th>\n",
       "      <td>1.0</td>\n",
       "      <td>Libertés, Indépendants, Outre-mer et Territoires</td>\n",
       "      <td>M. Christophe Naegelen</td>\n",
       "      <td>M. Christophe Naegelen interroge M. le ministr...</td>\n",
       "    </tr>\n",
       "  </tbody>\n",
       "</table>\n",
       "</div>"
      ],
      "text/plain": [
       "    id                              Groupe Parlementaire  \\\n",
       "0  1.0  Libertés, Indépendants, Outre-mer et Territoires   \n",
       "\n",
       "            Nom du député                                           Question  \n",
       "0  M. Christophe Naegelen  M. Christophe Naegelen interroge M. le ministr...  "
      ]
     },
     "execution_count": 17,
     "metadata": {},
     "output_type": "execute_result"
    }
   ],
   "source": [
    "dfQuestions = pd.concat([dfQuestions, dfQuestion], ignore_index = True)\n",
    "dfQuestions"
   ]
  },
  {
   "cell_type": "markdown",
   "id": "059b8ae9-a716-4bf2-8cf2-890e2c836127",
   "metadata": {},
   "source": [
    "## Création du Data Frame"
   ]
  },
  {
   "cell_type": "code",
   "execution_count": 18,
   "id": "1d78544c-aa3e-480b-b223-f3f6d967f626",
   "metadata": {},
   "outputs": [],
   "source": [
    "import pandas as pd\n",
    "import bs4\n",
    "import lxml\n",
    "import pandas\n",
    "import urllib\n",
    "import re\n",
    "\n",
    "from urllib import request\n",
    "\n",
    "def pageurl(x) : \n",
    "    return \"https://questions.assemblee-nationale.fr/q16/16-\"+str(x)+\"QE.htm\""
   ]
  },
  {
   "cell_type": "code",
   "execution_count": 19,
   "id": "2e884c63-d7b6-4891-9356-b444fb517887",
   "metadata": {},
   "outputs": [],
   "source": [
    "n = 100"
   ]
  },
  {
   "cell_type": "code",
   "execution_count": 20,
   "id": "6bb32014-3724-4bf7-8297-8aeea33b2a5b",
   "metadata": {},
   "outputs": [
    {
     "data": {
      "text/html": [
       "<div>\n",
       "<style scoped>\n",
       "    .dataframe tbody tr th:only-of-type {\n",
       "        vertical-align: middle;\n",
       "    }\n",
       "\n",
       "    .dataframe tbody tr th {\n",
       "        vertical-align: top;\n",
       "    }\n",
       "\n",
       "    .dataframe thead th {\n",
       "        text-align: right;\n",
       "    }\n",
       "</style>\n",
       "<table border=\"1\" class=\"dataframe\">\n",
       "  <thead>\n",
       "    <tr style=\"text-align: right;\">\n",
       "      <th></th>\n",
       "      <th>id</th>\n",
       "      <th>Groupe Parlementaire</th>\n",
       "      <th>Nom du député</th>\n",
       "      <th>Question</th>\n",
       "    </tr>\n",
       "  </thead>\n",
       "  <tbody>\n",
       "    <tr>\n",
       "      <th>0</th>\n",
       "      <td>1.0</td>\n",
       "      <td>Libertés, Indépendants, Outre-mer et Territoires</td>\n",
       "      <td>M. Christophe Naegelen</td>\n",
       "      <td>M. Christophe Naegelen interroge M. le ministr...</td>\n",
       "    </tr>\n",
       "    <tr>\n",
       "      <th>1</th>\n",
       "      <td>2.0</td>\n",
       "      <td>Les Républicains</td>\n",
       "      <td>M. Pierre Cordier</td>\n",
       "      <td>M. Pierre Cordier appelle l'attention de Mme l...</td>\n",
       "    </tr>\n",
       "    <tr>\n",
       "      <th>2</th>\n",
       "      <td>3.0</td>\n",
       "      <td>Démocrate (MoDem et Indépendants)</td>\n",
       "      <td>M. Frédéric Petit</td>\n",
       "      <td>M. Frédéric Petit appelle l'attention de M. le...</td>\n",
       "    </tr>\n",
       "    <tr>\n",
       "      <th>3</th>\n",
       "      <td>4.0</td>\n",
       "      <td>Renaissance</td>\n",
       "      <td>Mme Marie-Pierre Rixain</td>\n",
       "      <td>Mme Marie-Pierre Rixain appelle l'attention de...</td>\n",
       "    </tr>\n",
       "    <tr>\n",
       "      <th>4</th>\n",
       "      <td>5.0</td>\n",
       "      <td>Libertés, Indépendants, Outre-mer et Territoires</td>\n",
       "      <td>M. Christophe Naegelen</td>\n",
       "      <td>M. Christophe Naegelen interroge M. le ministr...</td>\n",
       "    </tr>\n",
       "    <tr>\n",
       "      <th>...</th>\n",
       "      <td>...</td>\n",
       "      <td>...</td>\n",
       "      <td>...</td>\n",
       "      <td>...</td>\n",
       "    </tr>\n",
       "    <tr>\n",
       "      <th>95</th>\n",
       "      <td>96.0</td>\n",
       "      <td>Les Républicains</td>\n",
       "      <td>Mme Véronique Louwagie</td>\n",
       "      <td>Mme Véronique Louwagie attire l'attention de M...</td>\n",
       "    </tr>\n",
       "    <tr>\n",
       "      <th>96</th>\n",
       "      <td>97.0</td>\n",
       "      <td>La France insoumise - Nouvelle Union Populaire...</td>\n",
       "      <td>M. François Ruffin</td>\n",
       "      <td>M. François Ruffin interroge M. le ministre dé...</td>\n",
       "    </tr>\n",
       "    <tr>\n",
       "      <th>97</th>\n",
       "      <td>98.0</td>\n",
       "      <td>Les Républicains</td>\n",
       "      <td>M. Thibault Bazin</td>\n",
       "      <td>M. Thibault Bazin appelle l'attention de M. le...</td>\n",
       "    </tr>\n",
       "    <tr>\n",
       "      <th>98</th>\n",
       "      <td>99.0</td>\n",
       "      <td>Renaissance</td>\n",
       "      <td>Mme Véronique Riotton</td>\n",
       "      <td>Mme Véronique Riotton attire l'attention de M....</td>\n",
       "    </tr>\n",
       "    <tr>\n",
       "      <th>99</th>\n",
       "      <td>100.0</td>\n",
       "      <td>Les Républicains</td>\n",
       "      <td>M. Pierre Cordier</td>\n",
       "      <td>M. Pierre Cordier appelle l'attention de M. le...</td>\n",
       "    </tr>\n",
       "  </tbody>\n",
       "</table>\n",
       "<p>100 rows × 4 columns</p>\n",
       "</div>"
      ],
      "text/plain": [
       "       id                               Groupe Parlementaire  \\\n",
       "0     1.0   Libertés, Indépendants, Outre-mer et Territoires   \n",
       "1     2.0                                   Les Républicains   \n",
       "2     3.0                  Démocrate (MoDem et Indépendants)   \n",
       "3     4.0                                        Renaissance   \n",
       "4     5.0   Libertés, Indépendants, Outre-mer et Territoires   \n",
       "..    ...                                                ...   \n",
       "95   96.0                                   Les Républicains   \n",
       "96   97.0  La France insoumise - Nouvelle Union Populaire...   \n",
       "97   98.0                                   Les Républicains   \n",
       "98   99.0                                        Renaissance   \n",
       "99  100.0                                   Les Républicains   \n",
       "\n",
       "              Nom du député                                           Question  \n",
       "0    M. Christophe Naegelen  M. Christophe Naegelen interroge M. le ministr...  \n",
       "1         M. Pierre Cordier  M. Pierre Cordier appelle l'attention de Mme l...  \n",
       "2         M. Frédéric Petit  M. Frédéric Petit appelle l'attention de M. le...  \n",
       "3   Mme Marie-Pierre Rixain  Mme Marie-Pierre Rixain appelle l'attention de...  \n",
       "4    M. Christophe Naegelen  M. Christophe Naegelen interroge M. le ministr...  \n",
       "..                      ...                                                ...  \n",
       "95   Mme Véronique Louwagie  Mme Véronique Louwagie attire l'attention de M...  \n",
       "96       M. François Ruffin  M. François Ruffin interroge M. le ministre dé...  \n",
       "97        M. Thibault Bazin  M. Thibault Bazin appelle l'attention de M. le...  \n",
       "98    Mme Véronique Riotton  Mme Véronique Riotton attire l'attention de M....  \n",
       "99        M. Pierre Cordier  M. Pierre Cordier appelle l'attention de M. le...  \n",
       "\n",
       "[100 rows x 4 columns]"
      ]
     },
     "execution_count": 20,
     "metadata": {},
     "output_type": "execute_result"
    }
   ],
   "source": [
    "dfQuestions = pd.DataFrame(\n",
    "        {\n",
    "            \"id\"  : [],\n",
    "            \"Groupe Parlementaire\" : [],\n",
    "            \"Nom du député\" : [],\n",
    "            \"Question\" : []\n",
    "        })\n",
    "\n",
    "for k in range(1, n+1) : \n",
    "    source_code = request.urlopen(pageurl(k)).read()\n",
    "    page = bs4.BeautifulSoup(source_code)\n",
    "    question0 = page.find(\"div\", {\"class\" : \"question\"})\n",
    "    question = question0.find(\"p\")\n",
    "    question = question.text.strip()\n",
    "    \n",
    "    lien0 = page.find(\"span\", {\"class\" : \"question_big_content\"})\n",
    "    lien = lien0.find(\"a\").get(\"href\")\n",
    "\n",
    "    source_code_parlementaire = request.urlopen(lien).read()\n",
    "    page_parlementaire = bs4.BeautifulSoup(source_code_parlementaire)\n",
    "\n",
    "    groupe0 = page_parlementaire.find(\"a\", {\"class\" : \"h4 _colored link\"})\n",
    "    groupe = groupe0.text.strip()\n",
    "\n",
    "    nom0 = page_parlementaire.find(\"h1\", {\"class\" : \"h1 _mt-small\"})\n",
    "    nom = nom0.text.strip()\n",
    "\n",
    "    dfQuestion = pd.DataFrame([[k, groupe, nom, question]], columns = cols)\n",
    "    dfQuestions = pd.concat([dfQuestions, dfQuestion], ignore_index = True)\n",
    "\n",
    "dfQuestions"
   ]
  },
  {
   "cell_type": "markdown",
   "id": "793ffbdb",
   "metadata": {},
   "source": [
    "## Création d'un fichier csv (semicolon)"
   ]
  },
  {
   "cell_type": "code",
   "execution_count": 18,
   "id": "240b9122-fe4b-4c31-91f5-61813c210f5a",
   "metadata": {},
   "outputs": [],
   "source": [
    "données = open(\"data_TEST.csv\", \"w\")\n",
    "\n",
    "données.write(\"id|groupe|nom|ministère_interrogé|rubrique|titre|date|question\")\n",
    "\n",
    "données.close()"
   ]
  },
  {
   "cell_type": "code",
   "execution_count": 19,
   "id": "81aa1e6b",
   "metadata": {},
   "outputs": [],
   "source": [
    "données = open(\"data_TEST.csv\", \"a\")\n",
    "\n",
    "for k in range(1, 51) : \n",
    "    source_code = request.urlopen(pageurl(k)).read()\n",
    "    page = bs4.BeautifulSoup(source_code)\n",
    "    question0 = page.find(\"div\", {\"class\" : \"question\"})\n",
    "    question = question0.find(\"p\")\n",
    "    question = question.text.strip()\n",
    "    \n",
    "    rubrique0 = page.findAll(\"div\", {\"class\" : \"question_col33\"})\n",
    "    rubrique,titre = rubrique0[0].find(\"p\"), rubrique0[1].find(\"p\")\n",
    "    rubrique, titre = rubrique.text.strip()[11:], titre.text.strip()[8:]\n",
    "    \n",
    "    ministere0 = page.find(\"div\", {\"class\" : \"question_col50\"})\n",
    "    ministere = ministere0.text.strip()[23:]\n",
    "\n",
    "    lien0 = page.find(\"span\", {\"class\" : \"question_big_content\"})\n",
    "    lien = lien0.find(\"a\").get(\"href\")\n",
    "\n",
    "    date0 = page.find(\"div\", {\"class\" : \"question_publish_date\"})\n",
    "    date = date0.find(\"span\")\n",
    "    date = date.text.strip()\n",
    "    \n",
    "    source_code_parlementaire = request.urlopen(lien).read()\n",
    "    page_parlementaire = bs4.BeautifulSoup(source_code_parlementaire)\n",
    "\n",
    "    groupe0 = page_parlementaire.find(\"a\", {\"class\" : \"h4 _colored link\"})\n",
    "    groupe = groupe0.text.strip()\n",
    "\n",
    "    nom0 = page_parlementaire.find(\"h1\", {\"class\" : \"h1 _mt-small\"})\n",
    "    nom = nom0.text.strip()\n",
    "\n",
    "    données.write(\"\\n\" + str(k) + \"|\" + groupe + \"|\" + nom +  \"|\" + ministere + \"|\" + rubrique + \"|\" + titre + \"|\" + date + \"|\" + question)\n",
    "\n",
    "données.close()"
   ]
  },
  {
   "cell_type": "markdown",
   "id": "817f07b4",
   "metadata": {},
   "source": [
    "On peut également remarquer un problème d'encodage, les accents causent des problemes d'affichage dans le fichier."
   ]
  }
 ],
 "metadata": {
  "kernelspec": {
   "display_name": "Python 3 (ipykernel)",
   "language": "python",
   "name": "python3"
  },
  "language_info": {
   "codemirror_mode": {
    "name": "ipython",
    "version": 3
   },
   "file_extension": ".py",
   "mimetype": "text/x-python",
   "name": "python",
   "nbconvert_exporter": "python",
   "pygments_lexer": "ipython3",
   "version": "3.11.2"
  }
 },
 "nbformat": 4,
 "nbformat_minor": 5
}
