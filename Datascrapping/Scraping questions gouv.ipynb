{
 "cells": [
  {
   "cell_type": "markdown",
   "id": "dcb718a3-16b9-4333-a57f-23a88023196a",
   "metadata": {},
   "source": [
    "# Scraping des questions au gouvernement"
   ]
  },
  {
   "cell_type": "markdown",
   "id": "929c0d85-b5fb-4500-9f08-4ed01de04e0b",
   "metadata": {},
   "source": [
    "Les questions au gouvernement sont accessibles pour un utilisateur à aprtir d'un ouytil de recherche l'adresse [\"https://www2.assemblee-nationale.fr/recherche/questions\"] \n",
    "En y regardant de plus près, on constate que toutes les questions concernant la XVIème legislature sont disponibles à des adresses du type [https://questions.assemblee-nationale.fr/q16/16-XXXXXQE.htm] où XXXX est le numéro de la question. \n",
    "\n",
    "Commençons donc par scraper la premiere question de cette legislature"
   ]
  },
  {
   "cell_type": "markdown",
   "id": "0c54d048-d0f5-4956-a4ce-b99be7f9dadf",
   "metadata": {},
   "source": [
    "### Scrap d'une question"
   ]
  },
  {
   "cell_type": "code",
   "execution_count": 55,
   "id": "65335522-fd38-477b-95d9-4eb728ec66e2",
   "metadata": {},
   "outputs": [],
   "source": [
    "!pip install -q lxml\n",
    "\n",
    "import bs4\n",
    "import lxml\n",
    "import pandas\n",
    "import urllib\n",
    "import re\n",
    "\n",
    "from urllib import request"
   ]
  },
  {
   "cell_type": "code",
   "execution_count": 2,
   "id": "b3eb7329-6192-4d20-9f92-79fc8c6cb578",
   "metadata": {},
   "outputs": [
    {
     "name": "stdout",
     "output_type": "stream",
     "text": [
      "Collecting webdriver-manager\n",
      "  Downloading webdriver_manager-4.0.1-py2.py3-none-any.whl.metadata (12 kB)\n",
      "Requirement already satisfied: requests in /opt/mamba/lib/python3.10/site-packages (from webdriver-manager) (2.31.0)\n",
      "Collecting python-dotenv (from webdriver-manager)\n",
      "  Downloading python_dotenv-1.0.0-py3-none-any.whl (19 kB)\n",
      "Requirement already satisfied: packaging in /opt/mamba/lib/python3.10/site-packages (from webdriver-manager) (23.1)\n",
      "Requirement already satisfied: charset-normalizer<4,>=2 in /opt/mamba/lib/python3.10/site-packages (from requests->webdriver-manager) (3.2.0)\n",
      "Requirement already satisfied: idna<4,>=2.5 in /opt/mamba/lib/python3.10/site-packages (from requests->webdriver-manager) (3.4)\n",
      "Requirement already satisfied: urllib3<3,>=1.21.1 in /opt/mamba/lib/python3.10/site-packages (from requests->webdriver-manager) (1.26.18)\n",
      "Requirement already satisfied: certifi>=2017.4.17 in /opt/mamba/lib/python3.10/site-packages (from requests->webdriver-manager) (2023.11.17)\n",
      "Downloading webdriver_manager-4.0.1-py2.py3-none-any.whl (27 kB)\n",
      "Installing collected packages: python-dotenv, webdriver-manager\n",
      "Successfully installed python-dotenv-1.0.0 webdriver-manager-4.0.1\n"
     ]
    }
   ],
   "source": [
    "!pip install webdriver-manager"
   ]
  },
  {
   "cell_type": "code",
   "execution_count": 98,
   "id": "1ab39491-031b-4b7b-8cbb-ff417099a313",
   "metadata": {},
   "outputs": [],
   "source": [
    "def pageurl(x) : \n",
    "    return \"https://questions.assemblee-nationale.fr/q16/16-\"+str(x)+\"QE.htm\""
   ]
  },
  {
   "cell_type": "code",
   "execution_count": 100,
   "id": "eef40318-7042-48e2-9b11-56b50fdf7584",
   "metadata": {},
   "outputs": [],
   "source": [
    "source_code = request.urlopen(pageurl(1)).read()\n",
    "\n",
    "page = bs4.BeautifulSoup(source_code)\n"
   ]
  },
  {
   "cell_type": "code",
   "execution_count": 101,
   "id": "d1af5128-ca83-4c60-980d-80b68a4d4f87",
   "metadata": {},
   "outputs": [
    {
     "data": {
      "text/plain": [
       "<div class=\"question\">\n",
       "<h3>Texte de la question</h3>\n",
       "<p>\n",
       "                            M. Christophe Naegelen interroge M. le ministre de l'agriculture et de la souveraineté alimentaire sur le statut particulier des « patous » communément appelés chiens de berger ainsi que sur les dispositifs mis en place pour permettre la cohabitation entre les randonneurs et les patous. Les chiens de berger protègent les troupeaux et ne sont pas considérés comme divaguant lorsqu'ils se trouvent sans laisse et à distance de leur maître depuis la loi n° 2005-157 du 23 février 2005 qui a modifié l'article L. 211-23 du code rural. Désormais, la loi libère « de toute poursuite pénale pour divagation, l'éleveur ou le propriétaire d'un chien affecté à la protection du troupeau (« patous ») ou à la garde de celui-ci (chien de conduite) ». Des études ont montré que les patous ne sont pas dangereux pour les hommes, ces chiens sont dressés pour dissuader et non pour blesser. Néanmoins, des cas d'agressions sont recensés et une forte part des randonneurs sont inquiets de croiser ces chiens. Des panneaux d'informations sont présents en montagne pour prévenir les promeneurs et leur donner les consignes à suivre en cas de présence des « patous ». Cependant, la période estivale qui arrive laisse présager une forte affluence de randonneurs dans les Hautes-Vosges ainsi que dans tous les massifs français. C'est pourquoi intensifier la prévention et l'installation de panneaux d'information dès lors que les randonneurs entrent dans une zone dans laquelle les « patous » sont présents semble être opportun. Il l'interpelle sur le développement de dispositifs permettant une meilleure cohabitation des randonneurs et des « patous », afin d'articuler les problématiques touchant à la protection des agriculteurs et celles relatives la protection de l'environnement.\n",
       "                        </p>\n",
       "</div>"
      ]
     },
     "execution_count": 101,
     "metadata": {},
     "output_type": "execute_result"
    }
   ],
   "source": [
    "question0 = page.find(\"div\", {\"class\" : \"question\"})\n",
    "question0"
   ]
  },
  {
   "cell_type": "code",
   "execution_count": 102,
   "id": "ea74cf7d-45e3-422e-a806-fb0d6c04cda6",
   "metadata": {},
   "outputs": [
    {
     "data": {
      "text/plain": [
       "\"M. Christophe Naegelen interroge M. le ministre de l'agriculture et de la souveraineté alimentaire sur le statut particulier des « patous » communément appelés chiens de berger ainsi que sur les dispositifs mis en place pour permettre la cohabitation entre les randonneurs et les patous. Les chiens de berger protègent les troupeaux et ne sont pas considérés comme divaguant lorsqu'ils se trouvent sans laisse et à distance de leur maître depuis la loi n° 2005-157 du 23 février 2005 qui a modifié l'article L. 211-23 du code rural. Désormais, la loi libère « de toute poursuite pénale pour divagation, l'éleveur ou le propriétaire d'un chien affecté à la protection du troupeau (« patous ») ou à la garde de celui-ci (chien de conduite) ». Des études ont montré que les patous ne sont pas dangereux pour les hommes, ces chiens sont dressés pour dissuader et non pour blesser. Néanmoins, des cas d'agressions sont recensés et une forte part des randonneurs sont inquiets de croiser ces chiens. Des panneaux d'informations sont présents en montagne pour prévenir les promeneurs et leur donner les consignes à suivre en cas de présence des « patous ». Cependant, la période estivale qui arrive laisse présager une forte affluence de randonneurs dans les Hautes-Vosges ainsi que dans tous les massifs français. C'est pourquoi intensifier la prévention et l'installation de panneaux d'information dès lors que les randonneurs entrent dans une zone dans laquelle les « patous » sont présents semble être opportun. Il l'interpelle sur le développement de dispositifs permettant une meilleure cohabitation des randonneurs et des « patous », afin d'articuler les problématiques touchant à la protection des agriculteurs et celles relatives la protection de l'environnement.\""
      ]
     },
     "execution_count": 102,
     "metadata": {},
     "output_type": "execute_result"
    }
   ],
   "source": [
    "question = question0.find(\"p\")\n",
    "question = question.text.strip()\n",
    "question"
   ]
  },
  {
   "cell_type": "code",
   "execution_count": 103,
   "id": "408f6675-26a9-4d08-a23a-e25b7936ab10",
   "metadata": {},
   "outputs": [
    {
     "data": {
      "text/plain": [
       "<div id=\"question_col80\"> de <span class=\"question_big_content\"><a href=\"https://www2.assemblee-nationale.fr/deputes/fiche/OMC_PA721486\" target=\"_blank\" title=\"Lien vers la fiche de M. Christophe Naegelen\">M. Christophe Naegelen</a></span> (Libertés, Indépendants, Outre-mer et Territoires - <span>Vosges</span> )</div>"
      ]
     },
     "execution_count": 103,
     "metadata": {},
     "output_type": "execute_result"
    }
   ],
   "source": [
    "groupe0 = page.find(\"div\", {\"id\" : \"question_col80\"})\n",
    "groupe0"
   ]
  },
  {
   "cell_type": "code",
   "execution_count": 104,
   "id": "d9938e8f-f7c3-4efe-adb1-e2298ee09e6a",
   "metadata": {},
   "outputs": [
    {
     "data": {
      "text/plain": [
       "'de M. Christophe Naegelen (Libertés, Indépendants, Outre-mer et Territoires - Vosges )'"
      ]
     },
     "execution_count": 104,
     "metadata": {},
     "output_type": "execute_result"
    }
   ],
   "source": [
    "groupe = groupe0.text.strip()\n",
    "groupe"
   ]
  },
  {
   "cell_type": "code",
   "execution_count": 83,
   "id": "e70ce55a-7ac7-47c4-895b-ac14159c4063",
   "metadata": {},
   "outputs": [
    {
     "name": "stdout",
     "output_type": "stream",
     "text": [
      "Libertés, Indépendants, Outre-mer et Territoires - Vosges \n"
     ]
    }
   ],
   "source": [
    "\n",
    "resultat = re.search(r'\\((.*?)\\)', groupe)\n",
    "\n",
    "\n",
    "texte_entre_parentheses = resultat.group(1)\n",
    "print(texte_entre_parentheses)\n",
    "\n"
   ]
  },
  {
   "cell_type": "markdown",
   "id": "b3418680-b499-4eea-8534-82d9fd37eae5",
   "metadata": {},
   "source": [
    "ON POURRAIT FAIRE AVEC DES REGEX"
   ]
  },
  {
   "cell_type": "code",
   "execution_count": 40,
   "id": "6615a7f1-ba2b-4d73-81d2-b732d9a9c637",
   "metadata": {},
   "outputs": [
    {
     "name": "stdout",
     "output_type": "stream",
     "text": [
      "True\n"
     ]
    }
   ],
   "source": [
    "nom = \"Libertés, Indépendants, Outre-mer et Territoires\"\n",
    "print(nom in groupe)"
   ]
  },
  {
   "cell_type": "markdown",
   "id": "7375aaa9-527e-4978-a9fd-80d0f21b6588",
   "metadata": {},
   "source": [
    "### Scrap des groupes de l'assemblée nationale"
   ]
  },
  {
   "cell_type": "code",
   "execution_count": 105,
   "id": "64c8e781-c27c-4207-bedc-cbddcc5ceed3",
   "metadata": {},
   "outputs": [],
   "source": [
    "url = \"https://www.assemblee-nationale.fr/dyn/les-groupes-politiques\"\n",
    "source_code2 = request.urlopen(url).read()\n",
    "\n",
    "page2 = bs4.BeautifulSoup(source_code2)"
   ]
  },
  {
   "cell_type": "code",
   "execution_count": 106,
   "id": "61ef9f68-7ad8-4097-97da-07f708dbc021",
   "metadata": {},
   "outputs": [
    {
     "data": {
      "text/plain": [
       "[<div class=\"block-list--item-wrapper--title\">\n",
       " <span>Renaissance</span>\n",
       " </div>,\n",
       " <div class=\"block-list--item-wrapper--title\">\n",
       " <span>Rassemblement National</span>\n",
       " </div>,\n",
       " <div class=\"block-list--item-wrapper--title\">\n",
       " <span>La France insoumise - Nouvelle Union Populaire écologique et sociale</span>\n",
       " </div>,\n",
       " <div class=\"block-list--item-wrapper--title\">\n",
       " <span>Les Républicains</span>\n",
       " </div>,\n",
       " <div class=\"block-list--item-wrapper--title\">\n",
       " <span>Démocrate (MoDem et Indépendants)</span>\n",
       " </div>,\n",
       " <div class=\"block-list--item-wrapper--title\">\n",
       " <span>Socialistes et apparentés</span>\n",
       " </div>,\n",
       " <div class=\"block-list--item-wrapper--title\">\n",
       " <span>Horizons et apparentés</span>\n",
       " </div>,\n",
       " <div class=\"block-list--item-wrapper--title\">\n",
       " <span>Écologiste - NUPES</span>\n",
       " </div>,\n",
       " <div class=\"block-list--item-wrapper--title\">\n",
       " <span>Gauche démocrate et républicaine - NUPES</span>\n",
       " </div>,\n",
       " <div class=\"block-list--item-wrapper--title\">\n",
       " <span>Libertés, Indépendants, Outre-mer et Territoires</span>\n",
       " </div>,\n",
       " <div class=\"block-list--item-wrapper--title\">\n",
       " <span>Députés non inscrits</span>\n",
       " </div>]"
      ]
     },
     "execution_count": 106,
     "metadata": {},
     "output_type": "execute_result"
    }
   ],
   "source": [
    "groupes0 = page2.findAll(\"div\", {\"class\" : \"block-list--item-wrapper--title\"})\n",
    "groupes0"
   ]
  },
  {
   "cell_type": "code",
   "execution_count": 114,
   "id": "43e125dd-1ba7-4769-9d0a-b0b981706f98",
   "metadata": {},
   "outputs": [
    {
     "data": {
      "text/plain": [
       "{'Renaissance': [],\n",
       " 'Rassemblement National': [],\n",
       " 'La France insoumise - Nouvelle Union Populaire écologique et sociale': [],\n",
       " 'Les Républicains': [],\n",
       " 'Démocrate (MoDem et Indépendants)': [],\n",
       " 'Socialistes et apparentés': [],\n",
       " 'Horizons et apparentés': [],\n",
       " 'Écologiste - NUPES': [],\n",
       " 'Gauche démocrate et républicaine - NUPES': [],\n",
       " 'Libertés, Indépendants, Outre-mer et Territoires': [],\n",
       " 'Députés non inscrits': []}"
      ]
     },
     "execution_count": 114,
     "metadata": {},
     "output_type": "execute_result"
    }
   ],
   "source": [
    "groupes ={ele.text.strip() : [] for ele in groupes0}\n",
    "groupes"
   ]
  },
  {
   "cell_type": "code",
   "execution_count": 94,
   "id": "d5c84c97-6dc6-4c8a-ac3b-febe7c2f18fb",
   "metadata": {},
   "outputs": [
    {
     "data": {
      "text/plain": [
       "{'Renaissance': None,\n",
       " 'Rassemblement National': None,\n",
       " 'La France insoumise - Nouvelle Union Populaire écologique et sociale': None,\n",
       " 'Les Républicains': None,\n",
       " 'Démocrate (MoDem et Indépendants)': None,\n",
       " 'Socialistes et apparentés': None,\n",
       " 'Horizons et apparentés': None,\n",
       " 'Écologiste - NUPES': None,\n",
       " 'Gauche démocrate et républicaine - NUPES': None,\n",
       " 'Libertés, Indépendants, Outre-mer et Territoires': \"M. Christophe Naegelen interroge M. le ministre de l'agriculture et de la souveraineté alimentaire sur le statut particulier des « patous » communément appelés chiens de berger ainsi que sur les dispositifs mis en place pour permettre la cohabitation entre les randonneurs et les patous. Les chiens de berger protègent les troupeaux et ne sont pas considérés comme divaguant lorsqu'ils se trouvent sans laisse et à distance de leur maître depuis la loi n° 2005-157 du 23 février 2005 qui a modifié l'article L. 211-23 du code rural. Désormais, la loi libère « de toute poursuite pénale pour divagation, l'éleveur ou le propriétaire d'un chien affecté à la protection du troupeau (« patous ») ou à la garde de celui-ci (chien de conduite) ». Des études ont montré que les patous ne sont pas dangereux pour les hommes, ces chiens sont dressés pour dissuader et non pour blesser. Néanmoins, des cas d'agressions sont recensés et une forte part des randonneurs sont inquiets de croiser ces chiens. Des panneaux d'informations sont présents en montagne pour prévenir les promeneurs et leur donner les consignes à suivre en cas de présence des « patous ». Cependant, la période estivale qui arrive laisse présager une forte affluence de randonneurs dans les Hautes-Vosges ainsi que dans tous les massifs français. C'est pourquoi intensifier la prévention et l'installation de panneaux d'information dès lors que les randonneurs entrent dans une zone dans laquelle les « patous » sont présents semble être opportun. Il l'interpelle sur le développement de dispositifs permettant une meilleure cohabitation des randonneurs et des « patous », afin d'articuler les problématiques touchant à la protection des agriculteurs et celles relatives la protection de l'environnement.\",\n",
       " 'Députés non inscrits': None}"
      ]
     },
     "execution_count": 94,
     "metadata": {},
     "output_type": "execute_result"
    }
   ],
   "source": [
    "for g in groupes : \n",
    "    if g in groupe :\n",
    "        groupes[g] = question\n",
    "groupes"
   ]
  },
  {
   "cell_type": "code",
   "execution_count": null,
   "id": "a6620120-c3fe-4ecd-ad45-c7acc2762307",
   "metadata": {},
   "outputs": [],
   "source": []
  },
  {
   "cell_type": "markdown",
   "id": "ca1c4144-eeb2-45af-9f8d-257fc8205429",
   "metadata": {},
   "source": [
    "# On regarde pour plein de questions : "
   ]
  },
  {
   "cell_type": "code",
   "execution_count": null,
   "id": "6fe9212f-30df-4bea-950e-beceabe0b1fa",
   "metadata": {},
   "outputs": [],
   "source": []
  },
  {
   "cell_type": "code",
   "execution_count": 117,
   "id": "ed5ec1ec-8ec6-46ea-9b97-6f93f9504eb0",
   "metadata": {},
   "outputs": [],
   "source": [
    "for k in range(1,5):\n",
    "    source_code = request.urlopen(pageurl(k)).read()\n",
    "    page = bs4.BeautifulSoup(source_code)\n",
    "    question0 = page.find(\"div\", {\"class\" : \"question\"})\n",
    "    question = question0.find(\"p\")\n",
    "    question = question.text.strip()\n",
    "    groupe0 = page.find(\"div\", {\"id\" : \"question_col80\"})\n",
    "    groupe = groupe0.text.strip()\n",
    "    for g in groupes : \n",
    "        if g in groupe :\n",
    "            groupes[g].append(question)\n",
    "\n"
   ]
  },
  {
   "cell_type": "code",
   "execution_count": null,
   "id": "a5a967f2-d1c9-45ab-b074-109110bf2af0",
   "metadata": {},
   "outputs": [],
   "source": []
  },
  {
   "cell_type": "markdown",
   "id": "aa543d85-4176-47bc-a5b6-4b968dd4471e",
   "metadata": {
    "jupyter": {
     "source_hidden": true
    }
   },
   "source": [
    "# Mise en forme dans des dataframes"
   ]
  },
  {
   "cell_type": "code",
   "execution_count": 118,
   "id": "349b897d-882d-4905-997b-6f51891b7e99",
   "metadata": {
    "jupyter": {
     "source_hidden": true
    }
   },
   "outputs": [],
   "source": [
    "import pandas as pd"
   ]
  },
  {
   "cell_type": "code",
   "execution_count": null,
   "id": "9b32d658-edeb-40e2-a11c-e8a0b7b3b9eb",
   "metadata": {},
   "outputs": [],
   "source": [
    "dfQuestions = pd.dataframe(\n",
    "        {\n",
    "            \"id\"  : [],\n",
    "            \"Groupe Parlementaire\" : [],\n",
    "        }\n",
    "    "
   ]
  },
  {
   "cell_type": "code",
   "execution_count": null,
   "id": "a928f1a2-ae41-494e-a92e-2556f3ed1aa0",
   "metadata": {},
   "outputs": [],
   "source": []
  }
 ],
 "metadata": {
  "kernelspec": {
   "display_name": "Python 3 (ipykernel)",
   "language": "python",
   "name": "python3"
  },
  "language_info": {
   "codemirror_mode": {
    "name": "ipython",
    "version": 3
   },
   "file_extension": ".py",
   "mimetype": "text/x-python",
   "name": "python",
   "nbconvert_exporter": "python",
   "pygments_lexer": "ipython3",
   "version": "3.10.13"
  }
 },
 "nbformat": 4,
 "nbformat_minor": 5
}
