{
 "cells": [
  {
   "cell_type": "markdown",
   "id": "8b2d2dfc-5caa-4bc6-948f-3d352069d8d7",
   "metadata": {},
   "source": [
    "# Cleaning du DF obtenu"
   ]
  },
  {
   "cell_type": "raw",
   "id": "64db7e61-4e10-47d3-bdf2-6bac927556de",
   "metadata": {},
   "source": [
    "Comme dans les TD du cours, on rend les données exploitables par un modèle de NLP. \n"
   ]
  },
  {
   "cell_type": "markdown",
   "id": "2ab1b856-096a-43bb-aab5-353ee7fbabef",
   "metadata": {},
   "source": [
    "## Installations\n"
   ]
  },
  {
   "cell_type": "code",
   "execution_count": null,
   "id": "215b455b-78e0-4a62-b54a-794346878354",
   "metadata": {},
   "outputs": [],
   "source": [
    "!pip install spacy \n",
    "!python -m spacy download fr_core_news_sm"
   ]
  },
  {
   "cell_type": "code",
   "execution_count": null,
   "id": "044f7603-21c0-41bb-9a18-4c8dc7640596",
   "metadata": {},
   "outputs": [],
   "source": []
  },
  {
   "cell_type": "markdown",
   "id": "d958411c-c7d1-4d0d-ac5f-8b3d76aae1e5",
   "metadata": {},
   "source": [
    "## Data "
   ]
  },
  {
   "cell_type": "code",
   "execution_count": 12,
   "id": "11b759bd-52ee-4ae0-b274-7c04debbcc5c",
   "metadata": {},
   "outputs": [],
   "source": [
    "import spacy\n",
    "nlp = spacy.load('fr_core_news_sm')\n",
    "\n",
    "def clean_docs(texts, remove_stopwords=True, n_process = 4):\n",
    "    \n",
    "    docs = nlp.pipe(texts, \n",
    "                    n_process=n_process,\n",
    "                    disable=['parser', 'ner', 'textcat'])\n",
    "    stopwords = nlp.Defaults.stop_words + ['m.','mme','ministre']\n",
    "\n",
    "    docs_cleaned = []\n",
    "    for doc in docs:\n",
    "        tokens = [tok.text.lower().strip() for tok in doc if not tok.is_punct]\n",
    "        if remove_stopwords:\n",
    "            tokens = [tok for tok in tokens if tok not in stopwords]\n",
    "        doc_clean = ' '.join(tokens)\n",
    "        docs_cleaned.append(doc_clean)\n",
    "        \n",
    "    return docs_cleaned"
   ]
  },
  {
   "cell_type": "code",
   "execution_count": 14,
   "id": "7d9f54fe-4fae-4287-b88c-84b51c219c98",
   "metadata": {},
   "outputs": [
    {
     "data": {
      "text/html": [
       "<div>\n",
       "<style scoped>\n",
       "    .dataframe tbody tr th:only-of-type {\n",
       "        vertical-align: middle;\n",
       "    }\n",
       "\n",
       "    .dataframe tbody tr th {\n",
       "        vertical-align: top;\n",
       "    }\n",
       "\n",
       "    .dataframe thead th {\n",
       "        text-align: right;\n",
       "    }\n",
       "</style>\n",
       "<table border=\"1\" class=\"dataframe\">\n",
       "  <thead>\n",
       "    <tr style=\"text-align: right;\">\n",
       "      <th></th>\n",
       "      <th>id</th>\n",
       "      <th>text</th>\n",
       "      <th>author</th>\n",
       "      <th>text_clean</th>\n",
       "    </tr>\n",
       "  </thead>\n",
       "  <tbody>\n",
       "    <tr>\n",
       "      <th>0</th>\n",
       "      <td>id26305</td>\n",
       "      <td>This process, however, afforded me no means of...</td>\n",
       "      <td>EAP</td>\n",
       "      <td>process afforded means ascertaining dimensions...</td>\n",
       "    </tr>\n",
       "    <tr>\n",
       "      <th>1</th>\n",
       "      <td>id17569</td>\n",
       "      <td>It never once occurred to me that the fumbling...</td>\n",
       "      <td>HPL</td>\n",
       "      <td>occurred fumbling mere mistake</td>\n",
       "    </tr>\n",
       "    <tr>\n",
       "      <th>2</th>\n",
       "      <td>id11008</td>\n",
       "      <td>In his left hand was a gold snuff box, from wh...</td>\n",
       "      <td>EAP</td>\n",
       "      <td>left hand gold snuff box capered hill cutting ...</td>\n",
       "    </tr>\n",
       "    <tr>\n",
       "      <th>3</th>\n",
       "      <td>id27763</td>\n",
       "      <td>How lovely is spring As we looked from Windsor...</td>\n",
       "      <td>MWS</td>\n",
       "      <td>lovely spring looked windsor terrace sixteen f...</td>\n",
       "    </tr>\n",
       "    <tr>\n",
       "      <th>4</th>\n",
       "      <td>id12958</td>\n",
       "      <td>Finding nothing else, not even gold, the Super...</td>\n",
       "      <td>HPL</td>\n",
       "      <td>finding gold superintendent abandoned attempts...</td>\n",
       "    </tr>\n",
       "  </tbody>\n",
       "</table>\n",
       "</div>"
      ],
      "text/plain": [
       "        id                                               text author  \\\n",
       "0  id26305  This process, however, afforded me no means of...    EAP   \n",
       "1  id17569  It never once occurred to me that the fumbling...    HPL   \n",
       "2  id11008  In his left hand was a gold snuff box, from wh...    EAP   \n",
       "3  id27763  How lovely is spring As we looked from Windsor...    MWS   \n",
       "4  id12958  Finding nothing else, not even gold, the Super...    HPL   \n",
       "\n",
       "                                          text_clean  \n",
       "0  process afforded means ascertaining dimensions...  \n",
       "1                     occurred fumbling mere mistake  \n",
       "2  left hand gold snuff box capered hill cutting ...  \n",
       "3  lovely spring looked windsor terrace sixteen f...  \n",
       "4  finding gold superintendent abandoned attempts...  "
      ]
     },
     "execution_count": 14,
     "metadata": {},
     "output_type": "execute_result"
    }
   ],
   "source": [
    "dfQuestions['Question_clean'] = clean_docs(dfQuestions['Question'])\n",
    "dfQuestions.head()"
   ]
  }
 ],
 "metadata": {
  "kernelspec": {
   "display_name": "Python 3 (ipykernel)",
   "language": "python",
   "name": "python3"
  },
  "language_info": {
   "codemirror_mode": {
    "name": "ipython",
    "version": 3
   },
   "file_extension": ".py",
   "mimetype": "text/x-python",
   "name": "python",
   "nbconvert_exporter": "python",
   "pygments_lexer": "ipython3",
   "version": "3.10.13"
  }
 },
 "nbformat": 4,
 "nbformat_minor": 5
}
